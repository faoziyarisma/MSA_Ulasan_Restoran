{
  "nbformat": 4,
  "nbformat_minor": 0,
  "metadata": {
    "colab": {
      "provenance": []
    },
    "kernelspec": {
      "name": "python3",
      "display_name": "Python 3"
    },
    "language_info": {
      "name": "python"
    }
  },
  "cells": [
    {
      "cell_type": "markdown",
      "source": [
        "## Import Library"
      ],
      "metadata": {
        "id": "4ZxT7JIN753H"
      }
    },
    {
      "cell_type": "code",
      "source": [
        "# Packages for EDA (Exploratory Data Analyst)\n",
        "import pandas as pd\n",
        "import numpy as np\n",
        "\n",
        "# Load Data from drive\n",
        "from google.colab import drive\n",
        "\n",
        "# For random data for data with rating 4/5\n",
        "import random\n",
        "\n",
        "# For read file in folder\n",
        "import glob"
      ],
      "metadata": {
        "id": "daaOKoDW8BOv"
      },
      "execution_count": null,
      "outputs": []
    },
    {
      "cell_type": "markdown",
      "source": [
        "## Load and Read Data"
      ],
      "metadata": {
        "id": "Sp9rLFaZ8sDV"
      }
    },
    {
      "cell_type": "code",
      "source": [
        "# Connect to drive\n",
        "drive.mount('/content/drive')"
      ],
      "metadata": {
        "colab": {
          "base_uri": "https://localhost:8080/"
        },
        "id": "mNidI5HP8nSZ",
        "outputId": "dd17bb68-879b-4113-8da7-52e658247203"
      },
      "execution_count": null,
      "outputs": [
        {
          "output_type": "stream",
          "name": "stdout",
          "text": [
            "Mounted at /content/drive\n"
          ]
        }
      ]
    },
    {
      "cell_type": "markdown",
      "source": [
        "## Define Path Folder"
      ],
      "metadata": {
        "id": "Bt8k1-_qJxLW"
      }
    },
    {
      "cell_type": "code",
      "source": [
        "## Restoran Lokal\n",
        "### Mahal\n",
        "path_file_restoran_lokal_mahal = '/content/drive/My Drive/Skripsi/Data_Teks_Gambar/Lokal/Mahal/'\n",
        "\n",
        "### Murah\n",
        "path_file_restoran_lokal_murah = '/content/drive/My Drive/Skripsi/Data_Teks_Gambar/Lokal/Murah/'\n",
        "\n",
        "## Restoran Mancanegara\n",
        "### Jepang\n",
        "path_file_restoran_mancanegara_jepang = '/content/drive/My Drive/Skripsi/Data_Teks_Gambar/Mancanegara/Jepang/'\n",
        "\n",
        "### China\n",
        "path_file_restoran_mancanegara_china = '/content/drive/My Drive/Skripsi/Data_Teks_Gambar/Mancanegara/China/'\n",
        "\n",
        "### Korea\n",
        "path_file_restoran_mancanegara_korea = '/content/drive/My Drive/Skripsi/Data_Teks_Gambar/Mancanegara/Korea/'\n",
        "\n",
        "### Barat\n",
        "path_file_restoran_mancanegara_barat = '/content/drive/My Drive/Skripsi/Data_Teks_Gambar/Mancanegara/Barat/'\n",
        "\n",
        "\n",
        "## Restoran Seafood\n",
        "### Mahal\n",
        "path_file_restoran_seafood_mahal = '/content/drive/My Drive/Skripsi/Data_Teks_Gambar/Seafood/Mahal/'\n",
        "\n",
        "### Murah\n",
        "path_file_restoran_seafood_murah = '/content/drive/My Drive/Skripsi/Data_Teks_Gambar/Seafood/Murah/'\n"
      ],
      "metadata": {
        "id": "pJI7kvMdJwgW"
      },
      "execution_count": null,
      "outputs": []
    },
    {
      "cell_type": "markdown",
      "source": [
        "## Read File in Folder"
      ],
      "metadata": {
        "id": "WYWjbMNSLRgE"
      }
    },
    {
      "cell_type": "code",
      "source": [
        "#import the modules\n",
        "import os\n",
        "import pandas as pd\n",
        "# name file\n",
        "data_name = 'seafood_murah'\n",
        "# number random\n",
        "num_random = 150\n",
        "#read the path\n",
        "file_path = path_file_restoran_seafood_murah\n",
        "#list all the files from the directory\n",
        "file_list = os.listdir(file_path)\n",
        "file_list"
      ],
      "metadata": {
        "colab": {
          "base_uri": "https://localhost:8080/"
        },
        "id": "F1y9agQoPZa9",
        "outputId": "138b537c-ca3b-4108-fdb9-9f1f81a84acc"
      },
      "execution_count": null,
      "outputs": [
        {
          "output_type": "execute_result",
          "data": {
            "text/plain": [
              "['data_cabe_ijo_live_seafood_14_0_0.xlsx',\n",
              " 'data_dcost_seafood_palembang_hr_0_1_2.xlsx',\n",
              " 'data_dcost_seafood_palembang_lr_4_1_2.xlsx',\n",
              " 'data_ikan_bakar_cianjur_hr_20_0_0.xlsx',\n",
              " 'data_ikan_bakar_cianjur_lr_51_15_2.xlsx',\n",
              " 'data_ikan_bakar_djonikun_lr_5_3_1.xlsx',\n",
              " 'data_ikan_bakar_yayat_2_hr_12_0_0.xlsx',\n",
              " 'data_ikan_bakar_yayat_2_lr_7_4_0.xlsx',\n",
              " 'data_kampung_seafood_hr_5_0_0.xlsx',\n",
              " 'data_kampung_seafood_lr_3_4_3.xlsx',\n",
              " 'data_kepiting_cak_gundul_hr_20_0_0.xlsx',\n",
              " 'data_kepiting_cak_gundul_lr_14_6_4.xlsx',\n",
              " 'data_kepiting_house_angkatan_45_hr_7_0_0.xlsx',\n",
              " 'data_kepiting_house_angkatan_45_lr_3_1_1.xlsx',\n",
              " 'data_lesehan_lombok_ijo_3_hr_6_0_0.xlsx',\n",
              " 'data_lesehan_lombok_ijo_3_lr_6_2_2.xlsx',\n",
              " 'data_mr_crab_seafood_lr_7_0_1.xlsx',\n",
              " 'data_new_dinar_seafood_hr_16_0_0.xlsx',\n",
              " 'data_new_dinar_seafood_lr_11_6_4.xlsx',\n",
              " 'data_parit_9_seafood_hr_17_0_0.xlsx',\n",
              " 'data_pondok_sedap_malam_4_1_0.xlsx',\n",
              " 'data_rm_nelayan_hr_19_0_0.xlsx',\n",
              " 'data_rm_nelayan_lr_18_4_2.xlsx',\n",
              " 'data_rumah_makan_taman_new_aroma_lr_13_4_6.xlsx',\n",
              " 'data_seafood_68_santa_lr_0_11_5.xlsx',\n",
              " 'data_seafood_bu_ratna_12_0_1.xlsx',\n",
              " 'data_seafood_pak_jari_19_4_2.xlsx',\n",
              " 'data_seafood_pak_sangklak_48_3_4.xlsx',\n",
              " 'data_sentosa_seafood_palembang_hr_18_0_0.xlsx',\n",
              " 'data_sentosa_seafood_palembang_lr_5_0_2.xlsx',\n",
              " 'data_the_holy_crab_lr_21_5_2.xlsx',\n",
              " 'data_artomoro_seafood_hr_18_0_0.xlsx',\n",
              " 'data_artomoro_seafood_lr_0_6_5.xlsx',\n",
              " 'data_asui_seafood_hr_17_0_0.xlsx',\n",
              " 'data_asui_seafood_lr_8_14_4.xlsx',\n",
              " 'data_ikan_bakar_bang_jaja_seafood_genteng_2_hr_16_0_0.xlsx',\n",
              " 'data_ikan_bakar_bang_jaja_seafood_genteng_2_lr_0_18_6.xlsx',\n",
              " 'data_jimbaran_resto_cirebon_hr_3_0_0.xlsx',\n",
              " 'data_jimbaran_resto_cirebon_lr_2_1_2.xlsx',\n",
              " 'data_sari_laut_kapasan_hr_14_0_0.xlsx',\n",
              " 'data_sari_laut_kapasan_lr_0_12_2.xlsx',\n",
              " 'data_seafood_genteng_bang_jaja_hr_13_0_0.xlsx',\n",
              " 'data_seafood_genteng_bang_jaja_lr_0_3_4.xlsx',\n",
              " 'data_seafood_pak_purwanto_hr_15_0_0.xlsx',\n",
              " 'data_seafood_pak_purwanto_lr_0_8_3.xlsx',\n",
              " 'data_ikan_bakar_kinamang_hr_11_0_0.xlsx',\n",
              " 'data_ikan_bakar_kinamang_lr_0_0_3.xlsx',\n",
              " 'data_sn_hr_10_0_0.xlsx',\n",
              " 'data_sn_lr_0_1_4.xlsx',\n",
              " 'data_warung_mami_ikan_bakar_lr_0_5_0.xlsx',\n",
              " 'data_warung_mami_ikan_bakar_hr_10_0_0.xlsx',\n",
              " 'data_kuliner_seafood_kampung_solor_hr_10_0_0.xlsx',\n",
              " 'data_kuliner_seafood_kampung_solor_lr_0_8_5.xlsx',\n",
              " 'data_suka_ramai_seafood_lr_0_5_1.xlsx',\n",
              " 'data_suka_ramai_seafood_hr_10_0_0.xlsx',\n",
              " 'data_hdl_293_seafood_lr_0_0_11.xlsx',\n",
              " 'data_dabu_dabu_lemong_lr_0_10_7.xlsx',\n",
              " 'data_dabu_dabu_lemong_hr_9_0_0.xlsx',\n",
              " 'data_kerang_kiolan_cipete_lr_0_3_2.xlsx',\n",
              " 'data_kerang_kiolan_cipete_hr_10_0_0.xlsx',\n",
              " 'data_saefood_ade_fani_67_manggarai_lr_0_11_7.xlsx',\n",
              " 'data_saefood_ade_fani_67_manggarai_hr_10_0_0.xlsx',\n",
              " 'data_seafood_kiloan_bang_bopak_pusat_katamso_lr_0_19_3.xlsx',\n",
              " 'data_seafood_kiloan_bang_bopak_pusat_katamso_hr_10_0_0.xlsx',\n",
              " 'data_banda_saefood_lr_10_8_5.xlsx',\n",
              " 'data_banda_saefood_hr_10_0_0.xlsx',\n",
              " 'data_city_extra_lr_5_12_3.xlsx',\n",
              " 'data_city_extra_hr_8_0_0.xlsx',\n",
              " 'data_kurnia_seafood_semarang_hr_10_0_0.xlsx',\n",
              " 'data_tuna_house_megamas_lr_0_4_2.xlsx',\n",
              " 'data_tuna_house_megamas_hr_10_0_0.xlsx',\n",
              " 'data_taman_santap_rumah_kayu_lr_0_9_11.xlsx',\n",
              " 'data_saefood_ayu_lr_0_1_9.xlsx',\n",
              " 'data_indah_seafood_94_lr_0_2_4.xlsx',\n",
              " 'data_rumah_lobster_depok_lr_0_0_3.xlsx']"
            ]
          },
          "metadata": {},
          "execution_count": 24
        }
      ]
    },
    {
      "cell_type": "code",
      "source": [
        "df_append = pd.DataFrame()\n",
        "#append all files together\n",
        "for file in file_list:\n",
        "            file_name = file_path + file\n",
        "            df_temp = pd.read_excel(file_name)\n",
        "            df_append = df_append.append(df_temp, ignore_index=True)\n",
        "df_append"
      ],
      "metadata": {
        "colab": {
          "base_uri": "https://localhost:8080/",
          "height": 1000
        },
        "id": "Gp0T-ct9P8SQ",
        "outputId": "2999cc93-bf9f-434a-9ec5-3724d949f0a2"
      },
      "execution_count": null,
      "outputs": [
        {
          "output_type": "stream",
          "name": "stderr",
          "text": [
            "<ipython-input-25-eafd47446610>:6: FutureWarning: The frame.append method is deprecated and will be removed from pandas in a future version. Use pandas.concat instead.\n",
            "  df_append = df_append.append(df_temp, ignore_index=True)\n",
            "<ipython-input-25-eafd47446610>:6: FutureWarning: The frame.append method is deprecated and will be removed from pandas in a future version. Use pandas.concat instead.\n",
            "  df_append = df_append.append(df_temp, ignore_index=True)\n",
            "<ipython-input-25-eafd47446610>:6: FutureWarning: The frame.append method is deprecated and will be removed from pandas in a future version. Use pandas.concat instead.\n",
            "  df_append = df_append.append(df_temp, ignore_index=True)\n",
            "<ipython-input-25-eafd47446610>:6: FutureWarning: The frame.append method is deprecated and will be removed from pandas in a future version. Use pandas.concat instead.\n",
            "  df_append = df_append.append(df_temp, ignore_index=True)\n",
            "<ipython-input-25-eafd47446610>:6: FutureWarning: The frame.append method is deprecated and will be removed from pandas in a future version. Use pandas.concat instead.\n",
            "  df_append = df_append.append(df_temp, ignore_index=True)\n",
            "<ipython-input-25-eafd47446610>:6: FutureWarning: The frame.append method is deprecated and will be removed from pandas in a future version. Use pandas.concat instead.\n",
            "  df_append = df_append.append(df_temp, ignore_index=True)\n",
            "<ipython-input-25-eafd47446610>:6: FutureWarning: The frame.append method is deprecated and will be removed from pandas in a future version. Use pandas.concat instead.\n",
            "  df_append = df_append.append(df_temp, ignore_index=True)\n",
            "<ipython-input-25-eafd47446610>:6: FutureWarning: The frame.append method is deprecated and will be removed from pandas in a future version. Use pandas.concat instead.\n",
            "  df_append = df_append.append(df_temp, ignore_index=True)\n",
            "<ipython-input-25-eafd47446610>:6: FutureWarning: The frame.append method is deprecated and will be removed from pandas in a future version. Use pandas.concat instead.\n",
            "  df_append = df_append.append(df_temp, ignore_index=True)\n",
            "<ipython-input-25-eafd47446610>:6: FutureWarning: The frame.append method is deprecated and will be removed from pandas in a future version. Use pandas.concat instead.\n",
            "  df_append = df_append.append(df_temp, ignore_index=True)\n",
            "<ipython-input-25-eafd47446610>:6: FutureWarning: The frame.append method is deprecated and will be removed from pandas in a future version. Use pandas.concat instead.\n",
            "  df_append = df_append.append(df_temp, ignore_index=True)\n",
            "<ipython-input-25-eafd47446610>:6: FutureWarning: The frame.append method is deprecated and will be removed from pandas in a future version. Use pandas.concat instead.\n",
            "  df_append = df_append.append(df_temp, ignore_index=True)\n",
            "<ipython-input-25-eafd47446610>:6: FutureWarning: The frame.append method is deprecated and will be removed from pandas in a future version. Use pandas.concat instead.\n",
            "  df_append = df_append.append(df_temp, ignore_index=True)\n",
            "<ipython-input-25-eafd47446610>:6: FutureWarning: The frame.append method is deprecated and will be removed from pandas in a future version. Use pandas.concat instead.\n",
            "  df_append = df_append.append(df_temp, ignore_index=True)\n",
            "<ipython-input-25-eafd47446610>:6: FutureWarning: The frame.append method is deprecated and will be removed from pandas in a future version. Use pandas.concat instead.\n",
            "  df_append = df_append.append(df_temp, ignore_index=True)\n",
            "<ipython-input-25-eafd47446610>:6: FutureWarning: The frame.append method is deprecated and will be removed from pandas in a future version. Use pandas.concat instead.\n",
            "  df_append = df_append.append(df_temp, ignore_index=True)\n",
            "<ipython-input-25-eafd47446610>:6: FutureWarning: The frame.append method is deprecated and will be removed from pandas in a future version. Use pandas.concat instead.\n",
            "  df_append = df_append.append(df_temp, ignore_index=True)\n",
            "<ipython-input-25-eafd47446610>:6: FutureWarning: The frame.append method is deprecated and will be removed from pandas in a future version. Use pandas.concat instead.\n",
            "  df_append = df_append.append(df_temp, ignore_index=True)\n",
            "<ipython-input-25-eafd47446610>:6: FutureWarning: The frame.append method is deprecated and will be removed from pandas in a future version. Use pandas.concat instead.\n",
            "  df_append = df_append.append(df_temp, ignore_index=True)\n",
            "<ipython-input-25-eafd47446610>:6: FutureWarning: The frame.append method is deprecated and will be removed from pandas in a future version. Use pandas.concat instead.\n",
            "  df_append = df_append.append(df_temp, ignore_index=True)\n",
            "<ipython-input-25-eafd47446610>:6: FutureWarning: The frame.append method is deprecated and will be removed from pandas in a future version. Use pandas.concat instead.\n",
            "  df_append = df_append.append(df_temp, ignore_index=True)\n",
            "<ipython-input-25-eafd47446610>:6: FutureWarning: The frame.append method is deprecated and will be removed from pandas in a future version. Use pandas.concat instead.\n",
            "  df_append = df_append.append(df_temp, ignore_index=True)\n",
            "<ipython-input-25-eafd47446610>:6: FutureWarning: The frame.append method is deprecated and will be removed from pandas in a future version. Use pandas.concat instead.\n",
            "  df_append = df_append.append(df_temp, ignore_index=True)\n",
            "<ipython-input-25-eafd47446610>:6: FutureWarning: The frame.append method is deprecated and will be removed from pandas in a future version. Use pandas.concat instead.\n",
            "  df_append = df_append.append(df_temp, ignore_index=True)\n",
            "<ipython-input-25-eafd47446610>:6: FutureWarning: The frame.append method is deprecated and will be removed from pandas in a future version. Use pandas.concat instead.\n",
            "  df_append = df_append.append(df_temp, ignore_index=True)\n",
            "<ipython-input-25-eafd47446610>:6: FutureWarning: The frame.append method is deprecated and will be removed from pandas in a future version. Use pandas.concat instead.\n",
            "  df_append = df_append.append(df_temp, ignore_index=True)\n",
            "<ipython-input-25-eafd47446610>:6: FutureWarning: The frame.append method is deprecated and will be removed from pandas in a future version. Use pandas.concat instead.\n",
            "  df_append = df_append.append(df_temp, ignore_index=True)\n",
            "<ipython-input-25-eafd47446610>:6: FutureWarning: The frame.append method is deprecated and will be removed from pandas in a future version. Use pandas.concat instead.\n",
            "  df_append = df_append.append(df_temp, ignore_index=True)\n",
            "<ipython-input-25-eafd47446610>:6: FutureWarning: The frame.append method is deprecated and will be removed from pandas in a future version. Use pandas.concat instead.\n",
            "  df_append = df_append.append(df_temp, ignore_index=True)\n",
            "<ipython-input-25-eafd47446610>:6: FutureWarning: The frame.append method is deprecated and will be removed from pandas in a future version. Use pandas.concat instead.\n",
            "  df_append = df_append.append(df_temp, ignore_index=True)\n",
            "<ipython-input-25-eafd47446610>:6: FutureWarning: The frame.append method is deprecated and will be removed from pandas in a future version. Use pandas.concat instead.\n",
            "  df_append = df_append.append(df_temp, ignore_index=True)\n",
            "<ipython-input-25-eafd47446610>:6: FutureWarning: The frame.append method is deprecated and will be removed from pandas in a future version. Use pandas.concat instead.\n",
            "  df_append = df_append.append(df_temp, ignore_index=True)\n",
            "<ipython-input-25-eafd47446610>:6: FutureWarning: The frame.append method is deprecated and will be removed from pandas in a future version. Use pandas.concat instead.\n",
            "  df_append = df_append.append(df_temp, ignore_index=True)\n",
            "<ipython-input-25-eafd47446610>:6: FutureWarning: The frame.append method is deprecated and will be removed from pandas in a future version. Use pandas.concat instead.\n",
            "  df_append = df_append.append(df_temp, ignore_index=True)\n",
            "<ipython-input-25-eafd47446610>:6: FutureWarning: The frame.append method is deprecated and will be removed from pandas in a future version. Use pandas.concat instead.\n",
            "  df_append = df_append.append(df_temp, ignore_index=True)\n",
            "<ipython-input-25-eafd47446610>:6: FutureWarning: The frame.append method is deprecated and will be removed from pandas in a future version. Use pandas.concat instead.\n",
            "  df_append = df_append.append(df_temp, ignore_index=True)\n",
            "<ipython-input-25-eafd47446610>:6: FutureWarning: The frame.append method is deprecated and will be removed from pandas in a future version. Use pandas.concat instead.\n",
            "  df_append = df_append.append(df_temp, ignore_index=True)\n",
            "<ipython-input-25-eafd47446610>:6: FutureWarning: The frame.append method is deprecated and will be removed from pandas in a future version. Use pandas.concat instead.\n",
            "  df_append = df_append.append(df_temp, ignore_index=True)\n",
            "<ipython-input-25-eafd47446610>:6: FutureWarning: The frame.append method is deprecated and will be removed from pandas in a future version. Use pandas.concat instead.\n",
            "  df_append = df_append.append(df_temp, ignore_index=True)\n",
            "<ipython-input-25-eafd47446610>:6: FutureWarning: The frame.append method is deprecated and will be removed from pandas in a future version. Use pandas.concat instead.\n",
            "  df_append = df_append.append(df_temp, ignore_index=True)\n",
            "<ipython-input-25-eafd47446610>:6: FutureWarning: The frame.append method is deprecated and will be removed from pandas in a future version. Use pandas.concat instead.\n",
            "  df_append = df_append.append(df_temp, ignore_index=True)\n",
            "<ipython-input-25-eafd47446610>:6: FutureWarning: The frame.append method is deprecated and will be removed from pandas in a future version. Use pandas.concat instead.\n",
            "  df_append = df_append.append(df_temp, ignore_index=True)\n",
            "<ipython-input-25-eafd47446610>:6: FutureWarning: The frame.append method is deprecated and will be removed from pandas in a future version. Use pandas.concat instead.\n",
            "  df_append = df_append.append(df_temp, ignore_index=True)\n",
            "<ipython-input-25-eafd47446610>:6: FutureWarning: The frame.append method is deprecated and will be removed from pandas in a future version. Use pandas.concat instead.\n",
            "  df_append = df_append.append(df_temp, ignore_index=True)\n",
            "<ipython-input-25-eafd47446610>:6: FutureWarning: The frame.append method is deprecated and will be removed from pandas in a future version. Use pandas.concat instead.\n",
            "  df_append = df_append.append(df_temp, ignore_index=True)\n",
            "<ipython-input-25-eafd47446610>:6: FutureWarning: The frame.append method is deprecated and will be removed from pandas in a future version. Use pandas.concat instead.\n",
            "  df_append = df_append.append(df_temp, ignore_index=True)\n",
            "<ipython-input-25-eafd47446610>:6: FutureWarning: The frame.append method is deprecated and will be removed from pandas in a future version. Use pandas.concat instead.\n",
            "  df_append = df_append.append(df_temp, ignore_index=True)\n",
            "<ipython-input-25-eafd47446610>:6: FutureWarning: The frame.append method is deprecated and will be removed from pandas in a future version. Use pandas.concat instead.\n",
            "  df_append = df_append.append(df_temp, ignore_index=True)\n",
            "<ipython-input-25-eafd47446610>:6: FutureWarning: The frame.append method is deprecated and will be removed from pandas in a future version. Use pandas.concat instead.\n",
            "  df_append = df_append.append(df_temp, ignore_index=True)\n",
            "<ipython-input-25-eafd47446610>:6: FutureWarning: The frame.append method is deprecated and will be removed from pandas in a future version. Use pandas.concat instead.\n",
            "  df_append = df_append.append(df_temp, ignore_index=True)\n",
            "<ipython-input-25-eafd47446610>:6: FutureWarning: The frame.append method is deprecated and will be removed from pandas in a future version. Use pandas.concat instead.\n",
            "  df_append = df_append.append(df_temp, ignore_index=True)\n",
            "<ipython-input-25-eafd47446610>:6: FutureWarning: The frame.append method is deprecated and will be removed from pandas in a future version. Use pandas.concat instead.\n",
            "  df_append = df_append.append(df_temp, ignore_index=True)\n",
            "<ipython-input-25-eafd47446610>:6: FutureWarning: The frame.append method is deprecated and will be removed from pandas in a future version. Use pandas.concat instead.\n",
            "  df_append = df_append.append(df_temp, ignore_index=True)\n",
            "<ipython-input-25-eafd47446610>:6: FutureWarning: The frame.append method is deprecated and will be removed from pandas in a future version. Use pandas.concat instead.\n",
            "  df_append = df_append.append(df_temp, ignore_index=True)\n",
            "<ipython-input-25-eafd47446610>:6: FutureWarning: The frame.append method is deprecated and will be removed from pandas in a future version. Use pandas.concat instead.\n",
            "  df_append = df_append.append(df_temp, ignore_index=True)\n",
            "<ipython-input-25-eafd47446610>:6: FutureWarning: The frame.append method is deprecated and will be removed from pandas in a future version. Use pandas.concat instead.\n",
            "  df_append = df_append.append(df_temp, ignore_index=True)\n",
            "<ipython-input-25-eafd47446610>:6: FutureWarning: The frame.append method is deprecated and will be removed from pandas in a future version. Use pandas.concat instead.\n",
            "  df_append = df_append.append(df_temp, ignore_index=True)\n",
            "<ipython-input-25-eafd47446610>:6: FutureWarning: The frame.append method is deprecated and will be removed from pandas in a future version. Use pandas.concat instead.\n",
            "  df_append = df_append.append(df_temp, ignore_index=True)\n",
            "<ipython-input-25-eafd47446610>:6: FutureWarning: The frame.append method is deprecated and will be removed from pandas in a future version. Use pandas.concat instead.\n",
            "  df_append = df_append.append(df_temp, ignore_index=True)\n",
            "<ipython-input-25-eafd47446610>:6: FutureWarning: The frame.append method is deprecated and will be removed from pandas in a future version. Use pandas.concat instead.\n",
            "  df_append = df_append.append(df_temp, ignore_index=True)\n",
            "<ipython-input-25-eafd47446610>:6: FutureWarning: The frame.append method is deprecated and will be removed from pandas in a future version. Use pandas.concat instead.\n",
            "  df_append = df_append.append(df_temp, ignore_index=True)\n",
            "<ipython-input-25-eafd47446610>:6: FutureWarning: The frame.append method is deprecated and will be removed from pandas in a future version. Use pandas.concat instead.\n",
            "  df_append = df_append.append(df_temp, ignore_index=True)\n",
            "<ipython-input-25-eafd47446610>:6: FutureWarning: The frame.append method is deprecated and will be removed from pandas in a future version. Use pandas.concat instead.\n",
            "  df_append = df_append.append(df_temp, ignore_index=True)\n",
            "<ipython-input-25-eafd47446610>:6: FutureWarning: The frame.append method is deprecated and will be removed from pandas in a future version. Use pandas.concat instead.\n",
            "  df_append = df_append.append(df_temp, ignore_index=True)\n",
            "<ipython-input-25-eafd47446610>:6: FutureWarning: The frame.append method is deprecated and will be removed from pandas in a future version. Use pandas.concat instead.\n",
            "  df_append = df_append.append(df_temp, ignore_index=True)\n",
            "<ipython-input-25-eafd47446610>:6: FutureWarning: The frame.append method is deprecated and will be removed from pandas in a future version. Use pandas.concat instead.\n",
            "  df_append = df_append.append(df_temp, ignore_index=True)\n",
            "<ipython-input-25-eafd47446610>:6: FutureWarning: The frame.append method is deprecated and will be removed from pandas in a future version. Use pandas.concat instead.\n",
            "  df_append = df_append.append(df_temp, ignore_index=True)\n",
            "<ipython-input-25-eafd47446610>:6: FutureWarning: The frame.append method is deprecated and will be removed from pandas in a future version. Use pandas.concat instead.\n",
            "  df_append = df_append.append(df_temp, ignore_index=True)\n",
            "<ipython-input-25-eafd47446610>:6: FutureWarning: The frame.append method is deprecated and will be removed from pandas in a future version. Use pandas.concat instead.\n",
            "  df_append = df_append.append(df_temp, ignore_index=True)\n",
            "<ipython-input-25-eafd47446610>:6: FutureWarning: The frame.append method is deprecated and will be removed from pandas in a future version. Use pandas.concat instead.\n",
            "  df_append = df_append.append(df_temp, ignore_index=True)\n",
            "<ipython-input-25-eafd47446610>:6: FutureWarning: The frame.append method is deprecated and will be removed from pandas in a future version. Use pandas.concat instead.\n",
            "  df_append = df_append.append(df_temp, ignore_index=True)\n",
            "<ipython-input-25-eafd47446610>:6: FutureWarning: The frame.append method is deprecated and will be removed from pandas in a future version. Use pandas.concat instead.\n",
            "  df_append = df_append.append(df_temp, ignore_index=True)\n",
            "<ipython-input-25-eafd47446610>:6: FutureWarning: The frame.append method is deprecated and will be removed from pandas in a future version. Use pandas.concat instead.\n",
            "  df_append = df_append.append(df_temp, ignore_index=True)\n",
            "<ipython-input-25-eafd47446610>:6: FutureWarning: The frame.append method is deprecated and will be removed from pandas in a future version. Use pandas.concat instead.\n",
            "  df_append = df_append.append(df_temp, ignore_index=True)\n",
            "<ipython-input-25-eafd47446610>:6: FutureWarning: The frame.append method is deprecated and will be removed from pandas in a future version. Use pandas.concat instead.\n",
            "  df_append = df_append.append(df_temp, ignore_index=True)\n"
          ]
        },
        {
          "output_type": "execute_result",
          "data": {
            "text/plain": [
              "      Unnamed: 0                   name  review_datetime_utc  \\\n",
              "0              0  CABE IJO LIVE SEAFOOD  06/21/2022 09:48:45   \n",
              "1              1  CABE IJO LIVE SEAFOOD  12/04/2022 15:06:20   \n",
              "2              2  CABE IJO LIVE SEAFOOD  01/28/2022 06:07:38   \n",
              "3              3  CABE IJO LIVE SEAFOOD  12/05/2021 05:39:45   \n",
              "4              4  CABE IJO LIVE SEAFOOD  01/29/2022 12:12:46   \n",
              "...          ...                    ...                  ...   \n",
              "1036          79       Indah Seafood 94  04/01/2018 14:52:13   \n",
              "1037          81       Indah Seafood 94  06/13/2018 07:16:25   \n",
              "1038           0    RUMAH LOBSTER DEPOK  07/27/2018 00:05:15   \n",
              "1039           1    RUMAH LOBSTER DEPOK  06/22/2022 12:12:15   \n",
              "1040           2    RUMAH LOBSTER DEPOK  03/07/2021 10:47:39   \n",
              "\n",
              "                                         review_img_url  review_rating  \\\n",
              "0     https://lh5.googleusercontent.com/p/AF1QipOBev...              5   \n",
              "1     https://lh5.googleusercontent.com/p/AF1QipOzhf...              4   \n",
              "2     https://lh5.googleusercontent.com/p/AF1QipMHWt...              4   \n",
              "3     https://lh5.googleusercontent.com/p/AF1QipOt1z...              5   \n",
              "4     https://lh5.googleusercontent.com/p/AF1QipPVJt...              5   \n",
              "...                                                 ...            ...   \n",
              "1036  https://lh5.googleusercontent.com/p/AF1QipMzyY...              3   \n",
              "1037  https://lh5.googleusercontent.com/p/AF1QipMSmm...              3   \n",
              "1038  https://lh5.googleusercontent.com/p/AF1QipPwhJ...              1   \n",
              "1039  https://lh5.googleusercontent.com/p/AF1QipMC0f...              1   \n",
              "1040  https://lh5.googleusercontent.com/p/AF1QipM8R-...              1   \n",
              "\n",
              "                                            review_text  \n",
              "0     Mantap sekali sajian makanannya. Paling suka s...  \n",
              "1     Masakannya enak, tempatnya luas dan nyaman. Ti...  \n",
              "2     Kami pesan beberapa jenis masakan untuk acara ...  \n",
              "3     BAIK BGT OWNERNY!! Ini tu masih baru tp servic...  \n",
              "4     Tempat ini menyajikan berbagai macam aneka ola...  \n",
              "...                                                 ...  \n",
              "1036  Kata temen sih mantap kerang dan cuminya. Saya...  \n",
              "1037  Kalo disini warung seafoodnya besar,  kalo ker...  \n",
              "1038  Aneh ya mau pesen varian kerang ga boleh katan...  \n",
              "1039  Sangat mengecewakan..rasa gak karuan..karywan ...  \n",
              "1040  Tempat tidak terawat, ada menu yang berubah ta...  \n",
              "\n",
              "[1041 rows x 6 columns]"
            ],
            "text/html": [
              "\n",
              "  <div id=\"df-3a57142f-cf7e-414f-b64c-09386af30e15\">\n",
              "    <div class=\"colab-df-container\">\n",
              "      <div>\n",
              "<style scoped>\n",
              "    .dataframe tbody tr th:only-of-type {\n",
              "        vertical-align: middle;\n",
              "    }\n",
              "\n",
              "    .dataframe tbody tr th {\n",
              "        vertical-align: top;\n",
              "    }\n",
              "\n",
              "    .dataframe thead th {\n",
              "        text-align: right;\n",
              "    }\n",
              "</style>\n",
              "<table border=\"1\" class=\"dataframe\">\n",
              "  <thead>\n",
              "    <tr style=\"text-align: right;\">\n",
              "      <th></th>\n",
              "      <th>Unnamed: 0</th>\n",
              "      <th>name</th>\n",
              "      <th>review_datetime_utc</th>\n",
              "      <th>review_img_url</th>\n",
              "      <th>review_rating</th>\n",
              "      <th>review_text</th>\n",
              "    </tr>\n",
              "  </thead>\n",
              "  <tbody>\n",
              "    <tr>\n",
              "      <th>0</th>\n",
              "      <td>0</td>\n",
              "      <td>CABE IJO LIVE SEAFOOD</td>\n",
              "      <td>06/21/2022 09:48:45</td>\n",
              "      <td>https://lh5.googleusercontent.com/p/AF1QipOBev...</td>\n",
              "      <td>5</td>\n",
              "      <td>Mantap sekali sajian makanannya. Paling suka s...</td>\n",
              "    </tr>\n",
              "    <tr>\n",
              "      <th>1</th>\n",
              "      <td>1</td>\n",
              "      <td>CABE IJO LIVE SEAFOOD</td>\n",
              "      <td>12/04/2022 15:06:20</td>\n",
              "      <td>https://lh5.googleusercontent.com/p/AF1QipOzhf...</td>\n",
              "      <td>4</td>\n",
              "      <td>Masakannya enak, tempatnya luas dan nyaman. Ti...</td>\n",
              "    </tr>\n",
              "    <tr>\n",
              "      <th>2</th>\n",
              "      <td>2</td>\n",
              "      <td>CABE IJO LIVE SEAFOOD</td>\n",
              "      <td>01/28/2022 06:07:38</td>\n",
              "      <td>https://lh5.googleusercontent.com/p/AF1QipMHWt...</td>\n",
              "      <td>4</td>\n",
              "      <td>Kami pesan beberapa jenis masakan untuk acara ...</td>\n",
              "    </tr>\n",
              "    <tr>\n",
              "      <th>3</th>\n",
              "      <td>3</td>\n",
              "      <td>CABE IJO LIVE SEAFOOD</td>\n",
              "      <td>12/05/2021 05:39:45</td>\n",
              "      <td>https://lh5.googleusercontent.com/p/AF1QipOt1z...</td>\n",
              "      <td>5</td>\n",
              "      <td>BAIK BGT OWNERNY!! Ini tu masih baru tp servic...</td>\n",
              "    </tr>\n",
              "    <tr>\n",
              "      <th>4</th>\n",
              "      <td>4</td>\n",
              "      <td>CABE IJO LIVE SEAFOOD</td>\n",
              "      <td>01/29/2022 12:12:46</td>\n",
              "      <td>https://lh5.googleusercontent.com/p/AF1QipPVJt...</td>\n",
              "      <td>5</td>\n",
              "      <td>Tempat ini menyajikan berbagai macam aneka ola...</td>\n",
              "    </tr>\n",
              "    <tr>\n",
              "      <th>...</th>\n",
              "      <td>...</td>\n",
              "      <td>...</td>\n",
              "      <td>...</td>\n",
              "      <td>...</td>\n",
              "      <td>...</td>\n",
              "      <td>...</td>\n",
              "    </tr>\n",
              "    <tr>\n",
              "      <th>1036</th>\n",
              "      <td>79</td>\n",
              "      <td>Indah Seafood 94</td>\n",
              "      <td>04/01/2018 14:52:13</td>\n",
              "      <td>https://lh5.googleusercontent.com/p/AF1QipMzyY...</td>\n",
              "      <td>3</td>\n",
              "      <td>Kata temen sih mantap kerang dan cuminya. Saya...</td>\n",
              "    </tr>\n",
              "    <tr>\n",
              "      <th>1037</th>\n",
              "      <td>81</td>\n",
              "      <td>Indah Seafood 94</td>\n",
              "      <td>06/13/2018 07:16:25</td>\n",
              "      <td>https://lh5.googleusercontent.com/p/AF1QipMSmm...</td>\n",
              "      <td>3</td>\n",
              "      <td>Kalo disini warung seafoodnya besar,  kalo ker...</td>\n",
              "    </tr>\n",
              "    <tr>\n",
              "      <th>1038</th>\n",
              "      <td>0</td>\n",
              "      <td>RUMAH LOBSTER DEPOK</td>\n",
              "      <td>07/27/2018 00:05:15</td>\n",
              "      <td>https://lh5.googleusercontent.com/p/AF1QipPwhJ...</td>\n",
              "      <td>1</td>\n",
              "      <td>Aneh ya mau pesen varian kerang ga boleh katan...</td>\n",
              "    </tr>\n",
              "    <tr>\n",
              "      <th>1039</th>\n",
              "      <td>1</td>\n",
              "      <td>RUMAH LOBSTER DEPOK</td>\n",
              "      <td>06/22/2022 12:12:15</td>\n",
              "      <td>https://lh5.googleusercontent.com/p/AF1QipMC0f...</td>\n",
              "      <td>1</td>\n",
              "      <td>Sangat mengecewakan..rasa gak karuan..karywan ...</td>\n",
              "    </tr>\n",
              "    <tr>\n",
              "      <th>1040</th>\n",
              "      <td>2</td>\n",
              "      <td>RUMAH LOBSTER DEPOK</td>\n",
              "      <td>03/07/2021 10:47:39</td>\n",
              "      <td>https://lh5.googleusercontent.com/p/AF1QipM8R-...</td>\n",
              "      <td>1</td>\n",
              "      <td>Tempat tidak terawat, ada menu yang berubah ta...</td>\n",
              "    </tr>\n",
              "  </tbody>\n",
              "</table>\n",
              "<p>1041 rows × 6 columns</p>\n",
              "</div>\n",
              "      <button class=\"colab-df-convert\" onclick=\"convertToInteractive('df-3a57142f-cf7e-414f-b64c-09386af30e15')\"\n",
              "              title=\"Convert this dataframe to an interactive table.\"\n",
              "              style=\"display:none;\">\n",
              "        \n",
              "  <svg xmlns=\"http://www.w3.org/2000/svg\" height=\"24px\"viewBox=\"0 0 24 24\"\n",
              "       width=\"24px\">\n",
              "    <path d=\"M0 0h24v24H0V0z\" fill=\"none\"/>\n",
              "    <path d=\"M18.56 5.44l.94 2.06.94-2.06 2.06-.94-2.06-.94-.94-2.06-.94 2.06-2.06.94zm-11 1L8.5 8.5l.94-2.06 2.06-.94-2.06-.94L8.5 2.5l-.94 2.06-2.06.94zm10 10l.94 2.06.94-2.06 2.06-.94-2.06-.94-.94-2.06-.94 2.06-2.06.94z\"/><path d=\"M17.41 7.96l-1.37-1.37c-.4-.4-.92-.59-1.43-.59-.52 0-1.04.2-1.43.59L10.3 9.45l-7.72 7.72c-.78.78-.78 2.05 0 2.83L4 21.41c.39.39.9.59 1.41.59.51 0 1.02-.2 1.41-.59l7.78-7.78 2.81-2.81c.8-.78.8-2.07 0-2.86zM5.41 20L4 18.59l7.72-7.72 1.47 1.35L5.41 20z\"/>\n",
              "  </svg>\n",
              "      </button>\n",
              "      \n",
              "  <style>\n",
              "    .colab-df-container {\n",
              "      display:flex;\n",
              "      flex-wrap:wrap;\n",
              "      gap: 12px;\n",
              "    }\n",
              "\n",
              "    .colab-df-convert {\n",
              "      background-color: #E8F0FE;\n",
              "      border: none;\n",
              "      border-radius: 50%;\n",
              "      cursor: pointer;\n",
              "      display: none;\n",
              "      fill: #1967D2;\n",
              "      height: 32px;\n",
              "      padding: 0 0 0 0;\n",
              "      width: 32px;\n",
              "    }\n",
              "\n",
              "    .colab-df-convert:hover {\n",
              "      background-color: #E2EBFA;\n",
              "      box-shadow: 0px 1px 2px rgba(60, 64, 67, 0.3), 0px 1px 3px 1px rgba(60, 64, 67, 0.15);\n",
              "      fill: #174EA6;\n",
              "    }\n",
              "\n",
              "    [theme=dark] .colab-df-convert {\n",
              "      background-color: #3B4455;\n",
              "      fill: #D2E3FC;\n",
              "    }\n",
              "\n",
              "    [theme=dark] .colab-df-convert:hover {\n",
              "      background-color: #434B5C;\n",
              "      box-shadow: 0px 1px 3px 1px rgba(0, 0, 0, 0.15);\n",
              "      filter: drop-shadow(0px 1px 2px rgba(0, 0, 0, 0.3));\n",
              "      fill: #FFFFFF;\n",
              "    }\n",
              "  </style>\n",
              "\n",
              "      <script>\n",
              "        const buttonEl =\n",
              "          document.querySelector('#df-3a57142f-cf7e-414f-b64c-09386af30e15 button.colab-df-convert');\n",
              "        buttonEl.style.display =\n",
              "          google.colab.kernel.accessAllowed ? 'block' : 'none';\n",
              "\n",
              "        async function convertToInteractive(key) {\n",
              "          const element = document.querySelector('#df-3a57142f-cf7e-414f-b64c-09386af30e15');\n",
              "          const dataTable =\n",
              "            await google.colab.kernel.invokeFunction('convertToInteractive',\n",
              "                                                     [key], {});\n",
              "          if (!dataTable) return;\n",
              "\n",
              "          const docLinkHtml = 'Like what you see? Visit the ' +\n",
              "            '<a target=\"_blank\" href=https://colab.research.google.com/notebooks/data_table.ipynb>data table notebook</a>'\n",
              "            + ' to learn more about interactive tables.';\n",
              "          element.innerHTML = '';\n",
              "          dataTable['output_type'] = 'display_data';\n",
              "          await google.colab.output.renderOutput(dataTable, element);\n",
              "          const docLink = document.createElement('div');\n",
              "          docLink.innerHTML = docLinkHtml;\n",
              "          element.appendChild(docLink);\n",
              "        }\n",
              "      </script>\n",
              "    </div>\n",
              "  </div>\n",
              "  "
            ]
          },
          "metadata": {},
          "execution_count": 25
        }
      ]
    },
    {
      "cell_type": "code",
      "source": [
        "#drop column with index 0 by index\n",
        "df_append.drop(df_append.columns[[0]], axis=1, inplace=True)"
      ],
      "metadata": {
        "id": "-Fj9Ain_Krqt"
      },
      "execution_count": null,
      "outputs": []
    },
    {
      "cell_type": "code",
      "source": [
        "df_append.info()"
      ],
      "metadata": {
        "colab": {
          "base_uri": "https://localhost:8080/"
        },
        "id": "f6-CIWqKLlt-",
        "outputId": "a8e8044c-6560-4a97-adad-e8d9f277f198"
      },
      "execution_count": null,
      "outputs": [
        {
          "output_type": "stream",
          "name": "stdout",
          "text": [
            "<class 'pandas.core.frame.DataFrame'>\n",
            "RangeIndex: 1041 entries, 0 to 1040\n",
            "Data columns (total 5 columns):\n",
            " #   Column               Non-Null Count  Dtype \n",
            "---  ------               --------------  ----- \n",
            " 0   name                 1041 non-null   object\n",
            " 1   review_datetime_utc  1041 non-null   object\n",
            " 2   review_img_url       1041 non-null   object\n",
            " 3   review_rating        1041 non-null   int64 \n",
            " 4   review_text          1041 non-null   object\n",
            "dtypes: int64(1), object(4)\n",
            "memory usage: 40.8+ KB\n"
          ]
        }
      ]
    },
    {
      "cell_type": "code",
      "source": [
        "df_append.duplicated().sum()"
      ],
      "metadata": {
        "colab": {
          "base_uri": "https://localhost:8080/"
        },
        "id": "EMZLd5otT0XJ",
        "outputId": "49ad943c-59f8-46fe-d74f-0142d3b4b3c1"
      },
      "execution_count": null,
      "outputs": [
        {
          "output_type": "execute_result",
          "data": {
            "text/plain": [
              "5"
            ]
          },
          "metadata": {},
          "execution_count": 28
        }
      ]
    },
    {
      "cell_type": "code",
      "source": [
        "df_append.shape"
      ],
      "metadata": {
        "colab": {
          "base_uri": "https://localhost:8080/"
        },
        "id": "SzR7F8XZUfZQ",
        "outputId": "a9096d5f-ed6b-42e2-f82c-8e6cfae5b7ce"
      },
      "execution_count": null,
      "outputs": [
        {
          "output_type": "execute_result",
          "data": {
            "text/plain": [
              "(1041, 5)"
            ]
          },
          "metadata": {},
          "execution_count": 29
        }
      ]
    },
    {
      "cell_type": "code",
      "source": [
        "df_append = df_append.drop_duplicates()"
      ],
      "metadata": {
        "id": "HnYih_w3Ud7U"
      },
      "execution_count": null,
      "outputs": []
    },
    {
      "cell_type": "code",
      "source": [
        "df_append.shape"
      ],
      "metadata": {
        "colab": {
          "base_uri": "https://localhost:8080/"
        },
        "id": "hYmYnzgRUnbt",
        "outputId": "f165afe9-5629-4313-b708-24abb166f638"
      },
      "execution_count": null,
      "outputs": [
        {
          "output_type": "execute_result",
          "data": {
            "text/plain": [
              "(1036, 5)"
            ]
          },
          "metadata": {},
          "execution_count": 31
        }
      ]
    },
    {
      "cell_type": "code",
      "source": [
        "# mendapatkan data dengan rating 1\n",
        "rat_neg = df_append.index[(df_append['review_rating']==1) | (df_append['review_rating']==2)].to_list()\n",
        "# mengambil data random sebanyak 75/150 dari data rating negatif\n",
        "rat_neg = random.sample(rat_neg, num_random)\n",
        "rat_neg = set(rat_neg)\n",
        "rat_neg = list(rat_neg)\n",
        "\n",
        "# mendapatkan data dengan rating 3\n",
        "rat_neu = df_append.index[(df_append['review_rating']==3)].to_list()\n",
        "# mengambil data random sebanyak 75/150 dari data rating neutral\n",
        "rat_neu = random.sample(rat_neu, num_random)\n",
        "rat_neu = set(rat_neu)\n",
        "rat_neu = list(rat_neu)\n",
        "\n",
        "# mendapatkan data dengan rating 4 atau 5\n",
        "rat_pos = df_append.index[(df_append['review_rating']==4) | (df_append['review_rating']==5)].to_list()\n",
        "# mengambil data random sebanyak 75/150 dari data rating positif\n",
        "rat_pos = random.sample(rat_pos, num_random)\n",
        "rat_pos = set(rat_pos)\n",
        "rat_pos = list(rat_pos)\n",
        "\n",
        "# indeks gabungan rating 1,2,3,4,5\n",
        "gab_pos_neu_neg = rat_pos + rat_neu + rat_neg\n",
        "\n",
        "print('Rating Negative : ')\n",
        "print(rat_neg)\n",
        "print(len(rat_neg),'\\n')\n",
        "\n",
        "print('Rating Neutral : ')\n",
        "print(rat_neu)\n",
        "print(len(rat_neu),'\\n')\n",
        "\n",
        "print('Rating Positive : ')\n",
        "print(rat_pos)\n",
        "print(len(rat_pos),'\\n')\n",
        "\n",
        "print('Rating Gabungan : ')\n",
        "print(gab_pos_neu_neg)\n",
        "print(len(gab_pos_neu_neg),'\\n')\n"
      ],
      "metadata": {
        "colab": {
          "base_uri": "https://localhost:8080/"
        },
        "id": "enWZ_9-wUrhl",
        "outputId": "bf2e401a-de0a-4227-ea74-d34c04b3ca3f"
      },
      "execution_count": null,
      "outputs": [
        {
          "output_type": "stream",
          "name": "stdout",
          "text": [
            "Rating Negative : \n",
            "[1024, 1025, 1026, 1027, 1028, 1029, 1030, 1032, 1033, 1034, 1035, 14, 1039, 1040, 15, 1038, 544, 545, 546, 547, 548, 44, 45, 572, 573, 574, 575, 614, 615, 616, 617, 618, 619, 112, 641, 642, 660, 661, 149, 151, 150, 687, 688, 689, 690, 179, 180, 181, 182, 709, 710, 711, 855, 210, 731, 732, 221, 222, 733, 231, 744, 745, 746, 747, 255, 256, 257, 258, 774, 775, 776, 777, 778, 787, 803, 804, 805, 806, 807, 808, 809, 810, 811, 812, 813, 814, 815, 816, 817, 818, 819, 820, 317, 318, 840, 841, 341, 342, 343, 856, 857, 346, 859, 860, 858, 861, 345, 344, 364, 365, 366, 367, 368, 883, 884, 885, 380, 393, 394, 915, 916, 917, 918, 919, 418, 419, 420, 421, 948, 949, 950, 986, 987, 1002, 1003, 1004, 1005, 491, 1007, 492, 1009, 498, 1011, 1012, 1010, 499, 1006, 1008, 1022, 1023]\n",
            "150 \n",
            "\n",
            "Rating Neutral : \n",
            "[1031, 1036, 1037, 16, 549, 550, 553, 554, 48, 49, 51, 52, 54, 55, 57, 58, 59, 60, 576, 577, 579, 581, 583, 584, 585, 586, 588, 589, 620, 623, 625, 114, 115, 113, 629, 631, 632, 635, 637, 643, 133, 134, 663, 152, 154, 666, 669, 671, 672, 673, 692, 183, 187, 188, 712, 713, 714, 715, 716, 717, 719, 748, 749, 750, 751, 752, 753, 259, 260, 262, 263, 264, 779, 780, 783, 784, 785, 786, 789, 791, 792, 823, 824, 826, 827, 829, 830, 319, 322, 842, 843, 844, 347, 349, 862, 863, 864, 865, 867, 868, 872, 369, 370, 373, 886, 375, 376, 889, 377, 891, 888, 893, 894, 895, 896, 379, 899, 900, 902, 904, 396, 397, 920, 921, 922, 923, 924, 925, 926, 424, 951, 952, 953, 954, 956, 957, 958, 959, 960, 1016, 988, 500, 501, 1014, 503, 502, 1017, 1013, 1020, 1021]\n",
            "150 \n",
            "\n",
            "Rating Positive : \n",
            "[0, 513, 515, 521, 13, 527, 529, 530, 22, 536, 25, 27, 541, 29, 40, 559, 562, 563, 565, 566, 568, 71, 87, 600, 92, 605, 93, 94, 609, 102, 103, 107, 116, 118, 127, 639, 647, 137, 138, 651, 140, 141, 652, 655, 145, 156, 159, 674, 163, 164, 677, 681, 682, 683, 172, 174, 696, 697, 707, 196, 197, 708, 202, 203, 724, 725, 214, 215, 216, 217, 728, 729, 220, 734, 737, 741, 742, 756, 758, 250, 762, 763, 766, 769, 771, 268, 273, 277, 279, 794, 285, 797, 801, 292, 294, 302, 304, 305, 314, 315, 323, 333, 846, 335, 340, 854, 352, 353, 356, 875, 878, 391, 907, 908, 401, 407, 409, 410, 934, 936, 938, 940, 430, 431, 943, 945, 944, 942, 437, 442, 964, 965, 452, 455, 454, 453, 458, 966, 967, 462, 975, 470, 475, 476, 477, 995, 998, 487, 1001, 509]\n",
            "150 \n",
            "\n",
            "Rating Gabungan : \n",
            "[0, 513, 515, 521, 13, 527, 529, 530, 22, 536, 25, 27, 541, 29, 40, 559, 562, 563, 565, 566, 568, 71, 87, 600, 92, 605, 93, 94, 609, 102, 103, 107, 116, 118, 127, 639, 647, 137, 138, 651, 140, 141, 652, 655, 145, 156, 159, 674, 163, 164, 677, 681, 682, 683, 172, 174, 696, 697, 707, 196, 197, 708, 202, 203, 724, 725, 214, 215, 216, 217, 728, 729, 220, 734, 737, 741, 742, 756, 758, 250, 762, 763, 766, 769, 771, 268, 273, 277, 279, 794, 285, 797, 801, 292, 294, 302, 304, 305, 314, 315, 323, 333, 846, 335, 340, 854, 352, 353, 356, 875, 878, 391, 907, 908, 401, 407, 409, 410, 934, 936, 938, 940, 430, 431, 943, 945, 944, 942, 437, 442, 964, 965, 452, 455, 454, 453, 458, 966, 967, 462, 975, 470, 475, 476, 477, 995, 998, 487, 1001, 509, 1031, 1036, 1037, 16, 549, 550, 553, 554, 48, 49, 51, 52, 54, 55, 57, 58, 59, 60, 576, 577, 579, 581, 583, 584, 585, 586, 588, 589, 620, 623, 625, 114, 115, 113, 629, 631, 632, 635, 637, 643, 133, 134, 663, 152, 154, 666, 669, 671, 672, 673, 692, 183, 187, 188, 712, 713, 714, 715, 716, 717, 719, 748, 749, 750, 751, 752, 753, 259, 260, 262, 263, 264, 779, 780, 783, 784, 785, 786, 789, 791, 792, 823, 824, 826, 827, 829, 830, 319, 322, 842, 843, 844, 347, 349, 862, 863, 864, 865, 867, 868, 872, 369, 370, 373, 886, 375, 376, 889, 377, 891, 888, 893, 894, 895, 896, 379, 899, 900, 902, 904, 396, 397, 920, 921, 922, 923, 924, 925, 926, 424, 951, 952, 953, 954, 956, 957, 958, 959, 960, 1016, 988, 500, 501, 1014, 503, 502, 1017, 1013, 1020, 1021, 1024, 1025, 1026, 1027, 1028, 1029, 1030, 1032, 1033, 1034, 1035, 14, 1039, 1040, 15, 1038, 544, 545, 546, 547, 548, 44, 45, 572, 573, 574, 575, 614, 615, 616, 617, 618, 619, 112, 641, 642, 660, 661, 149, 151, 150, 687, 688, 689, 690, 179, 180, 181, 182, 709, 710, 711, 855, 210, 731, 732, 221, 222, 733, 231, 744, 745, 746, 747, 255, 256, 257, 258, 774, 775, 776, 777, 778, 787, 803, 804, 805, 806, 807, 808, 809, 810, 811, 812, 813, 814, 815, 816, 817, 818, 819, 820, 317, 318, 840, 841, 341, 342, 343, 856, 857, 346, 859, 860, 858, 861, 345, 344, 364, 365, 366, 367, 368, 883, 884, 885, 380, 393, 394, 915, 916, 917, 918, 919, 418, 419, 420, 421, 948, 949, 950, 986, 987, 1002, 1003, 1004, 1005, 491, 1007, 492, 1009, 498, 1011, 1012, 1010, 499, 1006, 1008, 1022, 1023]\n",
            "450 \n",
            "\n"
          ]
        }
      ]
    },
    {
      "cell_type": "code",
      "source": [
        "data_fix = df_append.loc[gab_pos_neu_neg]"
      ],
      "metadata": {
        "id": "eMlFyq7SVTQ0"
      },
      "execution_count": null,
      "outputs": []
    },
    {
      "cell_type": "code",
      "source": [
        "data_fix.duplicated().sum()"
      ],
      "metadata": {
        "colab": {
          "base_uri": "https://localhost:8080/"
        },
        "id": "oVkY0lUTtHfR",
        "outputId": "74504cde-a9d6-4a86-c721-446ffb349e7e"
      },
      "execution_count": null,
      "outputs": [
        {
          "output_type": "execute_result",
          "data": {
            "text/plain": [
              "0"
            ]
          },
          "metadata": {},
          "execution_count": 34
        }
      ]
    },
    {
      "cell_type": "code",
      "source": [
        "data_fix.shape"
      ],
      "metadata": {
        "colab": {
          "base_uri": "https://localhost:8080/"
        },
        "id": "7Tct6qBNVg0u",
        "outputId": "b8e84a45-3b02-475b-b799-42fafd1cec66"
      },
      "execution_count": null,
      "outputs": [
        {
          "output_type": "execute_result",
          "data": {
            "text/plain": [
              "(450, 5)"
            ]
          },
          "metadata": {},
          "execution_count": 35
        }
      ]
    },
    {
      "cell_type": "code",
      "source": [
        "data_fix.head()"
      ],
      "metadata": {
        "colab": {
          "base_uri": "https://localhost:8080/",
          "height": 206
        },
        "id": "NVlyffZKVsbF",
        "outputId": "cf050aaa-d38a-435b-b984-e3a92a1d50fe"
      },
      "execution_count": null,
      "outputs": [
        {
          "output_type": "execute_result",
          "data": {
            "text/plain": [
              "                      name  review_datetime_utc  \\\n",
              "0    CABE IJO LIVE SEAFOOD  06/21/2022 09:48:45   \n",
              "513          The Holy Crab  01/10/2019 04:19:02   \n",
              "515          The Holy Crab  05/02/2018 14:40:22   \n",
              "521          The Holy Crab  02/08/2020 16:46:48   \n",
              "13   CABE IJO LIVE SEAFOOD  05/21/2021 17:01:06   \n",
              "\n",
              "                                        review_img_url  review_rating  \\\n",
              "0    https://lh5.googleusercontent.com/p/AF1QipOBev...              5   \n",
              "513  https://lh5.googleusercontent.com/p/AF1QipPysR...              4   \n",
              "515  https://lh5.googleusercontent.com/p/AF1QipOuB0...              4   \n",
              "521  https://lh5.googleusercontent.com/p/AF1QipMHKu...              4   \n",
              "13   https://lh5.googleusercontent.com/p/AF1QipO3Ei...              5   \n",
              "\n",
              "                                           review_text  \n",
              "0    Mantap sekali sajian makanannya. Paling suka s...  \n",
              "513  Pilihan saus nya enak banget. Kepiting nya jug...  \n",
              "515                                    Enak tapi mahal  \n",
              "521  New style source makes different feel to commo...  \n",
              "13   Cobain Kepiting saus chilli, Udang rebus, Ikan...  "
            ],
            "text/html": [
              "\n",
              "  <div id=\"df-88d3fc25-c424-4d1b-864c-781cb8469ea1\">\n",
              "    <div class=\"colab-df-container\">\n",
              "      <div>\n",
              "<style scoped>\n",
              "    .dataframe tbody tr th:only-of-type {\n",
              "        vertical-align: middle;\n",
              "    }\n",
              "\n",
              "    .dataframe tbody tr th {\n",
              "        vertical-align: top;\n",
              "    }\n",
              "\n",
              "    .dataframe thead th {\n",
              "        text-align: right;\n",
              "    }\n",
              "</style>\n",
              "<table border=\"1\" class=\"dataframe\">\n",
              "  <thead>\n",
              "    <tr style=\"text-align: right;\">\n",
              "      <th></th>\n",
              "      <th>name</th>\n",
              "      <th>review_datetime_utc</th>\n",
              "      <th>review_img_url</th>\n",
              "      <th>review_rating</th>\n",
              "      <th>review_text</th>\n",
              "    </tr>\n",
              "  </thead>\n",
              "  <tbody>\n",
              "    <tr>\n",
              "      <th>0</th>\n",
              "      <td>CABE IJO LIVE SEAFOOD</td>\n",
              "      <td>06/21/2022 09:48:45</td>\n",
              "      <td>https://lh5.googleusercontent.com/p/AF1QipOBev...</td>\n",
              "      <td>5</td>\n",
              "      <td>Mantap sekali sajian makanannya. Paling suka s...</td>\n",
              "    </tr>\n",
              "    <tr>\n",
              "      <th>513</th>\n",
              "      <td>The Holy Crab</td>\n",
              "      <td>01/10/2019 04:19:02</td>\n",
              "      <td>https://lh5.googleusercontent.com/p/AF1QipPysR...</td>\n",
              "      <td>4</td>\n",
              "      <td>Pilihan saus nya enak banget. Kepiting nya jug...</td>\n",
              "    </tr>\n",
              "    <tr>\n",
              "      <th>515</th>\n",
              "      <td>The Holy Crab</td>\n",
              "      <td>05/02/2018 14:40:22</td>\n",
              "      <td>https://lh5.googleusercontent.com/p/AF1QipOuB0...</td>\n",
              "      <td>4</td>\n",
              "      <td>Enak tapi mahal</td>\n",
              "    </tr>\n",
              "    <tr>\n",
              "      <th>521</th>\n",
              "      <td>The Holy Crab</td>\n",
              "      <td>02/08/2020 16:46:48</td>\n",
              "      <td>https://lh5.googleusercontent.com/p/AF1QipMHKu...</td>\n",
              "      <td>4</td>\n",
              "      <td>New style source makes different feel to commo...</td>\n",
              "    </tr>\n",
              "    <tr>\n",
              "      <th>13</th>\n",
              "      <td>CABE IJO LIVE SEAFOOD</td>\n",
              "      <td>05/21/2021 17:01:06</td>\n",
              "      <td>https://lh5.googleusercontent.com/p/AF1QipO3Ei...</td>\n",
              "      <td>5</td>\n",
              "      <td>Cobain Kepiting saus chilli, Udang rebus, Ikan...</td>\n",
              "    </tr>\n",
              "  </tbody>\n",
              "</table>\n",
              "</div>\n",
              "      <button class=\"colab-df-convert\" onclick=\"convertToInteractive('df-88d3fc25-c424-4d1b-864c-781cb8469ea1')\"\n",
              "              title=\"Convert this dataframe to an interactive table.\"\n",
              "              style=\"display:none;\">\n",
              "        \n",
              "  <svg xmlns=\"http://www.w3.org/2000/svg\" height=\"24px\"viewBox=\"0 0 24 24\"\n",
              "       width=\"24px\">\n",
              "    <path d=\"M0 0h24v24H0V0z\" fill=\"none\"/>\n",
              "    <path d=\"M18.56 5.44l.94 2.06.94-2.06 2.06-.94-2.06-.94-.94-2.06-.94 2.06-2.06.94zm-11 1L8.5 8.5l.94-2.06 2.06-.94-2.06-.94L8.5 2.5l-.94 2.06-2.06.94zm10 10l.94 2.06.94-2.06 2.06-.94-2.06-.94-.94-2.06-.94 2.06-2.06.94z\"/><path d=\"M17.41 7.96l-1.37-1.37c-.4-.4-.92-.59-1.43-.59-.52 0-1.04.2-1.43.59L10.3 9.45l-7.72 7.72c-.78.78-.78 2.05 0 2.83L4 21.41c.39.39.9.59 1.41.59.51 0 1.02-.2 1.41-.59l7.78-7.78 2.81-2.81c.8-.78.8-2.07 0-2.86zM5.41 20L4 18.59l7.72-7.72 1.47 1.35L5.41 20z\"/>\n",
              "  </svg>\n",
              "      </button>\n",
              "      \n",
              "  <style>\n",
              "    .colab-df-container {\n",
              "      display:flex;\n",
              "      flex-wrap:wrap;\n",
              "      gap: 12px;\n",
              "    }\n",
              "\n",
              "    .colab-df-convert {\n",
              "      background-color: #E8F0FE;\n",
              "      border: none;\n",
              "      border-radius: 50%;\n",
              "      cursor: pointer;\n",
              "      display: none;\n",
              "      fill: #1967D2;\n",
              "      height: 32px;\n",
              "      padding: 0 0 0 0;\n",
              "      width: 32px;\n",
              "    }\n",
              "\n",
              "    .colab-df-convert:hover {\n",
              "      background-color: #E2EBFA;\n",
              "      box-shadow: 0px 1px 2px rgba(60, 64, 67, 0.3), 0px 1px 3px 1px rgba(60, 64, 67, 0.15);\n",
              "      fill: #174EA6;\n",
              "    }\n",
              "\n",
              "    [theme=dark] .colab-df-convert {\n",
              "      background-color: #3B4455;\n",
              "      fill: #D2E3FC;\n",
              "    }\n",
              "\n",
              "    [theme=dark] .colab-df-convert:hover {\n",
              "      background-color: #434B5C;\n",
              "      box-shadow: 0px 1px 3px 1px rgba(0, 0, 0, 0.15);\n",
              "      filter: drop-shadow(0px 1px 2px rgba(0, 0, 0, 0.3));\n",
              "      fill: #FFFFFF;\n",
              "    }\n",
              "  </style>\n",
              "\n",
              "      <script>\n",
              "        const buttonEl =\n",
              "          document.querySelector('#df-88d3fc25-c424-4d1b-864c-781cb8469ea1 button.colab-df-convert');\n",
              "        buttonEl.style.display =\n",
              "          google.colab.kernel.accessAllowed ? 'block' : 'none';\n",
              "\n",
              "        async function convertToInteractive(key) {\n",
              "          const element = document.querySelector('#df-88d3fc25-c424-4d1b-864c-781cb8469ea1');\n",
              "          const dataTable =\n",
              "            await google.colab.kernel.invokeFunction('convertToInteractive',\n",
              "                                                     [key], {});\n",
              "          if (!dataTable) return;\n",
              "\n",
              "          const docLinkHtml = 'Like what you see? Visit the ' +\n",
              "            '<a target=\"_blank\" href=https://colab.research.google.com/notebooks/data_table.ipynb>data table notebook</a>'\n",
              "            + ' to learn more about interactive tables.';\n",
              "          element.innerHTML = '';\n",
              "          dataTable['output_type'] = 'display_data';\n",
              "          await google.colab.output.renderOutput(dataTable, element);\n",
              "          const docLink = document.createElement('div');\n",
              "          docLink.innerHTML = docLinkHtml;\n",
              "          element.appendChild(docLink);\n",
              "        }\n",
              "      </script>\n",
              "    </div>\n",
              "  </div>\n",
              "  "
            ]
          },
          "metadata": {},
          "execution_count": 36
        }
      ]
    },
    {
      "cell_type": "code",
      "source": [
        "data_fix.info()"
      ],
      "metadata": {
        "colab": {
          "base_uri": "https://localhost:8080/"
        },
        "id": "IT-x9hBravMg",
        "outputId": "7ba4767b-1221-4197-9832-23c6f1d0306e"
      },
      "execution_count": null,
      "outputs": [
        {
          "output_type": "stream",
          "name": "stdout",
          "text": [
            "<class 'pandas.core.frame.DataFrame'>\n",
            "Int64Index: 450 entries, 0 to 1023\n",
            "Data columns (total 5 columns):\n",
            " #   Column               Non-Null Count  Dtype \n",
            "---  ------               --------------  ----- \n",
            " 0   name                 450 non-null    object\n",
            " 1   review_datetime_utc  450 non-null    object\n",
            " 2   review_img_url       450 non-null    object\n",
            " 3   review_rating        450 non-null    int64 \n",
            " 4   review_text          450 non-null    object\n",
            "dtypes: int64(1), object(4)\n",
            "memory usage: 21.1+ KB\n"
          ]
        }
      ]
    },
    {
      "cell_type": "code",
      "source": [
        "data_fix.head()"
      ],
      "metadata": {
        "colab": {
          "base_uri": "https://localhost:8080/",
          "height": 206
        },
        "id": "YpBLYKTNaxpP",
        "outputId": "f2f38f0c-79b2-4496-8cc5-33621907fe61"
      },
      "execution_count": null,
      "outputs": [
        {
          "output_type": "execute_result",
          "data": {
            "text/plain": [
              "                      name  review_datetime_utc  \\\n",
              "0    CABE IJO LIVE SEAFOOD  06/21/2022 09:48:45   \n",
              "513          The Holy Crab  01/10/2019 04:19:02   \n",
              "515          The Holy Crab  05/02/2018 14:40:22   \n",
              "521          The Holy Crab  02/08/2020 16:46:48   \n",
              "13   CABE IJO LIVE SEAFOOD  05/21/2021 17:01:06   \n",
              "\n",
              "                                        review_img_url  review_rating  \\\n",
              "0    https://lh5.googleusercontent.com/p/AF1QipOBev...              5   \n",
              "513  https://lh5.googleusercontent.com/p/AF1QipPysR...              4   \n",
              "515  https://lh5.googleusercontent.com/p/AF1QipOuB0...              4   \n",
              "521  https://lh5.googleusercontent.com/p/AF1QipMHKu...              4   \n",
              "13   https://lh5.googleusercontent.com/p/AF1QipO3Ei...              5   \n",
              "\n",
              "                                           review_text  \n",
              "0    Mantap sekali sajian makanannya. Paling suka s...  \n",
              "513  Pilihan saus nya enak banget. Kepiting nya jug...  \n",
              "515                                    Enak tapi mahal  \n",
              "521  New style source makes different feel to commo...  \n",
              "13   Cobain Kepiting saus chilli, Udang rebus, Ikan...  "
            ],
            "text/html": [
              "\n",
              "  <div id=\"df-3bfdabd2-381e-4320-9b4f-e1812f46f84a\">\n",
              "    <div class=\"colab-df-container\">\n",
              "      <div>\n",
              "<style scoped>\n",
              "    .dataframe tbody tr th:only-of-type {\n",
              "        vertical-align: middle;\n",
              "    }\n",
              "\n",
              "    .dataframe tbody tr th {\n",
              "        vertical-align: top;\n",
              "    }\n",
              "\n",
              "    .dataframe thead th {\n",
              "        text-align: right;\n",
              "    }\n",
              "</style>\n",
              "<table border=\"1\" class=\"dataframe\">\n",
              "  <thead>\n",
              "    <tr style=\"text-align: right;\">\n",
              "      <th></th>\n",
              "      <th>name</th>\n",
              "      <th>review_datetime_utc</th>\n",
              "      <th>review_img_url</th>\n",
              "      <th>review_rating</th>\n",
              "      <th>review_text</th>\n",
              "    </tr>\n",
              "  </thead>\n",
              "  <tbody>\n",
              "    <tr>\n",
              "      <th>0</th>\n",
              "      <td>CABE IJO LIVE SEAFOOD</td>\n",
              "      <td>06/21/2022 09:48:45</td>\n",
              "      <td>https://lh5.googleusercontent.com/p/AF1QipOBev...</td>\n",
              "      <td>5</td>\n",
              "      <td>Mantap sekali sajian makanannya. Paling suka s...</td>\n",
              "    </tr>\n",
              "    <tr>\n",
              "      <th>513</th>\n",
              "      <td>The Holy Crab</td>\n",
              "      <td>01/10/2019 04:19:02</td>\n",
              "      <td>https://lh5.googleusercontent.com/p/AF1QipPysR...</td>\n",
              "      <td>4</td>\n",
              "      <td>Pilihan saus nya enak banget. Kepiting nya jug...</td>\n",
              "    </tr>\n",
              "    <tr>\n",
              "      <th>515</th>\n",
              "      <td>The Holy Crab</td>\n",
              "      <td>05/02/2018 14:40:22</td>\n",
              "      <td>https://lh5.googleusercontent.com/p/AF1QipOuB0...</td>\n",
              "      <td>4</td>\n",
              "      <td>Enak tapi mahal</td>\n",
              "    </tr>\n",
              "    <tr>\n",
              "      <th>521</th>\n",
              "      <td>The Holy Crab</td>\n",
              "      <td>02/08/2020 16:46:48</td>\n",
              "      <td>https://lh5.googleusercontent.com/p/AF1QipMHKu...</td>\n",
              "      <td>4</td>\n",
              "      <td>New style source makes different feel to commo...</td>\n",
              "    </tr>\n",
              "    <tr>\n",
              "      <th>13</th>\n",
              "      <td>CABE IJO LIVE SEAFOOD</td>\n",
              "      <td>05/21/2021 17:01:06</td>\n",
              "      <td>https://lh5.googleusercontent.com/p/AF1QipO3Ei...</td>\n",
              "      <td>5</td>\n",
              "      <td>Cobain Kepiting saus chilli, Udang rebus, Ikan...</td>\n",
              "    </tr>\n",
              "  </tbody>\n",
              "</table>\n",
              "</div>\n",
              "      <button class=\"colab-df-convert\" onclick=\"convertToInteractive('df-3bfdabd2-381e-4320-9b4f-e1812f46f84a')\"\n",
              "              title=\"Convert this dataframe to an interactive table.\"\n",
              "              style=\"display:none;\">\n",
              "        \n",
              "  <svg xmlns=\"http://www.w3.org/2000/svg\" height=\"24px\"viewBox=\"0 0 24 24\"\n",
              "       width=\"24px\">\n",
              "    <path d=\"M0 0h24v24H0V0z\" fill=\"none\"/>\n",
              "    <path d=\"M18.56 5.44l.94 2.06.94-2.06 2.06-.94-2.06-.94-.94-2.06-.94 2.06-2.06.94zm-11 1L8.5 8.5l.94-2.06 2.06-.94-2.06-.94L8.5 2.5l-.94 2.06-2.06.94zm10 10l.94 2.06.94-2.06 2.06-.94-2.06-.94-.94-2.06-.94 2.06-2.06.94z\"/><path d=\"M17.41 7.96l-1.37-1.37c-.4-.4-.92-.59-1.43-.59-.52 0-1.04.2-1.43.59L10.3 9.45l-7.72 7.72c-.78.78-.78 2.05 0 2.83L4 21.41c.39.39.9.59 1.41.59.51 0 1.02-.2 1.41-.59l7.78-7.78 2.81-2.81c.8-.78.8-2.07 0-2.86zM5.41 20L4 18.59l7.72-7.72 1.47 1.35L5.41 20z\"/>\n",
              "  </svg>\n",
              "      </button>\n",
              "      \n",
              "  <style>\n",
              "    .colab-df-container {\n",
              "      display:flex;\n",
              "      flex-wrap:wrap;\n",
              "      gap: 12px;\n",
              "    }\n",
              "\n",
              "    .colab-df-convert {\n",
              "      background-color: #E8F0FE;\n",
              "      border: none;\n",
              "      border-radius: 50%;\n",
              "      cursor: pointer;\n",
              "      display: none;\n",
              "      fill: #1967D2;\n",
              "      height: 32px;\n",
              "      padding: 0 0 0 0;\n",
              "      width: 32px;\n",
              "    }\n",
              "\n",
              "    .colab-df-convert:hover {\n",
              "      background-color: #E2EBFA;\n",
              "      box-shadow: 0px 1px 2px rgba(60, 64, 67, 0.3), 0px 1px 3px 1px rgba(60, 64, 67, 0.15);\n",
              "      fill: #174EA6;\n",
              "    }\n",
              "\n",
              "    [theme=dark] .colab-df-convert {\n",
              "      background-color: #3B4455;\n",
              "      fill: #D2E3FC;\n",
              "    }\n",
              "\n",
              "    [theme=dark] .colab-df-convert:hover {\n",
              "      background-color: #434B5C;\n",
              "      box-shadow: 0px 1px 3px 1px rgba(0, 0, 0, 0.15);\n",
              "      filter: drop-shadow(0px 1px 2px rgba(0, 0, 0, 0.3));\n",
              "      fill: #FFFFFF;\n",
              "    }\n",
              "  </style>\n",
              "\n",
              "      <script>\n",
              "        const buttonEl =\n",
              "          document.querySelector('#df-3bfdabd2-381e-4320-9b4f-e1812f46f84a button.colab-df-convert');\n",
              "        buttonEl.style.display =\n",
              "          google.colab.kernel.accessAllowed ? 'block' : 'none';\n",
              "\n",
              "        async function convertToInteractive(key) {\n",
              "          const element = document.querySelector('#df-3bfdabd2-381e-4320-9b4f-e1812f46f84a');\n",
              "          const dataTable =\n",
              "            await google.colab.kernel.invokeFunction('convertToInteractive',\n",
              "                                                     [key], {});\n",
              "          if (!dataTable) return;\n",
              "\n",
              "          const docLinkHtml = 'Like what you see? Visit the ' +\n",
              "            '<a target=\"_blank\" href=https://colab.research.google.com/notebooks/data_table.ipynb>data table notebook</a>'\n",
              "            + ' to learn more about interactive tables.';\n",
              "          element.innerHTML = '';\n",
              "          dataTable['output_type'] = 'display_data';\n",
              "          await google.colab.output.renderOutput(dataTable, element);\n",
              "          const docLink = document.createElement('div');\n",
              "          docLink.innerHTML = docLinkHtml;\n",
              "          element.appendChild(docLink);\n",
              "        }\n",
              "      </script>\n",
              "    </div>\n",
              "  </div>\n",
              "  "
            ]
          },
          "metadata": {},
          "execution_count": 38
        }
      ]
    },
    {
      "cell_type": "code",
      "source": [
        "data_fix = data_fix.reset_index(drop=True)"
      ],
      "metadata": {
        "id": "nuX_y5xVbERt"
      },
      "execution_count": null,
      "outputs": []
    },
    {
      "cell_type": "code",
      "source": [
        "data_fix.head()"
      ],
      "metadata": {
        "colab": {
          "base_uri": "https://localhost:8080/",
          "height": 206
        },
        "id": "w6Nn-x59MBsG",
        "outputId": "9fbdc193-cbe6-4751-d837-84d8454ae3af"
      },
      "execution_count": null,
      "outputs": [
        {
          "output_type": "execute_result",
          "data": {
            "text/plain": [
              "                    name  review_datetime_utc  \\\n",
              "0  CABE IJO LIVE SEAFOOD  06/21/2022 09:48:45   \n",
              "1          The Holy Crab  01/10/2019 04:19:02   \n",
              "2          The Holy Crab  05/02/2018 14:40:22   \n",
              "3          The Holy Crab  02/08/2020 16:46:48   \n",
              "4  CABE IJO LIVE SEAFOOD  05/21/2021 17:01:06   \n",
              "\n",
              "                                      review_img_url  review_rating  \\\n",
              "0  https://lh5.googleusercontent.com/p/AF1QipOBev...              5   \n",
              "1  https://lh5.googleusercontent.com/p/AF1QipPysR...              4   \n",
              "2  https://lh5.googleusercontent.com/p/AF1QipOuB0...              4   \n",
              "3  https://lh5.googleusercontent.com/p/AF1QipMHKu...              4   \n",
              "4  https://lh5.googleusercontent.com/p/AF1QipO3Ei...              5   \n",
              "\n",
              "                                         review_text  \n",
              "0  Mantap sekali sajian makanannya. Paling suka s...  \n",
              "1  Pilihan saus nya enak banget. Kepiting nya jug...  \n",
              "2                                    Enak tapi mahal  \n",
              "3  New style source makes different feel to commo...  \n",
              "4  Cobain Kepiting saus chilli, Udang rebus, Ikan...  "
            ],
            "text/html": [
              "\n",
              "  <div id=\"df-6e924844-14ed-4bf7-b054-f3319c58e2ea\">\n",
              "    <div class=\"colab-df-container\">\n",
              "      <div>\n",
              "<style scoped>\n",
              "    .dataframe tbody tr th:only-of-type {\n",
              "        vertical-align: middle;\n",
              "    }\n",
              "\n",
              "    .dataframe tbody tr th {\n",
              "        vertical-align: top;\n",
              "    }\n",
              "\n",
              "    .dataframe thead th {\n",
              "        text-align: right;\n",
              "    }\n",
              "</style>\n",
              "<table border=\"1\" class=\"dataframe\">\n",
              "  <thead>\n",
              "    <tr style=\"text-align: right;\">\n",
              "      <th></th>\n",
              "      <th>name</th>\n",
              "      <th>review_datetime_utc</th>\n",
              "      <th>review_img_url</th>\n",
              "      <th>review_rating</th>\n",
              "      <th>review_text</th>\n",
              "    </tr>\n",
              "  </thead>\n",
              "  <tbody>\n",
              "    <tr>\n",
              "      <th>0</th>\n",
              "      <td>CABE IJO LIVE SEAFOOD</td>\n",
              "      <td>06/21/2022 09:48:45</td>\n",
              "      <td>https://lh5.googleusercontent.com/p/AF1QipOBev...</td>\n",
              "      <td>5</td>\n",
              "      <td>Mantap sekali sajian makanannya. Paling suka s...</td>\n",
              "    </tr>\n",
              "    <tr>\n",
              "      <th>1</th>\n",
              "      <td>The Holy Crab</td>\n",
              "      <td>01/10/2019 04:19:02</td>\n",
              "      <td>https://lh5.googleusercontent.com/p/AF1QipPysR...</td>\n",
              "      <td>4</td>\n",
              "      <td>Pilihan saus nya enak banget. Kepiting nya jug...</td>\n",
              "    </tr>\n",
              "    <tr>\n",
              "      <th>2</th>\n",
              "      <td>The Holy Crab</td>\n",
              "      <td>05/02/2018 14:40:22</td>\n",
              "      <td>https://lh5.googleusercontent.com/p/AF1QipOuB0...</td>\n",
              "      <td>4</td>\n",
              "      <td>Enak tapi mahal</td>\n",
              "    </tr>\n",
              "    <tr>\n",
              "      <th>3</th>\n",
              "      <td>The Holy Crab</td>\n",
              "      <td>02/08/2020 16:46:48</td>\n",
              "      <td>https://lh5.googleusercontent.com/p/AF1QipMHKu...</td>\n",
              "      <td>4</td>\n",
              "      <td>New style source makes different feel to commo...</td>\n",
              "    </tr>\n",
              "    <tr>\n",
              "      <th>4</th>\n",
              "      <td>CABE IJO LIVE SEAFOOD</td>\n",
              "      <td>05/21/2021 17:01:06</td>\n",
              "      <td>https://lh5.googleusercontent.com/p/AF1QipO3Ei...</td>\n",
              "      <td>5</td>\n",
              "      <td>Cobain Kepiting saus chilli, Udang rebus, Ikan...</td>\n",
              "    </tr>\n",
              "  </tbody>\n",
              "</table>\n",
              "</div>\n",
              "      <button class=\"colab-df-convert\" onclick=\"convertToInteractive('df-6e924844-14ed-4bf7-b054-f3319c58e2ea')\"\n",
              "              title=\"Convert this dataframe to an interactive table.\"\n",
              "              style=\"display:none;\">\n",
              "        \n",
              "  <svg xmlns=\"http://www.w3.org/2000/svg\" height=\"24px\"viewBox=\"0 0 24 24\"\n",
              "       width=\"24px\">\n",
              "    <path d=\"M0 0h24v24H0V0z\" fill=\"none\"/>\n",
              "    <path d=\"M18.56 5.44l.94 2.06.94-2.06 2.06-.94-2.06-.94-.94-2.06-.94 2.06-2.06.94zm-11 1L8.5 8.5l.94-2.06 2.06-.94-2.06-.94L8.5 2.5l-.94 2.06-2.06.94zm10 10l.94 2.06.94-2.06 2.06-.94-2.06-.94-.94-2.06-.94 2.06-2.06.94z\"/><path d=\"M17.41 7.96l-1.37-1.37c-.4-.4-.92-.59-1.43-.59-.52 0-1.04.2-1.43.59L10.3 9.45l-7.72 7.72c-.78.78-.78 2.05 0 2.83L4 21.41c.39.39.9.59 1.41.59.51 0 1.02-.2 1.41-.59l7.78-7.78 2.81-2.81c.8-.78.8-2.07 0-2.86zM5.41 20L4 18.59l7.72-7.72 1.47 1.35L5.41 20z\"/>\n",
              "  </svg>\n",
              "      </button>\n",
              "      \n",
              "  <style>\n",
              "    .colab-df-container {\n",
              "      display:flex;\n",
              "      flex-wrap:wrap;\n",
              "      gap: 12px;\n",
              "    }\n",
              "\n",
              "    .colab-df-convert {\n",
              "      background-color: #E8F0FE;\n",
              "      border: none;\n",
              "      border-radius: 50%;\n",
              "      cursor: pointer;\n",
              "      display: none;\n",
              "      fill: #1967D2;\n",
              "      height: 32px;\n",
              "      padding: 0 0 0 0;\n",
              "      width: 32px;\n",
              "    }\n",
              "\n",
              "    .colab-df-convert:hover {\n",
              "      background-color: #E2EBFA;\n",
              "      box-shadow: 0px 1px 2px rgba(60, 64, 67, 0.3), 0px 1px 3px 1px rgba(60, 64, 67, 0.15);\n",
              "      fill: #174EA6;\n",
              "    }\n",
              "\n",
              "    [theme=dark] .colab-df-convert {\n",
              "      background-color: #3B4455;\n",
              "      fill: #D2E3FC;\n",
              "    }\n",
              "\n",
              "    [theme=dark] .colab-df-convert:hover {\n",
              "      background-color: #434B5C;\n",
              "      box-shadow: 0px 1px 3px 1px rgba(0, 0, 0, 0.15);\n",
              "      filter: drop-shadow(0px 1px 2px rgba(0, 0, 0, 0.3));\n",
              "      fill: #FFFFFF;\n",
              "    }\n",
              "  </style>\n",
              "\n",
              "      <script>\n",
              "        const buttonEl =\n",
              "          document.querySelector('#df-6e924844-14ed-4bf7-b054-f3319c58e2ea button.colab-df-convert');\n",
              "        buttonEl.style.display =\n",
              "          google.colab.kernel.accessAllowed ? 'block' : 'none';\n",
              "\n",
              "        async function convertToInteractive(key) {\n",
              "          const element = document.querySelector('#df-6e924844-14ed-4bf7-b054-f3319c58e2ea');\n",
              "          const dataTable =\n",
              "            await google.colab.kernel.invokeFunction('convertToInteractive',\n",
              "                                                     [key], {});\n",
              "          if (!dataTable) return;\n",
              "\n",
              "          const docLinkHtml = 'Like what you see? Visit the ' +\n",
              "            '<a target=\"_blank\" href=https://colab.research.google.com/notebooks/data_table.ipynb>data table notebook</a>'\n",
              "            + ' to learn more about interactive tables.';\n",
              "          element.innerHTML = '';\n",
              "          dataTable['output_type'] = 'display_data';\n",
              "          await google.colab.output.renderOutput(dataTable, element);\n",
              "          const docLink = document.createElement('div');\n",
              "          docLink.innerHTML = docLinkHtml;\n",
              "          element.appendChild(docLink);\n",
              "        }\n",
              "      </script>\n",
              "    </div>\n",
              "  </div>\n",
              "  "
            ]
          },
          "metadata": {},
          "execution_count": 40
        }
      ]
    },
    {
      "cell_type": "code",
      "source": [
        "indx_1 = data_fix[data_fix['review_rating'] == 1].index\n",
        "indx_2 = data_fix[data_fix['review_rating'] == 2].index\n",
        "indx_3 = data_fix[data_fix['review_rating'] == 3].index\n",
        "indx_4 = data_fix[data_fix['review_rating'] == 4].index\n",
        "indx_5 = data_fix[data_fix['review_rating'] == 5].index\n",
        "\n",
        "print('rating 1 : ',len(indx_1)) # 6\n",
        "print('rating 2 : ',len(indx_2)) # 3\n",
        "print('rating 3 : ',len(indx_3)) # 3\n",
        "print('rating 4 : ',len(indx_4)) # 16\n",
        "print('rating 5 : ',len(indx_5)) # 72\n",
        "print('\\n')\n",
        "print('Review Negatif (1,2) : ',len(indx_1)+len(indx_2))\n",
        "print('Review Netral (3) : ',len(indx_3))\n",
        "print('Review Positif (4,5) : ',len(indx_4)+len(indx_5))"
      ],
      "metadata": {
        "colab": {
          "base_uri": "https://localhost:8080/"
        },
        "id": "wKMpqAcrcJcm",
        "outputId": "b344da6b-c4e3-486d-e7fd-1badb98aa988"
      },
      "execution_count": null,
      "outputs": [
        {
          "output_type": "stream",
          "name": "stdout",
          "text": [
            "rating 1 :  82\n",
            "rating 2 :  68\n",
            "rating 3 :  150\n",
            "rating 4 :  47\n",
            "rating 5 :  103\n",
            "\n",
            "\n",
            "Review Negatif (1,2) :  150\n",
            "Review Netral (3) :  150\n",
            "Review Positif (4,5) :  150\n"
          ]
        }
      ]
    },
    {
      "cell_type": "markdown",
      "source": [
        "## Export Data"
      ],
      "metadata": {
        "id": "w_sVl2fjbxul"
      }
    },
    {
      "cell_type": "code",
      "source": [
        "# Define function export data to export dataframe to csv file\n",
        "\t\n",
        "from google.colab import files\n",
        "def export_data(df,data_name,neg,neu,pos):\n",
        "  name_file = data_name+'_'+str(pos)+'_'+str(neu)+'_'+str(neg)+'.xlsx'\n",
        "  df.to_excel(name_file)\n",
        "  files.download(name_file)\n",
        "  msg = 'Success Export Data'\n",
        "  return msg"
      ],
      "metadata": {
        "id": "nB2lB3OhbmXc"
      },
      "execution_count": null,
      "outputs": []
    },
    {
      "cell_type": "code",
      "source": [
        "# Define parameter's variabel\n",
        "neg = len(indx_1)+len(indx_2)\n",
        "neu = len(indx_3)\n",
        "pos = len(indx_4)+len(indx_5)\n",
        "\n",
        "# Apply Function\n",
        "export_data(data_fix,data_name,neg,neu,pos)"
      ],
      "metadata": {
        "colab": {
          "base_uri": "https://localhost:8080/",
          "height": 53
        },
        "id": "QeoIs9bPek72",
        "outputId": "3344e177-e85e-4f32-ea03-5f2149bc3a5d"
      },
      "execution_count": null,
      "outputs": [
        {
          "output_type": "display_data",
          "data": {
            "text/plain": [
              "<IPython.core.display.Javascript object>"
            ],
            "application/javascript": [
              "\n",
              "    async function download(id, filename, size) {\n",
              "      if (!google.colab.kernel.accessAllowed) {\n",
              "        return;\n",
              "      }\n",
              "      const div = document.createElement('div');\n",
              "      const label = document.createElement('label');\n",
              "      label.textContent = `Downloading \"${filename}\": `;\n",
              "      div.appendChild(label);\n",
              "      const progress = document.createElement('progress');\n",
              "      progress.max = size;\n",
              "      div.appendChild(progress);\n",
              "      document.body.appendChild(div);\n",
              "\n",
              "      const buffers = [];\n",
              "      let downloaded = 0;\n",
              "\n",
              "      const channel = await google.colab.kernel.comms.open(id);\n",
              "      // Send a message to notify the kernel that we're ready.\n",
              "      channel.send({})\n",
              "\n",
              "      for await (const message of channel.messages) {\n",
              "        // Send a message to notify the kernel that we're ready.\n",
              "        channel.send({})\n",
              "        if (message.buffers) {\n",
              "          for (const buffer of message.buffers) {\n",
              "            buffers.push(buffer);\n",
              "            downloaded += buffer.byteLength;\n",
              "            progress.value = downloaded;\n",
              "          }\n",
              "        }\n",
              "      }\n",
              "      const blob = new Blob(buffers, {type: 'application/binary'});\n",
              "      const a = document.createElement('a');\n",
              "      a.href = window.URL.createObjectURL(blob);\n",
              "      a.download = filename;\n",
              "      div.appendChild(a);\n",
              "      a.click();\n",
              "      div.remove();\n",
              "    }\n",
              "  "
            ]
          },
          "metadata": {}
        },
        {
          "output_type": "display_data",
          "data": {
            "text/plain": [
              "<IPython.core.display.Javascript object>"
            ],
            "application/javascript": [
              "download(\"download_e9a676ed-97d7-4915-83bd-277bdffc5c2f\", \"seafood_murah_150_150_150.xlsx\", 89497)"
            ]
          },
          "metadata": {}
        },
        {
          "output_type": "execute_result",
          "data": {
            "text/plain": [
              "'Success Export Data'"
            ],
            "application/vnd.google.colaboratory.intrinsic+json": {
              "type": "string"
            }
          },
          "metadata": {},
          "execution_count": 43
        }
      ]
    },
    {
      "cell_type": "code",
      "source": [
        "data_fix.duplicated().sum()"
      ],
      "metadata": {
        "colab": {
          "base_uri": "https://localhost:8080/"
        },
        "id": "ZtsxFo-rkNd7",
        "outputId": "dc3fc95c-8217-4fb9-d4db-8d934e23b4aa"
      },
      "execution_count": null,
      "outputs": [
        {
          "output_type": "execute_result",
          "data": {
            "text/plain": [
              "0"
            ]
          },
          "metadata": {},
          "execution_count": 44
        }
      ]
    },
    {
      "cell_type": "code",
      "source": [
        "data_fix.shape"
      ],
      "metadata": {
        "colab": {
          "base_uri": "https://localhost:8080/"
        },
        "id": "f3pX_O89rhFW",
        "outputId": "19d06636-45ba-4a86-d2cd-2d98da080766"
      },
      "execution_count": null,
      "outputs": [
        {
          "output_type": "execute_result",
          "data": {
            "text/plain": [
              "(450, 5)"
            ]
          },
          "metadata": {},
          "execution_count": 45
        }
      ]
    }
  ]
}