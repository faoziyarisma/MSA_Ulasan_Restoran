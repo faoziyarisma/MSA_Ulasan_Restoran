{
  "nbformat": 4,
  "nbformat_minor": 0,
  "metadata": {
    "colab": {
      "provenance": []
    },
    "kernelspec": {
      "name": "python3",
      "display_name": "Python 3"
    },
    "language_info": {
      "name": "python"
    },
    "gpuClass": "standard"
  },
  "cells": [
    {
      "cell_type": "markdown",
      "source": [
        "#**Preprocessing Data**"
      ],
      "metadata": {
        "id": "M4spNVRahFsS"
      }
    },
    {
      "cell_type": "markdown",
      "source": [
        "## **Collect 100 Data (Positive, Neutral, and Negative Reviews)**"
      ],
      "metadata": {
        "id": "fX_XKSKEhUG2"
      }
    },
    {
      "cell_type": "markdown",
      "source": [
        "### **Import Library**"
      ],
      "metadata": {
        "id": "AQdLq0nziYSA"
      }
    },
    {
      "cell_type": "code",
      "source": [
        "# Packages for EDA (Exploratory Data Analyst)\n",
        "import pandas as pd\n",
        "import numpy as np\n",
        "\n",
        "# Load Data\n",
        "from google.colab import drive\n",
        "\n",
        "# For random data for data with rating 4/5\n",
        "import random\n",
        "\n",
        "# For download files in colab local directory\n",
        "from google.colab import files"
      ],
      "metadata": {
        "id": "w9-Uo9kwiV-D"
      },
      "execution_count": null,
      "outputs": []
    },
    {
      "cell_type": "markdown",
      "source": [
        "### **Define Dataset**"
      ],
      "metadata": {
        "id": "tpjX3Wf5lNXY"
      }
    },
    {
      "cell_type": "markdown",
      "source": [
        "#### **Restoran Lokal**"
      ],
      "metadata": {
        "id": "D-lmX0SNlg-9"
      }
    },
    {
      "cell_type": "markdown",
      "source": [
        "##### **Murah**\n"
      ],
      "metadata": {
        "id": "OmPjVWwsxiFe"
      }
    },
    {
      "cell_type": "code",
      "source": [
        "# Inisialisasi path file\n",
        "# Restoran Lokal\n",
        "## Kat Murah\n",
        "path_file_restoran_lokal_murah = '/content/drive/My Drive/Bismillah_Skripsi_Bisa_Amiiin/Data/Restoran_Lokal/Kat_Murah/'\n",
        "\n",
        "### Bakso dan Soto Sami Asih\n",
        "data_bakso_soto_sami_asih_xlsx = path_file_restoran_lokal_murah + 'Bakso_dan_Soto_Sami_Asih/Bakso_dan_Soto_Sami_Asih.xlsx'\n",
        "\n",
        "### Bebek Kaleyo\n",
        "data_bebek_kaleyo_xlsx = path_file_restoran_lokal_murah + 'Bebek_Kaleyo/Gmaps_Bebek_Kaleyo.xlsx'\n",
        "\n",
        "### Dapur Dahapati\n",
        "data_dapur_dahapati_lr_xlsx = path_file_restoran_lokal_murah + 'Dapur_Dahapati/Dapur_Dahapati(LR).xlsx' # lowest rating\n",
        "data_dapur_dahapati_hr_xlsx = path_file_restoran_lokal_murah + 'Dapur_Dahapati/Dapur_Dahapati(HR).xlsx' # highest rating\n",
        "\n",
        "### Kedai Beringin\n",
        "data_kedai_beringin_lr_xlsx = path_file_restoran_lokal_murah + 'Kedai_Beringin/Kedai_Beringin(LR).xlsx' # lowest rating\n",
        "data_kedai_beringin_hr_xlsx = path_file_restoran_lokal_murah + 'Kedai_Beringin/Kedai_Beringin(HR).xlsx' # highest rating\n",
        "\n",
        "### Kedai Soto Ibu Rahayu\n",
        "data_kedai_soto_ibu_rahayu_xlsx = path_file_restoran_lokal_murah + 'Kedai_Soto_Ibu_Rahayu/Kedai_Soto_Ibu_Rahayu(MR).xlsx' # most relevan\n",
        "\n",
        "### Ketoprak Jakarta 88\n",
        "data_ketoprak_jakarta_88_lr_xlsx = path_file_restoran_lokal_murah + 'Ketoprak_Jakarta_88/Ketoprak_Jakarta_88(LR).xlsx' # lowest rating\n",
        "\n",
        "### Mie Gacoan\n",
        "data_mie_gacoan_xlsx = path_file_restoran_lokal_murah + 'Mie_Gacoan/Mie_Gacoan.xlsx'\n",
        "\n",
        "### Nasi Goreng Babat Pak Karmin\n",
        "data_nasi_goreng_pak_karmin_xlsx = path_file_restoran_lokal_murah + 'Nasi_Goreng_Babat_Pak_Karmin/Nasi_Goreng_Babat_Pak_Karmin.xlsx'\n",
        "\n",
        "### Prekju Ayam Geprek Keju Semarang\n",
        "data_prekju_ayam_geprek_keju_semarang_xlsx = '/content/drive/My Drive/Bismillah_Skripsi_Bisa_Amiiin/Data/Restoran_Lokal/Kat_Murah/Prekju_Ayam_Geprek_Keju_Semarang/Prekju_Ayam_Geprek_Keju_Semarang.xlsx'\n",
        "\n",
        "### RM Padang Minang Agung Tidar\n",
        "data_padang_agung_tidar_xlsx = path_file_restoran_lokal_murah + 'RM_Padang_Minang_Agung_Tidar/RM_Padang_Minang_Agung_Tidar(MR).xlsx' # most relevan\n",
        "\n",
        "### Sate Klathak Pak Pong\n",
        "data_sate_klathak_pak_pong_xlsx = '/content/drive/My Drive/Bismillah_Skripsi_Bisa_Amiiin/Data/Restoran_Lokal/Kat_Murah/Sate_Klathak_Pak_Pong/Sate_Klathak_Pak_Pong.xlsx'\n",
        "\n",
        "### Sego Sambel Mak Yeye\n",
        "data_sego_sambel_mak_yeye_hr_xlsx = path_file_restoran_lokal_murah + 'Sego_Sambel_Mak_Yeye/Sego_Sambel_Mak_Yeye(HR).xlsx' # highest rating\n",
        "\n",
        "### Soto Ayam Dargo Pak Wito\n",
        "data_soto_pak_wito_xlsx = path_file_restoran_lokal_murah + 'Soto_Ayam_Dargo_Pak_Wito/Gmaps_Soto_Ayam_Dargo_Pak_Wito.xlsx'\n",
        "data_soto_pak_wito_xlsx2 = path_file_restoran_lokal_murah + 'Soto_Ayam_Dargo_Pak_Wito/Gmaps_Soto_Ayam_Dargo_Pak_Wito_2.xlsx'\n",
        "\n",
        "### Warung Okkey\n",
        "data_warung_okkey_lr_xlsx = path_file_restoran_lokal_murah + 'Warung_Okkey/Warung_Okkey(LR).xlsx' # lowest rating\n",
        "data_warung_okkey_hr_xlsx = path_file_restoran_lokal_murah + 'Warung_Okkey/Warung_Okkey(HR).xlsx' # highest rating\n",
        "\n",
        "### Warung Sate Putra Saudara\n",
        "data_sate_putra_saudara_xlsx = path_file_restoran_lokal_murah + 'Warung_Sate_Putra_Saudara/Gmaps_Warung_Sate_Putra_Saudara.xlsx'\n",
        "\n",
        "### Sate Ayam dan Kambing RSPP H.Romli\n",
        "data_sate_ayam_kambing_h_romli_xlsx = path_file_restoran_lokal_murah + 'Sate_Ayam_dan_Kambing_RSPP_H._Romli/Sate_Ayam_dan_Kambing_RSPP_H._Romli_LR.xlsx'\n",
        "\n",
        "### Sate Kambing & Thengkleng Rica-rica Pak Manto\n",
        "data_sate_thengkleng_rica_pak_manto_xlsx = path_file_restoran_lokal_murah + 'Sate_Kambing_&_Thengkleng_Rica-rica_Pak_Manto/Sate_Kambing_&_Thengkleng_Rica-rica_Pak_Manto_LR.xlsx'\n",
        "\n",
        "### Warunk Upnormal Grand Wisata\n",
        "data_warunk_upnormal_grand_wisata_xlsx = path_file_restoran_lokal_murah + 'Warunk_Upnormal_Grand_Wisata/Warunk_Upnormal_Grand_Wisata(LR).xlsx'\n",
        "\n",
        "### Warung Leko\n",
        "data_warung_leko_xlsx = path_file_restoran_lokal_murah + 'Warung_Leko/Warung_Leko.csv'\n",
        "\n",
        "### Soto Lamongan Cak Har\n",
        "data_soto_lamongan_cak_har_xlsx = path_file_restoran_lokal_murah + 'Soto_Lamongan_Cak_Har/Soto_Lamongan_Cak_Har.csv'\n",
        "\n",
        "### The House of Raminten \n",
        "data_the_house_of_raminten_xlsx = path_file_restoran_lokal_murah + 'The_House_Of_Raminten/The_House_Of_Raminten_LR.xlsx'\n",
        "\n",
        "### Ayam Goreng & Sup Buntut Daging Pak Supar\n",
        "data_ayam_goreng_sup_buntut_pak_supar = path_file_restoran_lokal_murah + 'Ayam_Goreng_&_Sop_Buntut_Daging_Pak_Supar/Ayam_Goreng_&_Sop_Buntut_Daging_Pak_Supar_LR.xlsx'"
      ],
      "metadata": {
        "id": "cigKUOqZxzGc"
      },
      "execution_count": null,
      "outputs": []
    },
    {
      "cell_type": "markdown",
      "source": [
        "##### **Mahal**"
      ],
      "metadata": {
        "id": "jbR-wf9Sxm5R"
      }
    },
    {
      "cell_type": "code",
      "source": [
        "# Inisialisasi path file\n",
        "# Restoran Lokal\n",
        "## Kat Mahal\n",
        "path_file_restoran_lokal_murah_mahal = '/content/drive/My Drive/Bismillah_Skripsi_Bisa_Amiiin/Data/Restoran_Lokal/Kat_Mahal/'\n",
        "\n",
        "### Bebek Tepi Sawah\n",
        "data_bebek_tepi_sawah_xlsx = path_file_restoran_lokal_murah_mahal + 'Bebek_Tepi_Sawah/Bebek_Tepi_Sawah_Restaurant_Ubud_MR.xlsx'\n",
        "data_bebek_tepi_sawah_lr_xlsx = path_file_restoran_lokal_murah_mahal + 'Bebek_Tepi_Sawah/Bebek_Tepi_Sawah_Restaurant_Ubud_LR.xlsx'\n",
        "\n",
        "### Koenokoeni\n",
        "data_koenokoeni_xlsx = path_file_restoran_lokal_murah_mahal + 'Koenokoeni/Gmaps_Koenokoeni.xlsx'\n",
        "\n",
        "### Remboelan\n",
        "data_remboelan_xlsx = path_file_restoran_lokal_murah_mahal + 'Remboelan/Gmaps_Remboelan.xlsx'\n",
        "\n",
        "### Blue Jasmine\n",
        "data_blue_jasmine_xlsx = path_file_restoran_lokal_murah_mahal + 'Blue_Jasmine/Blue Jasmine_MR.xlsx'\n",
        "data_blue_jasmine_lr_xlsx = path_file_restoran_lokal_murah_mahal + 'Blue_Jasmine/Blue_Jasmine_LR.xlsx'\n",
        "\n",
        "### Pesta Keboen Resto\n",
        "data_pesta_keboen_xlsx = path_file_restoran_lokal_murah_mahal + 'Pesta_Keboen_Resto/Gmaps_Pesta_Keboen_Resto.xlsx'\n",
        "\n",
        "### Bebek Bengil\n",
        "data_bebek_bengil_lr_xlsx = path_file_restoran_lokal_murah_mahal + 'Bebek_Bengil/Bebek_Bengil(LR).xlsx'\n",
        "\n",
        "### Grand Garden Resto & Cafe\n",
        "data_grand_garden_lr_xlsx = path_file_restoran_lokal_murah_mahal + 'Grand_Garden_Resto_&_Cafe/Grand_Garden_Resto_&_Cafe(LR).xlsx'\n",
        "\n",
        "### Kampung Daun Culture Gallery & Cafe\n",
        "data_kampung_daun_xlsx = path_file_restoran_lokal_murah_mahal + 'Kampung_Daun_Culture_Gallery_&_Cafe/Kampung_Daun_Culture_Gallery_&_Cafe(MR).xlsx'\n",
        "\n",
        "### Pit's Corner\n",
        "data_pits_corner_lr_xlsx = path_file_restoran_lokal_murah_mahal + 'Pits_Corner/Pits_Corner(LR).xlsx'\n",
        "data_pits_corner_hr_xlsx = path_file_restoran_lokal_murah_mahal + 'Pits_Corner/Pits_Corner(HR).xlsx'\n",
        "\n",
        "### RM Ampera 2 Tak\n",
        "data_rm_ampera_2_tak_xlsx = path_file_restoran_lokal_murah_mahal + 'RM_Ampera_2_Tak/RM._Ampera_2_Tak(MR).xlsx'\n",
        "\n",
        "### Ayam Bakar Primarasa\n",
        "data_ayam_bakar_primarasa_lr_xlsx = path_file_restoran_lokal_murah_mahal + 'Ayam_Bakar_Primarasa/Ayam_Bakar_Primarasa(LR).xlsx'\n",
        "\n",
        "### Tesate Restaurant\n",
        "data_tesate_restaurant_hr_xlsx = path_file_restoran_lokal_murah_mahal + 'Tesate_Restaurant/Tesate_Restaurant(HR).xlsx'\n",
        "\n",
        "### Konro Karebosi\n",
        "data_konro_karebosi_lr_xlsx = path_file_restoran_lokal_murah_mahal + 'Konro_Karebosi/Konro_Karebosi_LR.xlsx'\n",
        "data_konro_karebosi_hr_xlsx = path_file_restoran_lokal_murah_mahal + 'Konro_Karebosi/Konro_Karebosi_HR.xlsx'\n",
        "\n",
        "### Sekar Kedhaton Restaurant\n",
        "data_sekar_kedhaton_lr_xlsx = path_file_restoran_lokal_murah_mahal + 'Sekar_Kedhaton_Restaurant/Sekar_Kedhaton_Restaurant_LR.xlsx'\n",
        "data_sekar_kedhaton_hr_xlsx = path_file_restoran_lokal_murah_mahal + 'Sekar_Kedhaton_Restaurant/Sekar_Kedhaton_Restaurant_HR.xlsx'\n",
        "\n",
        "### Sindang Reret Restaurant & Catering Karawang\n",
        "data_sindang_reret_lr_xlsx = path_file_restoran_lokal_murah_mahal + 'Sindang_Reret_Restaurant_&_Catering_Karawang/Sindang_Reret_Restaurant_&_Catering_Karawang_LR.xlsx'\n",
        "data_sindang_reret_hr_xlsx = path_file_restoran_lokal_murah_mahal + 'Sindang_Reret_Restaurant_&_Catering_Karawang/Sindang_Reret_Restaurant_&_Catering_Karawang_HR.xlsx'\n",
        "\n",
        "### ABHAYAGIRI\n",
        "data_abhayagiri_lr_xlsx = path_file_restoran_lokal_murah_mahal + 'ABHAYAGIRI/ABHAYAGIRI_LR.xlsx'\n",
        "data_abhayagiri_hr_xlsx = path_file_restoran_lokal_murah_mahal + 'ABHAYAGIRI/ABHAYAGIRI_HR.xlsx'\n",
        "\n",
        "### Gudeg Bu Hj. Ahmad\n",
        "data_gudeg_bu_hj_ahmad_lr_xlsx = path_file_restoran_lokal_murah_mahal + 'Gudeg_Bu_Hj._Amad/Gudeg_Bu_Hj._Amad_LR.xlsx'\n",
        "data_gudeg_bu_hj_ahmad_hr_xlsx = path_file_restoran_lokal_murah_mahal + 'Gudeg_Bu_Hj._Amad/Gudeg_Bu_Hj._Amad_HR.xlsx'\n",
        "\n",
        "### Sindang Reret Restaurant & Catering Karawang\n",
        "data_sindang_reret_bandung_lr_xlsx = path_file_restoran_lokal_murah_mahal + 'Sindang_Reret_Restaurant_Surapati_Bandung/Sindang_Reret_Restaurant_Surapati_Bandung_LR.xlsx'\n",
        "data_sindang_reret_bandung_hr_xlsx = path_file_restoran_lokal_murah_mahal + 'Sindang_Reret_Restaurant_Surapati_Bandung/Sindang_Reret_Restaurant_Surapati_Bandung_HR.xlsx'\n",
        "\n",
        "### Gabah Restoran & Bar\n",
        "data_gabah_restoran_bar_lr_xlsx = path_file_restoran_lokal_murah_mahal + 'Gabah_Restaurant_Bar/Gabah_Restaurant_&_Bar_LR.xlsx'\n"
      ],
      "metadata": {
        "id": "YO-IWbOllV1D"
      },
      "execution_count": null,
      "outputs": []
    },
    {
      "cell_type": "markdown",
      "source": [
        "#### **Restoran Mancanegara**"
      ],
      "metadata": {
        "id": "232WZgfQlnc3"
      }
    },
    {
      "cell_type": "markdown",
      "source": [
        "##### **Jepang**"
      ],
      "metadata": {
        "id": "9LdBGQadQ9Kc"
      }
    },
    {
      "cell_type": "code",
      "source": [
        "# Inisialisasi path file\n",
        "# Restoran Mancanegara\n",
        "## Kat Mahal\n",
        "## Jepang\n",
        "path_file_restoran_mancanegara_jepang = '/content/drive/My Drive/Bismillah_Skripsi_Bisa_Amiiin/Data/Restoran_Manca_Negara/Jepang/'\n",
        "\n",
        "### Marugame Udon\n",
        "# data_marugame_udon_xlsx = path_file_restoran_mancanegara_jepang + 'Marugame_Udon/Tripadvisor_Marugame_Udon.xlsx'\n",
        "data_marugame_udon_xlsx = path_file_restoran_mancanegara_jepang + 'Marugame_Udon/Gmaps_Marugame_Udon.xlsx'\n",
        "\n",
        "### Sana Sini Restoran\n",
        "data_sana_sini_xlsx = path_file_restoran_mancanegara_jepang + 'Sana_Sini_Restoran/Gmaps_Sana_Sini_Restoran.xlsx'\n",
        "\n",
        "### Ichiban Sushi\n",
        "data_ichiban_sushi_10_xlsx = path_file_restoran_mancanegara_jepang + 'Jepang/Ichiban_Sushi/Gmaps_Ichiban_Sushi_10.xlsx'\n",
        "data_ichiban_sushi_xlsx = path_file_restoran_mancanegara_jepang + 'Jepang/Ichiban_Sushi/Gmaps_Ichiban_Sushi.xlsx'\n",
        "\n",
        "### 90 Gourmet\n",
        "data_90_gourmet_lr_xlsx = path_file_restoran_mancanegara_jepang + '90_Gourmet/90_Gourmet(LR).xlsx'\n",
        "data_90_gourmet_hr_xlsx = path_file_restoran_mancanegara_jepang + '90_Gourmet/90_Gourmet(HR).xlsx'\n",
        "\n",
        "### Aburi Sushi Resto\n",
        "data_aburi_sushi_lr_xlsx = path_file_restoran_mancanegara_jepang + 'Aburi_Sushi_Resto/Aburi_Sushi_Resto(LR).xlsx'\n",
        "data_aburi_sushi_hr_xlsx = path_file_restoran_mancanegara_jepang + 'Aburi_Sushi_Resto/Aburi_Sushi_Resto(HR).xlsx'\n",
        "\n",
        "### DeSushi Ramen & Teppan Ciwalk\n",
        "data_desushi_ramen_lr_xlsx = path_file_restoran_mancanegara_jepang + 'DeSushi/DeSushi(LR).xlsx'\n",
        "data_desushi_ramen_hr_xlsx = path_file_restoran_mancanegara_jepang + 'DeSushi/DeSushi(HR).xlsx'\n",
        "\n",
        "### Hachi Hachi Bistro Tunjungan Plaza 4\n",
        "data_hachi_hachi_bistoro_lr_xlsx = path_file_restoran_mancanegara_jepang + 'Hachi_Hachi_Bistro_Tunjungan_Plaza_4/Hachi_Hachi_Bistro_Tunjungan_Plaza_4(LR).xlsx'\n",
        "data_hachi_hachi_bistoro_hr_xlsx = path_file_restoran_mancanegara_jepang + 'Hachi_Hachi_Bistro_Tunjungan_Plaza_4/Hachi_Hachi_Bistro_Tunjungan_Plaza_4(HR).xlsx'\n",
        "\n",
        "### Hakata Ikkousha\n",
        "data_hakata_ikkousha_lr_xlsx = path_file_restoran_mancanegara_jepang + 'Hakata_Ikkousha/Hakata_Ikkousha(LR).xlsx'\n",
        "data_hakata_ikkousha_hr_xlsx = path_file_restoran_mancanegara_jepang + 'Hakata_Ikkousha/Hakata_Ikkousha(HR).xlsx'\n",
        "\n",
        "### Hokben\n",
        "data_hokben_lr_xlsx = path_file_restoran_mancanegara_jepang + 'Hokben/HokBen_Kaliurang(LR).xlsx'\n",
        "\n",
        "### Ichiban Sushi\n",
        "data_ichiban_sushi_xlsx = path_file_restoran_mancanegara_jepang + 'Ichiban_Sushi/Gmaps_Ichiban_Sushi.xlsx'\n",
        "\n",
        "### Marugame Udon\n",
        "data_marugame_udon_xlsx = path_file_restoran_mancanegara_jepang + 'Marugame_Udon/Gmaps_Marugame_Udon.xlsx'\n",
        "\n",
        "### NO NA MA\n",
        "data_no_na_ma_lr_xlsx = path_file_restoran_mancanegara_jepang + 'NO_NA_MA/NO_NA_MA(LR).xlsx'\n",
        "data_no_na_ma_hr_xlsx = path_file_restoran_mancanegara_jepang + 'NO_NA_MA/NO_NA_MA(HR).xlsx'\n",
        "\n",
        "### Sana Sini Restoran\n",
        "data_sana_sini_xlsx = path_file_restoran_mancanegara_jepang + 'Sana_Sini_Restoran/Gmaps_Sana_Sini_Restoran.xlsx'\n",
        "\n",
        "### Sumeragi Izakaya (Riau)\n",
        "data_sumeragi_izakaya_xlsx = path_file_restoran_mancanegara_jepang + 'Sumeragi_Izakaya_(Riau)/Sumeragi_Izakaya_(Riau)(MR).xlsx'\n",
        "\n",
        "### Sushi Tei\n",
        "data_sushi_tei_lr_xlsx = path_file_restoran_mancanegara_jepang + 'Sushi_Tei/Sushi_Tei(LR).xlsx'\n",
        "data_sushi_tei_hr_xlsx = path_file_restoran_mancanegara_jepang + 'Sushi_Tei/Sushi_Tei(HR).xlsx'\n",
        "\n",
        "### Tanpopo Jakarta Gandaria\n",
        "data_tanpopo_jakarta_lr_xlsx = path_file_restoran_mancanegara_jepang + 'Tanpopo_Jakarta_Gandaria/Tanpopo_Jakarta_Gandaria(LR).xlsx'\n",
        "data_tanpopo_jakarta_hr_xlsx = path_file_restoran_mancanegara_jepang + 'Tanpopo_Jakarta_Gandaria/Tanpopo_Jakarta_Gandaria(HR).xlsx'\n",
        "\n",
        "### Warung Wasabi\n",
        "data_warung_wasabi_lr_xlsx = path_file_restoran_mancanegara_jepang + 'Warung_Wasabi/Warung_Wasabi(LR).xlsx'\n",
        "data_warung_wasabi_hr_xlsx = path_file_restoran_mancanegara_jepang + 'Warung_Wasabi/Warung_Wasabi(HR).xlsx'\n",
        "\n",
        "### Yoshinoya Japanese Restaurant\n",
        "data_yoshinoya_lr_xlsx = path_file_restoran_mancanegara_jepang + 'Yoshinoya_Japanese_Restaurant/Yoshinoya_Japanese_Restaurant(LR).xlsx'\n",
        "data_yoshinoya_hr_xlsx = path_file_restoran_mancanegara_jepang + 'Yoshinoya_Japanese_Restaurant/Yoshinoya_Japanese_Restaurant(HR).xlsx'\n",
        "\n",
        "### Zenbu House of Mozaru\n",
        "data_zenbu_house_of_mozaru_lr_xlsx = path_file_restoran_mancanegara_jepang + 'Zenbu_House_Of_Mozaru/Zenbu_House_Of_Mozaru(LR).xlsx'\n",
        "data_zenbu_house_of_mozaru_hr_xlsx = path_file_restoran_mancanegara_jepang + 'Zenbu_House_Of_Mozaru/Zenbu_House_Of_Mozaru(HR).xlsx'"
      ],
      "metadata": {
        "id": "h-aClC4fm8r7"
      },
      "execution_count": null,
      "outputs": []
    },
    {
      "cell_type": "markdown",
      "source": [
        "##### **China**"
      ],
      "metadata": {
        "id": "nyxjnvk2msyG"
      }
    },
    {
      "cell_type": "code",
      "source": [
        "# Inisialisasi path file\n",
        "# Restoran Mancanegara\n",
        "## Kat Mahal\n",
        "## China\n",
        "path_file_restoran_mancanegara_china = '/content/drive/My Drive/Bismillah_Skripsi_Bisa_Amiiin/Data/Restoran_Manca_Negara/China/'\n",
        "\n",
        "### Ta Wan\n",
        "data_ta_wan_xlsx = path_file_restoran_mancanegara_china + 'Ta_Wan/Gmaps_Tawan.xlsx'\n",
        "\n",
        "### Ngohiang Khas Bogor Asli Gang Aut\n",
        "data_ngohiang_bogor_lr_xlsx = path_file_restoran_mancanegara_china + 'Ngohiang_Khas_Bogor_Asli_Gang_Aut/Ngohiang_Khas_Bogor_Asli_Gang_Aut(LR).xlsx'\n",
        "data_ngohiang_bogor_hr_xlsx = path_file_restoran_mancanegara_china + 'Ngohiang_Khas_Bogor_Asli_Gang_Aut/Ngohiang_Khas_Bogor_Asli_Gang_Aut(HR).xlsx'\n",
        "\n",
        "### Ta Wan CSB Mall\n",
        "data_ta_wan_csb_lr_xlsx = path_file_restoran_mancanegara_china + 'Ta_Wan/Ta_Wan_CSB_Mall(LR).xlsx'\n",
        "\n",
        "### Ta Wan\n",
        "data_ta_wan_hartono_lr_xlsx = path_file_restoran_mancanegara_china + 'Ta_Wan/Ta_Wan_Hartono_Mall_Yogyakarta(LR).xlsx'\n",
        "\n",
        "### Ta Wan\n",
        "data_ta_wan_the_park_solo_xlsx = path_file_restoran_mancanegara_china + 'Ta_Wan/Ta_Wan_The_Park_Solo(LR).xlsx'\n",
        "\n",
        "### Asia Kitchen Chinese Food\n",
        "data_asia_kitchen_lr_xlsx = path_file_restoran_mancanegara_china + 'Asia_Kitchen_Chinese_Food/Asia_Kitchen_Chinese_Food_LR.xlsx'\n",
        "data_asia_kitchen_hr_xlsx = path_file_restoran_mancanegara_china + 'Asia_Kitchen_Chinese_Food/Asia_Kitchen_Chinese_Food_HR.xlsx'\n",
        "\n",
        "### Bali Nikmat\n",
        "data_bali_nikmat_lr_xlsx = path_file_restoran_mancanegara_china + 'Bali_Nikmat/Bali_Nikmat_LR.xlsx'\n",
        "data_bali_nikmat_hr_xlsx = path_file_restoran_mancanegara_china + 'Bali_Nikmat/Bali_Nikmat_HR.xlsx'\n",
        "\n",
        "### Happy Chappy Chinese\n",
        "data_happy_chappy_lr_xlsx = path_file_restoran_mancanegara_china + 'Happy_Chappy_Chinese/Happy_Chappy_Chinese_LR.xlsx'\n",
        "data_happy_chappy_hr_xlsx = path_file_restoran_mancanegara_china + 'Happy_Chappy_Chinese/Happy_Chappy_Chinese_HR.xlsx'\n",
        "\n",
        "### Ming Garden\n",
        "data_ming_garden_lr_xlsx = path_file_restoran_mancanegara_china + 'Ming_Garden/Ming_Garden_LR.xlsx'\n",
        "data_ming_garden_hr_xlsx = path_file_restoran_mancanegara_china + 'Ming_Garden/Ming_Garden_HR.xlsx'\n",
        "\n",
        "### Sista Dumpling\n",
        "data_sista_dumpling_lr_xlsx = path_file_restoran_mancanegara_china + 'Sista_Dumpling/Sista_Dumpling_LR.xlsx'\n",
        "data_sista_dumpling_hr_xlsx = path_file_restoran_mancanegara_china + 'Sista_Dumpling/Sista_Dumpling_HR.xlsx'\n",
        "\n",
        "### The Chinese National\n",
        "data_the_chinese_lr_national_xlsx = path_file_restoran_mancanegara_china + 'The_Chinese_National/The_Chinese_National_LR.xlsx'\n",
        "data_the_chinese_hr_national_xlsx = path_file_restoran_mancanegara_china + 'The_Chinese_National/The_Chinese_National_HR.xlsx'\n",
        "\n",
        "### Warung Laota Sunset Road\n",
        "data_warung_laota_sunset_road_lr_xlsx = path_file_restoran_mancanegara_china + 'Warung_Laota_Sunset_Road/Warung_Laota_Sunset_Road_LR.xlsx'\n",
        "data_warung_laota_sunset_road_hr_xlsx = path_file_restoran_mancanegara_china + 'Warung_Laota_Sunset_Road/Warung_Laota_Sunset_Road_HR.xlsx'\n",
        "\n",
        "### Warung Laota Tuban\n",
        "data_warung_laota_tuban_lr_xlsx = path_file_restoran_mancanegara_china + 'Warung_Laota_Tuban/Warung_Laota_Tuban_LR.xlsx'\n",
        "data_warung_laota_tuban_hr_xlsx = path_file_restoran_mancanegara_china + 'Warung_Laota_Tuban/Warung_Laota_Tuban_HR.xlsx'\n",
        "\n",
        "### Holliday Restaurant\n",
        "data_holliday_restaurant_lr_xlsx = path_file_restoran_mancanegara_china + 'Holliday_Restaurant/Holliday_Restaurant_LR.xlsx'\n",
        "data_holliday_restaurant_hr_xlsx = path_file_restoran_mancanegara_china + 'Holliday_Restaurant/Holliday_Restaurant_HR.xlsx'\n",
        "\n",
        "### Warung Laota Jimbaran\n",
        "data_warung_laota_jimbaran_lr_xlsx = path_file_restoran_mancanegara_china + 'Warung_Laota-Jimbaran/Warung_Laota-Jimbaran_LR.xlsx'\n",
        "data_warung_laota_jimbaran_hr_xlsx = path_file_restoran_mancanegara_china + 'Warung_Laota-Jimbaran/Warung_Laota-Jimbaran_HR.xlsx'"
      ],
      "metadata": {
        "id": "KJppHv2sd3rY"
      },
      "execution_count": null,
      "outputs": []
    },
    {
      "cell_type": "markdown",
      "source": [
        "##### **Korea**"
      ],
      "metadata": {
        "id": "bCGfIz3Vmw-o"
      }
    },
    {
      "cell_type": "code",
      "source": [
        "# Inisialisasi path file\n",
        "# Restoran Mancanegara\n",
        "## Korea\n",
        "path_file_restoran_mancanegara_korea = '/content/drive/My Drive/Bismillah_Skripsi_Bisa_Amiiin/Data/Restoran_Manca_Negara/Korea/'\n",
        "\n",
        "### Kims K-Food\n",
        "data_kims_kfood_xlsx = path_file_restoran_mancanegara_korea + 'Kims_K-Food/Gmaps_Kims_K-Food.xlsx'\n",
        "\n",
        "### Gang Gang Sulai\n",
        "data_gang_gang_sulai_lr_xlsx = path_file_restoran_mancanegara_korea + 'Gang_Gang_Sulai/Gang_Gang_Sulai(LR).xlsx'\n",
        "data_gang_gang_sulai_hr_xlsx = path_file_restoran_mancanegara_korea + 'Gang_Gang_Sulai/Gang_Gang_Sulai_HR.xlsx'\n",
        "\n",
        "### Seoul Palace\n",
        "data_seoul_palace_lr_xlsx = path_file_restoran_mancanegara_korea + 'Seoul_Palace/Seoul_Palace(LR).xlsx'\n",
        "\n",
        "### Jumbo Sikdang Korean Food\n",
        "data_jumbo_sikdang_lr_xlsx = path_file_restoran_mancanegara_korea + 'Jumbo_Sikdang_Korean_Food/Jumbo_Sikdang_Korean_Food_LR.xlsx'\n",
        "data_jumbo_sikdang_hr_xlsx = path_file_restoran_mancanegara_korea + 'Jumbo_Sikdang_Korean_Food/Jumbo_Sikdang_Korean_Food_HR.xlsx'\n",
        "\n",
        "### King Korea Resto Galeria Mall\n",
        "data_king_korea_resto_lr_xlsx = path_file_restoran_mancanegara_korea + 'King_Korea_Resto_Galeria_Mall/King_Korea_Resto_Galeria_Mall_LR.xlsx'\n",
        "data_king_korea_resto_hr_xlsx = path_file_restoran_mancanegara_korea + 'King_Korea_Resto_Galeria_Mall/King_Korea_Resto_Galeria_Mall_HR.xlsx'\n",
        "\n",
        "### Matjeo Korean Grill Semarang\n",
        "data_matjeo_korean_grill_semarang_lr_xlsx = path_file_restoran_mancanegara_korea + 'Matjeo_Korean_Grill_Semarang/Matjeo_Korean_Grill_Semarang_LR.xlsx'\n",
        "data_matjeo_korean_grill_semarang_hr_xlsx = path_file_restoran_mancanegara_korea + 'Matjeo_Korean_Grill_Semarang/Matjeo_Korean_Grill_Semarang_HR.xlsx'\n",
        "\n",
        "### Matjeo Koream Grill Yogyakarta \n",
        "data_matjeo_korean_grill_yogyakarta_lr_xlsx = path_file_restoran_mancanegara_korea + 'Matjeo_Korean_Grill_Yogyakarta/Matjeo_Korean_Grill_Yogyakarta_LR.xlsx'\n",
        "data_matjeo_korean_grill_yogyakarta_hr_xlsx = path_file_restoran_mancanegara_korea + 'Matjeo_Korean_Grill_Yogyakarta/Matjeo_Korean_Grill_Yogyakarta_HR.xlsx'\n",
        "\n",
        "### BBQ Korea Pochajjang\n",
        "data_bbq_korea_pochajjang_lr_xlsx = path_file_restoran_mancanegara_korea + 'BBQ_Korea_Pochajjang/BBQ_Korea_Pochajjang_LR.xlsx'\n",
        "data_bbq_korea_pochajjang_hr_xlsx = path_file_restoran_mancanegara_korea + 'BBQ_Korea_Pochajjang/BBQ_Korea_Pochajjang_HR.xlsx'\n",
        "\n",
        "### Bornga Korean Restaurant\n",
        "data_bornga_korean_lr_xlsx = path_file_restoran_mancanegara_korea + 'Bornga_Korean_Restaurant/Bornga_Korean_Restaurant_LR.xlsx'\n",
        "data_bornga_korean_hr_xlsx = path_file_restoran_mancanegara_korea + 'Bornga_Korean_Restaurant/Bornga_Korean_Restaurant_HR.xlsx'\n",
        "\n",
        "### Chagiya Korean Bbq\n",
        "data_chagiya_korean_lr_xlsx = path_file_restoran_mancanegara_korea + 'Chagiya_Korean_BBQ/Chagiya_Korean_BBQ_LR.xlsx'\n",
        "data_chagiya_korean_hr_xlsx = path_file_restoran_mancanegara_korea + 'Chagiya_Korean_BBQ/Chagiya_Korean_BBQ_HR.xlsx'\n",
        "\n",
        "### K-S-F Pop\n",
        "data_ksf_pop_lr_xlsx = path_file_restoran_mancanegara_korea + 'K-S-F_Pop/K-S-F_Pop_LR.xlsx'\n",
        "data_ksf_pop_hr_xlsx = path_file_restoran_mancanegara_korea + 'K-S-F_Pop/K-S-F_Pop_HR.xlsx'\n",
        "\n",
        "### Pochajjang Korean Bbq\n",
        "data_pochajjang_korean_lr_xlsx = path_file_restoran_mancanegara_korea + 'Pochajjang_Korean_Bbq/Pochajjang_Korean_Bbq_LR.xlsx'\n",
        "data_pochajjang_korean_hr_xlsx = path_file_restoran_mancanegara_korea + 'Pochajjang_Korean_Bbq/Pochajjang_Korean_Bbq_HR.xlsx'\n",
        "\n",
        "### SonGa Korean Resto Surabaya\n",
        "data_songa_korean_lr_xlsx = path_file_restoran_mancanegara_korea + 'SonGa_Korean_Resto_Surabaya/SonGa_Korean_Resto_Surabaya_LR.xlsx'\n",
        "data_songa_korean_hr_xlsx = path_file_restoran_mancanegara_korea + 'SonGa_Korean_Resto_Surabaya/SonGa_Korean_Resto_Surabaya_HR.xlsx'\n",
        "\n",
        "### Warung Korea Pop\n",
        "data_warung_korea_pop_xlsx = path_file_restoran_mancanegara_korea + 'Warung_Korea_Pop/Warung_Korea_Pop_LR.xlsx'\n"
      ],
      "metadata": {
        "id": "0u25Apuq8xGM"
      },
      "execution_count": null,
      "outputs": []
    },
    {
      "cell_type": "markdown",
      "source": [
        "##### **Barat**"
      ],
      "metadata": {
        "id": "Fkx8Iq-Bm4F4"
      }
    },
    {
      "cell_type": "code",
      "source": [
        "# Inisialisasi path file\n",
        "# Restoran Mancanegara\n",
        "## Barat\n",
        "path_file_restoran_mancanegara_barat = '/content/drive/My Drive/Bismillah_Skripsi_Bisa_Amiiin/Data/Restoran_Manca_Negara/Barat/'\n",
        "\n",
        "### McDonald's\n",
        "data_MCD_xlsx = path_file_restoran_mancanegara_barat + 'MCD/Gmaps_MCD.xlsx'\n",
        "data_MCD_majapahit_semarang_xlsx = path_file_restoran_mancanegara_barat + 'MCD/Gmaps_McD_Majapahit_Semarang.xlsx'\n",
        "\n",
        "### KFC\n",
        "data_KFC_xlsx = path_file_restoran_mancanegara_barat + 'KFC/Gmaps_KFC.xlsx'\n",
        "data_KFC_pandanaran_xlsx = path_file_restoran_mancanegara_barat + 'KFC/KFC_Pandanaran_Semarang.xlsx'\n",
        "\n",
        "### Pizza Hut Restoran\n",
        "data_pizza_hut_xlsx = path_file_restoran_mancanegara_barat + 'Pizza_Hut_Restoran/Gmaps_Pizza_Hut_Restoran.xlsx'\n",
        "data_pizza_hut_lr_xlsx = path_file_restoran_mancanegara_barat + 'Pizza_Hut_Restoran/Pizza_Hut_Restoran(LR)_mancanegara_barat.xlsx'\n",
        "\n",
        "### Braga Permai Bandung\n",
        "data_braga_permai_lr_xlsx = path_file_restoran_mancanegara_barat + 'Braga_Permai_Bandung/Braga_Permai_Bandung_LR.xlsx'\n",
        "data_braga_permai_hr_xlsx = path_file_restoran_mancanegara_barat + 'Braga_Permai_Bandung/Braga_Permai_Bandung_HR.xlsx'\n",
        "\n",
        "### Gormeteria\n",
        "data_gormeteria_lr_xlsx = path_file_restoran_mancanegara_barat + 'Gormeteria/Gormeteria_LR.xlsx'\n",
        "data_gormeteria_hr_xlsx = path_file_restoran_mancanegara_barat + 'Gormeteria/Gormeteria_HR.xlsx'\n",
        "\n",
        "### Miss Bee Providore\n",
        "data_miss_bee_providore_lr_xlsx = path_file_restoran_mancanegara_barat + 'Miss_Bee_Providore/Miss_Bee_Providore_LR.xlsx'\n",
        "data_miss_bee_providore_hr_xlsx = path_file_restoran_mancanegara_barat + 'Miss_Bee_Providore/Miss_Bee_Providore_HR.xlsx'\n",
        "\n",
        "### Steak Hut\n",
        "data_steak_hut_lr_xlsx = path_file_restoran_mancanegara_barat + 'Steak_Hut/Steak_Hut_LR.xlsx'\n",
        "data_steak_hut_hr_xlsx = path_file_restoran_mancanegara_barat + 'Steak_Hut/Steak_Hut_HR.xlsx'\n",
        "\n",
        "### Dominoz Pizza\n",
        "data_dominoz_pizza_lr_xlsx = path_file_restoran_mancanegara_barat + 'Dominos_Pizza/Dominos_Pizza_LR.xlsx'\n",
        "\n",
        "### La Cucina\n",
        "data_la_cucina_lr_xlsx = path_file_restoran_mancanegara_barat + 'La_Cucina/La_Cucina_LR.xlsx'\n",
        "data_la_cucina_hr_xlsx =  path_file_restoran_mancanegara_barat + 'La_Cucina/La_Cucina_HR.xlsx'\n",
        "\n",
        "### Tizi\n",
        "data_tizi_lr_xlsx = path_file_restoran_mancanegara_barat + 'Tizi/Tizi_LR.xlsx'\n",
        "data_tizi_hr_xlsx =  path_file_restoran_mancanegara_barat + 'Tizi/Tizi_HR.xlsx'\n",
        "\n",
        "### Street Grill Burger Bakar\n",
        "data_street_grill_burger_bakar_lr_xlsx = path_file_restoran_mancanegara_barat + 'Street_Grill-Burger_Bakar/Street_Grill-Burger_Bakar_LR.xlsx'\n",
        "data_street_grill_burger_bakar_hr_xlsx = path_file_restoran_mancanegara_barat + 'Street_Grill-Burger_Bakar/Street_Grill-Burger_Bakar_HR.xlsx'\n",
        "\n",
        "### Holycow Steakhouse By Chef Afit Yogyakarta\n",
        "data_holycow_steakhouse_chef_afit_yogyakarta_lr_xlsx = path_file_restoran_mancanegara_barat + 'Holycow_Steakhouse_By_Chef_Afit_Yogyakarta/Holycow_Steakhouse_By_Chef_Afit_Yogyakarta_LR.xlsx' \n",
        "data_holycow_steakhouse_chef_afit_yogyakarta_hr_xlsx = path_file_restoran_mancanegara_barat + 'Holycow_Steakhouse_By_Chef_Afit_Yogyakarta/Holycow_Steakhouse_By_Chef_Afit_Yogyakarta_HR.xlsx'\n"
      ],
      "metadata": {
        "id": "MAp8C52VlroQ"
      },
      "execution_count": null,
      "outputs": []
    },
    {
      "cell_type": "markdown",
      "source": [
        "#### **Restoran Seafood**"
      ],
      "metadata": {
        "id": "gNyFhGxClsHe"
      }
    },
    {
      "cell_type": "markdown",
      "source": [
        "##### **Murah**\n"
      ],
      "metadata": {
        "id": "VPdKzvdJg8RV"
      }
    },
    {
      "cell_type": "code",
      "source": [
        "# Inisialisasi path file\n",
        "# Restoran Seafood\n",
        "path_file_restoran_seafood_murah = '/content/drive/My Drive/Bismillah_Skripsi_Bisa_Amiiin/Data/Restoran_Seafood/Kat_Murah/'\n",
        "\n",
        "## Kat Murah\n",
        "### Seafood Ayu - Kelapa Gading\n",
        "# data_seafood_ayu_xlsx = '/content/drive/My Drive/Bismillah_Skripsi_Bisa_Amiiin/Data/Restoran_Seafood/Kat_Murah/Seafood_Ayu_Kelapa_Gading/Gmaps_Seafood_Ayu_Kelapa_Gading.xlsx'\n",
        "\n",
        "### Kepala Manyung Bu Fat\n",
        "# data_kepala_manyung_buFat_xlsx = '/content/drive/My Drive/Bismillah_Skripsi_Bisa_Amiiin/Data/Restoran_Seafood/Kat_Murah/Kepala_Manyung_Bu_Fat/Gmaps_Kepala_Manyung_Bu_Fat.xlsx'\n",
        "\n",
        "### Rumah Makan Taman New Aroma \n",
        "data_rumah_makan_taman_new_aroma_lr_xlsx = path_file_restoran_seafood_murah + 'Rumah_Makan_Taman_New_Aroma/Rumah_Makan_Taman_New_Aroma_LR_seafood_murah.xlsx'\n",
        "\n",
        "### Seafood 68 Santa\n",
        "data_seafood_68_santa_lr_xlsx = path_file_restoran_seafood_murah + 'Seafood_68_Santa/Seafood_68_Santa(LR).xlsx' \n",
        "\n",
        "### Seafood Nggemeske\n",
        "data_seafood_nggemeske_xlsx = path_file_restoran_seafood_murah + 'Seafood_Nggemeske/Gmaps_Seafood_Nggemeske.xlsx'\n",
        "\n",
        "### The Holy Crab\n",
        "data_the_holy_crab_lr_xlsx = path_file_restoran_seafood_murah + 'The_Holy_Crab/The_Holy_Crab(LR).xlsx'\n",
        "\n",
        "### Warung Makan Bu Ratna Berkah Seafood\n",
        "data_seafood_bu_ratna_xlsx = path_file_restoran_seafood_murah + 'Warung_Makan_Bu_Ratna_Berkah_Seafood/Gmaps_Warung_Makan_Ratna_Berkah_Seafood.xlsx'\n",
        "\n",
        "### Kepiting Cak Gundul\n",
        "data_kepiting_cak_gundul_lr_xlsx = path_file_restoran_seafood_murah + 'Kepiting_Cak_Gundul/Kepiting_Cak_Gundul_LR_seafood_murah.xlsx'\n",
        "data_kepiting_cak_gundul_hr_xlsx = path_file_restoran_seafood_murah + 'Kepiting_Cak_Gundul/Kepiting_Cak_Gundul_HR_seafood_murah.xlsx'\n",
        "\n",
        "### Kepiting House Angkatan 45\n",
        "data_kepiting_house_angkatan_45_lr_xlsx = path_file_restoran_seafood_murah + 'Kepiting_House_Angkatan_45/Kepiting_House_Angkatan_45_LR.xlsx'\n",
        "data_kepiting_house_angkatan_45_hr_xlsx = path_file_restoran_seafood_murah + 'Kepiting_House_Angkatan_45/Kepiting_House_Angkatan_45_HR.xlsx'\n",
        "\n",
        "### Lesehan Ayam Bakar & Seafood Lombok Ijo 3\n",
        "data_lesehan_lombok_ijo_3_lr_xlsx = path_file_restoran_seafood_murah + 'Lesehan_Ayam_Bakar_&_Seafood_Lombok_Ijo_3/Lesehan_Ayam_Bakar_&_Seafood_Lombok_Ijo_3_LR_seafood_murah.xlsx'\n",
        "data_lesehan_lombok_ijo_3_hr_xlsx  = path_file_restoran_seafood_murah + 'Lesehan_Ayam_Bakar_&_Seafood_Lombok_Ijo_3/Lesehan_Ayam_Bakar_&_Seafood_Lombok_Ijo_3_HR_seafood_murah.xlsx'\n",
        "\n",
        "### Mr Crab Seafood\n",
        "data_mr_crab_seafood_lr_xlsx = path_file_restoran_seafood_murah + 'Mr_Crab_Seafood/Mr_Crab_Seafood(LR)_seafood.xlsx'\n",
        "\n",
        "### New Dinar Seafood\n",
        "data_new_dinar_seafood_lr_xlsx = path_file_restoran_seafood_murah + 'New_Dinar_Seafood/New_Dinar_Seafood_LR_seafood_murah.xlsx'\n",
        "data_new_dinar_seafood_hr_xlsx  = path_file_restoran_seafood_murah + 'New_Dinar_Seafood/New_Dinar_Seafood_HR_seafood_murah.xlsx'\n",
        "\n",
        "### R.M. Nelayan\n",
        "data_rm_nelayan_lr_xlsx = path_file_restoran_seafood_murah + 'R.M_Nelayan/R.M_Nelayan_LR_seafood_murah.xlsx'\n",
        "data_rm_nelayan_hr_xlsx  = path_file_restoran_seafood_murah + 'R.M_Nelayan/R.M_Nelayan_HR_seafood_murah.xlsx'\n",
        "\n",
        "### Cabe Ijo Live Seafood\n",
        "data_cabe_ijo_live_seafood_xlsx =  path_file_restoran_seafood_murah + 'Cabe_Ijo_Live_Seafood/Gmaps_Cabe_Ijo_Live_Seafood.xlsx'\n",
        "\n",
        "### D'Cost Seafood Palembang PTC\n",
        "data_dcost_seafood_palembang_lr_xlsx = path_file_restoran_seafood_murah + 'DCost_Seafood_Palembang_PTC/DCost_Seafood_Palembang_PTC_LR.xlsx'\n",
        "data_dcost_seafood_palembang_hr_xlsx  = path_file_restoran_seafood_murah + 'DCost_Seafood_Palembang_PTC/DCost_Seafood_Palembang_PTC_HR.xlsx'\n",
        "\n",
        "### Ikan Bakar Cianjur\n",
        "data_ikan_bakar_cianjur_lr_xlsx = path_file_restoran_seafood_murah + 'Ikan_Bakar_Cianjur/Ikan_Bakar_Cianjur(LR).xlsx'\n",
        "data_ikan_bakar_cianjur_hr_xlsx = path_file_restoran_seafood_murah + 'Ikan_Bakar_Cianjur/Ikan_Bakar_Cianjur(HR).xlsx'\n",
        "\n",
        "### Ikan Bakar Djonikun\n",
        "data_ikan_bakar_djonikun_lr_xlsx = path_file_restoran_seafood_murah + 'Ikan_Bakar_Djonikun/Ikan_Bakar_DjoniKun_LR.xlsx'\n",
        "\n",
        "### Ikan Bakar Yayat 2\n",
        "data_ikan_bakar_yayat_2_lr_xlsx = path_file_restoran_seafood_murah + 'IKAN_BAKAR_YAYAT_2/IKAN_BAKAR_YAYAT_2_LR_seafood_murah.xlsx'\n",
        "data_ikan_bakar_yayat_2_hr_xlsx = path_file_restoran_seafood_murah + 'IKAN_BAKAR_YAYAT_2/IKAN_BAKAR_YAYAT_2_HR_seafood_murah.xlsx'\n",
        "\n",
        "### Kampung Seafood\n",
        "data_kampung_seafood_lr_xlsx = path_file_restoran_seafood_murah + 'Kampung_Seafood/Kampoeng_Seafood_LR.xlsx'\n",
        "data_kampung_seafood_hr_xlsx = path_file_restoran_seafood_murah + 'Kampung_Seafood/Kampoeng_Seafood_HR.xlsx'\n",
        "\n",
        "### Kepala Manyung Bu Fat\n",
        "\n",
        "### Seafood Pak Sangklak\n",
        "data_seafood_pak_sangklak_xlsx = path_file_restoran_seafood_murah + 'Seafood_Pak_Sangklak_Semarang/Gmaps_Seafood_Pak_Sangklak_Semarang.xlsx'\n",
        "\n",
        "### Seafood Pak Jari\n",
        "data_seafood_pak_jari_xlsx = path_file_restoran_seafood_murah + 'Seafood_Pak_Jari/Gmaps_Seafood_Pak_Jari.xlsx'\n",
        "\n",
        "### Sentosa Seafood Palembang\n",
        "data_sentosa_seafood_palembang_lr_xlsx = path_file_restoran_seafood_murah + 'Sentosa_Seafood_Palembang/Sentosa_Seafood_Palembang_LR.xlsx'\n",
        "data_sentosa_seafood_palembang_hr_xlsx = path_file_restoran_seafood_murah + 'Sentosa_Seafood_Palembang/Sentosa_Seafood_Palembang_HR.xlsx'\n",
        "\n",
        "### Parit 9 Seafood\n",
        "data_parit_9_seafood_hr_xlsx = path_file_restoran_seafood_murah + 'Parit_9_Seafood/Parit_9_Seafood_HR_seafood_murah.xlsx'\n",
        "\n",
        "### Pondok Sedap Malam\n",
        "data_pondok_sedap_malam_xlsx = path_file_restoran_seafood_murah + 'Pondok_Sedap_Malam/Pondok_Sedap_Malam(LR).xlsx'\n",
        "\n",
        "### Artomoro Sea Food\n",
        "data_artomoro_seafood_lr_xlsx = path_file_restoran_seafood_murah + 'Artomoro_Sea_Food/Artomoro_Sea_Food_LR.xlsx'\n",
        "data_artomoro_seafood_hr_xlsx = path_file_restoran_seafood_murah + 'Artomoro_Sea_Food/Artomoro_Sea_Food_HR.xlsx'\n",
        "\n",
        "### Asui Seafood\n",
        "data_asui_seafood_lr_xlsx = path_file_restoran_seafood_murah + 'Asui_Seafood/Asui_Seafood_LR.xlsx'\n",
        "data_asui_seafood_hr_xlsx = path_file_restoran_seafood_murah + 'Asui_Seafood/Asui_Seafood_HR.xlsx'\n",
        "\n",
        "### Ikan Bakar Bang Jaja Seafood Genteng 2\n",
        "data_ikan_bakar_bang_jaja_seafood_genteng_2_lr_xlsx = path_file_restoran_seafood_murah + 'Ikan_Bakar_Bang_Jaja_Seafood_Genteng_2/Ikan_Bakar_Bang_Jaja_Seafood_Genteng_2_LR.xlsx'\n",
        "data_ikan_bakar_bang_jaja_seafood_genteng_2_hr_xlsx = path_file_restoran_seafood_murah + 'Ikan_Bakar_Bang_Jaja_Seafood_Genteng_2/Ikan_Bakar_Bang_Jaja_Seafood_Genteng_2_HR.xlsx'\n",
        "\n",
        "### Jimbaran Resto Cirebon\n",
        "data_jimbaran_resto_cirebon_lr_xlsx = path_file_restoran_seafood_murah + 'Jimbaran_Resto_Cirebon/Jimbaran_Resto_Cirebon_LR.xlsx'\n",
        "data_jimbaran_resto_cirebon_hr_xlsx = path_file_restoran_seafood_murah + 'Jimbaran_Resto_Cirebon/Jimbaran_Resto_Cirebon_HR.xlsx'\n",
        "\n",
        "### Sari Laut Kapasan\n",
        "data_sari_laut_kapasan_lr_xlsx = path_file_restoran_seafood_murah + 'Sari_Laut_Kapasan/Sari_Laut_Kapasan_LR.xlsx'\n",
        "data_sari_laut_kapasan_hr_xlsx = path_file_restoran_seafood_murah + 'Sari_Laut_Kapasan/Sari_Laut_Kapasan_HR.xlsx'\n",
        "\n",
        "### Seafood Genteng Bang Jaja\n",
        "data_seafood_genteng_bang_jaja_lr_xlsx = path_file_restoran_seafood_murah + 'Seafood_genteng_Bang_Jaja/Seafood_genteng_Bang_Jaja_LR.xlsx'\n",
        "data_seafood_genteng_bang_jaja_hr_xlsx = path_file_restoran_seafood_murah + 'Seafood_genteng_Bang_Jaja/Seafood_genteng_Bang_Jaja_HR.xlsx'\n",
        "\n",
        "### Seafood Pak Purwanto\n",
        "data_seafood_pak_purwanto_lr_xlsx = path_file_restoran_seafood_murah + 'Seafood_Pak_Purwanto/Seafood_Pak_Purwanto_LR.xlsx'\n",
        "data_seafood_pak_purwanto_hr_xlsx = path_file_restoran_seafood_murah + 'Seafood_Pak_Purwanto/Seafood_Pak_Purwanto_HR.xlsx'\n",
        "\n",
        "### Ikan Bakar Kinamang \n",
        "data_ikan_bakar_kinamang_lr_xlsx = path_file_restoran_seafood_murah + 'Ikan_Bakar_Kinamang/Ikan_Bakar_Kinamang_LR.xlsx'\n",
        "data_ikan_bakar_kinamang_hr_xlsx = path_file_restoran_seafood_murah + 'Ikan_Bakar_Kinamang/Ikan_Bakar_Kinamang_HR.xlsx'\n",
        "\n",
        "### Seafood Nggemeske\n",
        "data_seafood_nggemeske_lr_xlsx = path_file_restoran_seafood_murah + 'Seafood_Nggemeske/Seafood_Nggemeske_LR.xlsx'\n",
        "data_seafood_nggemeske_hr_xlsx = path_file_restoran_seafood_murah + 'Seafood_Nggemeske/Seafood_Nggemeske_HR.xlsx'\n",
        "\n",
        "### Warung Mami Ikan Bakar\n",
        "data_warung_mami_ikan_bakar_lr_xlsx = path_file_restoran_seafood_murah + 'Warung_Mami_Ikan_Bakar/Warung_Mami_Ikan_Bakar_LR.xlsx'\n",
        "data_warung_mami_ikan_bakar_hr_xlsx = path_file_restoran_seafood_murah + 'Warung_Mami_Ikan_Bakar/Warung_Mami_Ikan_Bakar_HR.xlsx'\n",
        "\n",
        "### Suka Ramai Seafood\n",
        "data_sn_lr_xlsx = path_file_restoran_seafood_murah + 'SN/Seafood_Nggemeske_LR.xlsx'\n",
        "data_sn_hr_xlsx = path_file_restoran_seafood_murah + 'SN/Seafood_Nggemeske_HR.xlsx'\n",
        "\n",
        "### Suka Ramai Seafood\n",
        "data_suka_ramai_seafood_lr_xlsx = path_file_restoran_seafood_murah + 'Suka_Ramai_Seafood/Suka_Ramai_Seafood_LR.xlsx'\n",
        "data_suka_ramai_seafood_hr_xlsx = path_file_restoran_seafood_murah + 'Suka_Ramai_Seafood/Suka_Ramai_Seafood_HR.xlsx'\n",
        "\n",
        "### Kuliner Seafood Kampung Solor\n",
        "data_kuliner_seafood_kampung_solor_lr_xlsx = path_file_restoran_seafood_murah + 'Kuliner_Seafood_Kampung_Solor/Kuliner_Seafood_Kampung_Solor_LR.xlsx'\n",
        "data_kuliner_seafood_kampung_solor_hr_xlsx = path_file_restoran_seafood_murah + 'Kuliner_Seafood_Kampung_Solor/Kuliner_Seafood_Kampung_Solor_HR.xlsx'\n",
        "\n",
        "### HDL 293 Seafood\n",
        "data_hdl_293_seafood_lr_xlsx = path_file_restoran_seafood_murah + 'HDL_293_Seafood/HDL_293_Seafood_LR.xlsx'\n",
        "\n",
        "### Dabu Dabu Lemong Restaurant\n",
        "data_dabu_dabu_lemong_lr_xlsx = path_file_restoran_seafood_murah + 'Dabu_Dabu_Lemong_Restaurant/Dabu_Dabu_Lemong_Restaurant_LR.xlsx'\n",
        "data_dabu_dabu_lemong_hr_xlsx = path_file_restoran_seafood_murah + 'Dabu_Dabu_Lemong_Restaurant/Dabu_Dabu_Lemong_Restaurant_HR.xlsx'\n",
        "\n",
        "### Kerang Kiloan Cipete\n",
        "data_kerang_kiolan_cipete_lr_xlsx = path_file_restoran_seafood_murah + 'Kerang_Kiloan_Cipete/Kerang_Kiloan_Cipete_LR.xlsx'\n",
        "data_kerang_kiolan_cipete_hr_xlsx = path_file_restoran_seafood_murah + 'Kerang_Kiloan_Cipete/Kerang_Kiloan_Cipete_HR.xlsx'\n",
        "\n",
        "### Seafood Ade Fani 67 (Manggarai)\n",
        "data_saefood_ade_fani_67_manggarai_lr_xlsx = path_file_restoran_seafood_murah + 'Seafood_Ade_Fani_67_(Manggarai)/Seafood_Ade_Fani_67_(Manggarai)_LR.xlsx'\n",
        "data_saefood_ade_fani_67_manggarai_hr_xlsx = path_file_restoran_seafood_murah + 'Seafood_Ade_Fani_67_(Manggarai)/Seafood_Ade_Fani_67_(Manggarai)_HR.xlsx'\n",
        "\n",
        "### Seafood Kiloan Bang Bopak (Pusat Katamso)\n",
        "data_seafood_kiloan_bang_bopak_pusat_katamso_lr_xlsx = path_file_restoran_seafood_murah + 'Seafood_Kiloan_Bang_Bopak_(Pusat_Katamso)/Seafood_Kiloan_Bang_Bopak_(Pusat_Katamso)_LR.xlsx'\n",
        "data_seafood_kiloan_bang_bopak_pusat_katamso_hr_xlsx = path_file_restoran_seafood_murah + 'Seafood_Kiloan_Bang_Bopak_(Pusat_Katamso)/Seafood_Kiloan_Bang_Bopak_(Pusat_Katamso)_HR.xlsx'\n",
        "\n",
        "### Dabu Dabu Lemong Restaurant\n",
        "data_dabu_dabu_lemong_lr_xlsx = path_file_restoran_seafood_murah + 'Dabu_Dabu_Lemong_Restaurant/Dabu_Dabu_Lemong_Restaurant_LR.xlsx'\n",
        "data_dabu_dabu_lemong_hr_xlsx = path_file_restoran_seafood_murah + 'Dabu_Dabu_Lemong_Restaurant/Dabu_Dabu_Lemong_Restaurant_HR.xlsx'\n",
        "\n",
        "### Kerang Kiloan Cipete\n",
        "data_kerang_kiolan_cipete_lr_xlsx = path_file_restoran_seafood_murah + 'Kerang_Kiloan_Cipete/Kerang_Kiloan_Cipete_LR.xlsx'\n",
        "data_kerang_kiolan_cipete_hr_xlsx = path_file_restoran_seafood_murah + 'Kerang_Kiloan_Cipete/Kerang_Kiloan_Cipete_HR.xlsx'\n",
        "\n",
        "### Seafood Ade Fani 67 (Manggarai)\n",
        "data_saefood_ade_fani_67_manggarai_lr_xlsx = path_file_restoran_seafood_murah + 'Seafood_Ade_Fani_67_(Manggarai)/Seafood_Ade_Fani_67_(Manggarai)_LR.xlsx'\n",
        "data_saefood_ade_fani_67_manggarai_hr_xlsx = path_file_restoran_seafood_murah + 'Seafood_Ade_Fani_67_(Manggarai)/Seafood_Ade_Fani_67_(Manggarai)_HR.xlsx'\n",
        "\n",
        "### Seafood Kiloan Bang Bopak (Pusat Katamso)\n",
        "data_seafood_kiloan_bang_bopak_pusat_katamso_lr_xlsx = path_file_restoran_seafood_murah + 'Seafood_Kiloan_Bang_Bopak_(Pusat_Katamso)/Seafood_Kiloan_Bang_Bopak_(Pusat_Katamso)_LR.xlsx'\n",
        "data_seafood_kiloan_bang_bopak_pusat_katamso_hr_xlsx = path_file_restoran_seafood_murah + 'Seafood_Kiloan_Bang_Bopak_(Pusat_Katamso)/Seafood_Kiloan_Bang_Bopak_(Pusat_Katamso)_HR.xlsx'\n",
        "\n",
        "### Banda Seafood\n",
        "data_banda_saefood_lr_xlsx = path_file_restoran_seafood_murah + 'Banda_Seafood/Banda_Seafood_LR.xlsx'\n",
        "data_banda_saefood_hr_xlsx = path_file_restoran_seafood_murah + 'Banda_Seafood/Banda_Seafood_HR.xlsx'\n",
        "\n",
        "### City Extra\n",
        "data_city_extra_lr_xlsx = path_file_restoran_seafood_murah + 'City_Extra/City_Extra_LR.xlsx'\n",
        "data_city_extra_hr_xlsx = path_file_restoran_seafood_murah + 'City_Extra/City_Extra_HR.xlsx'\n",
        "\n",
        "### Kurnia Seafood Semarang\n",
        "# data_kurnia_seafood_semarang_lr_xlsx = path_file_restoran_seafood_murah + 'Seafood_Ade_Fani_67_(Manggarai)/Seafood_Ade_Fani_67_(Manggarai)_LR.xlsx'\n",
        "data_kurnia_seafood_semarang_hr_xlsx = path_file_restoran_seafood_murah + 'Kurnia_Seafood_Semarang/Kurnia_Seafood_Semarang_HR.xlsx'\n",
        "\n",
        "### Tuna House Megamas\n",
        "data_tuna_house_megamas_lr_xlsx = path_file_restoran_seafood_murah + 'Tuna_House_Megamas/Tuna_House_Megamas_LR.xlsx'\n",
        "data_tuna_house_megamas_hr_xlsx = path_file_restoran_seafood_murah + 'Tuna_House_Megamas/Tuna_House_Megamas_HR.xlsx'\n",
        "\n",
        "### Taman Santap Rumah Kayu\n",
        "data_taman_santap_rumah_kayu_lr_xlsx = path_file_restoran_seafood_murah + 'Taman_Santap_Rumah_Kayu/Taman_Santap_Rumah_Kayu_LR.xlsx'\n",
        "\n",
        "### Seafood Ayu\n",
        "data_saefood_ayu_lr_xlsx = path_file_restoran_seafood_murah + 'Seafood_Ayu/Seafood_Ayu_LR.xlsx'\n",
        "\n",
        "### Indah Seafood 94\n",
        "data_indah_seafood_94_lr_xlsx = path_file_restoran_seafood_murah + 'Indah_Seafood_94/Indah_Seafood_94_LR.xlsx'\n",
        "\n",
        "### Rumah Lobster Depok\n",
        "data_rumah_lobster_depok_lr_xlsx = path_file_restoran_seafood_murah + 'Rumah_Lobster_Depok/Rumah_Lobster_Depok_LR.xlsx'\n"
      ],
      "metadata": {
        "id": "XLCDj6eXlwRO"
      },
      "execution_count": null,
      "outputs": []
    },
    {
      "cell_type": "markdown",
      "source": [
        "##### **Mahal**"
      ],
      "metadata": {
        "id": "tbvAQ11AhBhv"
      }
    },
    {
      "cell_type": "code",
      "source": [
        "## Kat Mahal\n",
        "path_file_restoran_seafood_mahal = '/content/drive/My Drive/Bismillah_Skripsi_Bisa_Amiiin/Data/Restoran_Seafood/Kat_Mahal/'\n",
        "\n",
        "### 212 Wiro Sableng\n",
        "data_212_wiro_sableng_xlsx = path_file_restoran_seafood_mahal + '212_Wiro_Sableng/Gmaps_212_Wiro_Sableng.xlsx'\n",
        "\n",
        "### Alam Indah Resto\n",
        "data_alam_indah_xlsx = path_file_restoran_seafood_mahal + 'Alam_Indah_Resto/Gmaps_Alam_Indah_Resto.xlsx'\n",
        "\n",
        "### Apong Seafood\n",
        "data_apong_seafood_lr_xlsx = path_file_restoran_seafood_mahal + 'Apong_Seafood/Apong Seafood(LR).xlsx'\n",
        "data_apong_seafood_hr_xlsx = path_file_restoran_seafood_mahal + 'Apong_Seafood/Apong_Seafood(HR).xlsx'\n",
        "\n",
        "### Bandar Djakarta\n",
        "data_bandar_djakarta_xlsx = path_file_restoran_seafood_mahal + 'Bandar_Djakarta/Gmaps_Bandar_Djakarta.xlsx'\n",
        "\n",
        "### Bawang Merah Beachfront Restaurant\n",
        "data_bawang_merah_beachfront_lr_xlsx = path_file_restoran_seafood_mahal + 'Bawang_Merah_Beachfront_Restaurant/Bawang_Merah_Beachfront_Restaurant(LR).xlsx'\n",
        "data_bawang_merah_beachfront_hr_xlsx = path_file_restoran_seafood_mahal + 'Bawang_Merah_Beachfront_Restaurant/Bawang_Merah_Beachfront_Restaurant(HR).xlsx'\n",
        "\n",
        "### Kampung Laut\n",
        "data_kampung_laut_xlsx = path_file_restoran_seafood_mahal + 'Kampung_Laut/Gmaps_Kampung_Laut.xlsx'\n",
        "\n",
        "### Kisik Lounge & Seafood Restaurant\n",
        "data_kisik_lounge_lr_xlsx = path_file_restoran_seafood_mahal + 'Kisik_Lounge_&_Seafood_Restaurant/Kisik_Lounge_&_Seafood_Restaurant_LR.xlsx'\n",
        "data_kisik_lounge_hr_xlsx = path_file_restoran_seafood_mahal + 'Kisik_Lounge_&_Seafood_Restaurant/Kisik_Lounge_&_Seafood_Restaurant_HR.xlsx'\n",
        "\n",
        "### Resto & Cafe Rumah Laut\n",
        "data_resto_cafe_lr_xlsx = path_file_restoran_seafood_mahal + 'Resto&Cafe_Rumah_Laut/Resto&Cafe_Rumah_Laut_LR.xlsx'\n",
        "data_resto_cafe_hr_xlsx = path_file_restoran_seafood_mahal + 'Resto&Cafe_Rumah_Laut/Resto&Cafe_Rumah_Laut_HR.xlsx'\n",
        "\n",
        "### RM Nelayan Seafood Belitong\n",
        "data_rm_nelayan_seafood_belitong_lr_xlsx = path_file_restoran_seafood_mahal + 'RM_Nelayan_Seafood_Belitong/RM_Nelayan_Seafood_Belitong(LR).xlsx'\n",
        "data_rm_nelayan_seafood_belitong_hr_xlsx = path_file_restoran_seafood_mahal + 'RM_Nelayan_Seafood_Belitong/RM_Nelayan_Seafood_Belitong(HR).xlsx'\n",
        "\n",
        "### RM Sian Lie Pohon Ketapang\n",
        "data_rm_sian_lie_pohon_ketapang_lr_xlsx = path_file_restoran_seafood_mahal + 'RM_Sian_Lie_Pohon_Ketapang/Rm_Sian_Lie_Pohon_Ketapang(LR).xlsx'\n",
        "data_rm_sian_lie_pohon_ketapang_hr_xlsx = path_file_restoran_seafood_mahal + 'RM_Sian_Lie_Pohon_Ketapang/Rm_Sian_Lie_Pohon_Ketapang(HR).xlsx'\n",
        "\n",
        "### Rumah Makan Layar Seafood Manyar\n",
        "data_rm_layar_seafood_manyar_lr_xlsx = path_file_restoran_seafood_mahal + 'Rumah_Makan_Layar_Seafood_Manyar/Rumah_Makan_Layar_Seafood_Manyar(LR).xlsx'\n",
        "data_rm_layar_seafood_manyar_hr_xlsx = path_file_restoran_seafood_mahal + 'Rumah_Makan_Layar_Seafood_Manyar/Rumah_Makan_Layar_Seafood_Manyar(HR).xlsx'\n",
        "\n",
        "### Sambal Shrimp Restaurant & Bar\n",
        "data_sambal_shrimp_lr_xlsx = path_file_restoran_seafood_mahal + 'Sambal_Shrimp_Restaurant_&_Bar/Sambal_Shrimp_Restaurant_&_Bar_LR.xlsx'\n",
        "data_sambal_shrimp_hr_xlsx = path_file_restoran_seafood_mahal + 'Sambal_Shrimp_Restaurant_&_Bar/Sambal_Shrimp_Restaurant_&_Bar_HR.xlsx'\n",
        "\n",
        "### Sea Monsters Seafood Restaurant\n",
        "data_sea_monsters_seafood_lr_xlsx = path_file_restoran_seafood_mahal + 'Sea_Monsters_Seafood_Restaurant/Sea_Monsters_Seafood_Restaurant(LR).xlsx'\n",
        "\n",
        "### Seasalt Seminyak\n",
        "data_seasalt_seminyak_xlsx = path_file_restoran_seafood_mahal + 'Seasalt_Seminyak/Seasalt_Seminyak_HR.xlsx'\n",
        "\n",
        "### Sedap Malam Seafood Restaurant\n",
        "data_sedap_malam_seafood_restaurant_xlsx = path_file_restoran_seafood_mahal + 'Sedap_Malam_Seafood_Restaurant/Gmaps_Sedap_Malam_Seafood_Restaurant.xlsx'\n",
        "\n",
        "### Sendjaja_Seafood_dan_Ayam_Bakar\n",
        "data_sendjaja_seafood_xlsx = path_file_restoran_seafood_mahal + 'Sendjaja_Seafood_dan_Ayam_Bakar/Gmaps_Sendjaja_Seafood_dan_Ayam_Bakar.xlsx'\n",
        "\n",
        "### RM Sari Laut\n",
        "data_rm_sari_laut_lr_xlsx = path_file_restoran_seafood_mahal + 'RM_Sari_Laut/RM_Sari_Laut_LR.xlsx'\n",
        "\n",
        "## RM Makan Ka Ho\n",
        "data_rm_ka_ho_lr_xlsx = path_file_restoran_seafood_mahal + 'Rumah_Makan_Ka_Ho/Rumah_Makan_Ka_Ho_LR.xlsx'\n",
        "\n",
        "### Taman Laut Handayani Seafood Restaurant Labuan Bajo\n",
        "data_taman_laut_handayani_lr_xlsx = path_file_restoran_seafood_mahal + 'Taman_Laut_Handayani_Seafood_Restaurant_Labuan_Bajo/Taman_Laut_Handayani_Seafood_Restaurant_Labuan_Bajo_LR.xlsx'\n",
        "\n",
        "### Gubug Makan Mang Engking Soragan Castle\n",
        "data_gubug_mang_engking_lr_xlsx = path_file_restoran_seafood_mahal + 'Gubug_Makan_Mang_Engking_Soragan_Castle/Gubug_Makan_Mang_Engking_Soragan_Castle_LR.xlsx'\n",
        "data_gubug_mang_engking_hr_xlsx = path_file_restoran_seafood_mahal + 'Gubug_Makan_Mang_Engking_Soragan_Castle/Gubug_Makan_Mang_Engking_Soragan_Castle_HR.xlsx'\n",
        "\n",
        "### The Westlake Resto\n",
        "data_the_westlake_resto_lr_xlsx = path_file_restoran_seafood_mahal + 'The_Westlake_Resto/The_Westlake_Resto_LR.xlsx'\n",
        "data_the_westlake_resto_hr_xlsx = path_file_restoran_seafood_mahal + 'The_Westlake_Resto/The_Westlake_Resto_HR.xlsx'\n",
        "\n",
        "### Pondok Makan Pelem Golek\n",
        "data_pondok_makan_pelem_golek_lr_xlsx = path_file_restoran_seafood_mahal + 'Pondok_Makan_Pelem_Golek/Pondok_Makan_Pelem_Golek_LR.xlsx'\n",
        "data_pondok_makan_pelem_golek_hr_xlsx = path_file_restoran_seafood_mahal + 'Pondok_Makan_Pelem_Golek/Pondok_Makan_Pelem_Golek_HR.xlsx'\n",
        "\n",
        "### Bale Ayu Giwangan\n",
        "data_bale_ayu_giwangan_lr_xlsx = path_file_restoran_seafood_mahal + 'Bale_Ayu_Giwangan/Bale_Ayu_Giwangan_LR.xlsx'\n",
        "data_bale_ayu_giwangan_hr_xlsx = path_file_restoran_seafood_mahal + 'Bale_Ayu_Giwangan/Bale_Ayu_Giwangan_HR.xlsx'\n",
        "\n",
        "### Menega Cafe\n",
        "data_menega_cafe_xlsx = path_file_restoran_seafood_mahal + 'Menega_Cafe/Menega_Cafe_MR.xlsx'\n",
        "data_menega_cafe_lr_xlsx = path_file_restoran_seafood_mahal + 'Menega_Cafe/Menega_Cafe_LR.xlsx'\n",
        "\n",
        "### Rock Bar Bali\n",
        "data_rock_bar_bali_lr_xlsx = path_file_restoran_seafood_mahal + 'Rock_Bar_Bali/Rock_Bar_Bali_LR.xlsx'\n",
        "data_rock_bar_bali_hr_xlsx = path_file_restoran_seafood_mahal + 'Rock_Bar_Bali/Rock_Bar_Bali_HR.xlsx'\n",
        "\n",
        "### Sardine By K Club\n",
        "data_sardine_by_k_club_lr_xlsx = path_file_restoran_seafood_mahal + 'Sardine_by_K_Club/Sardine_by_K_Club_LR.xlsx'\n",
        "data_sardine_by_k_club_hr_xlsx = path_file_restoran_seafood_mahal + 'Sardine_by_K_Club/Sardine_by_K_Club_HR.xlsx'\n",
        "\n",
        "### Meads In Bali\n",
        "data_meads_in_bali_lr_xlsx = path_file_restoran_seafood_mahal + 'Meads_In_Bali/Meads_In_Bali_LR.xlsx'\n",
        "data_meads_in_bali_hr_xlsx = path_file_restoran_seafood_mahal + 'Meads_In_Bali/Meads_In_Bali_HR.xlsx'\n",
        "\n",
        "### Rumah Makan Torani (Pusat)\n",
        "data_rumah_makan_torani_pusat_lr_xlsx = path_file_restoran_seafood_mahal + 'Rumah_Makan_Torani_(Pusat)/Rumah_Makan_Torani_(Pusat)_LR.xlsx'\n",
        "data_rumah_makan_torani_pusat_hr_xlsx = path_file_restoran_seafood_mahal + 'Rumah_Makan_Torani_(Pusat)/Rumah_Makan_Torani_(Pusat)_HR.xlsx'\n",
        "\n",
        "### Restoran Dandito\n",
        "data_restoran_dandito_lr_xlsx = path_file_restoran_seafood_mahal + 'Restoran_Dandito/Restoran_Dandito_LR.xlsx'\n",
        "\n",
        "### Banyumili Resto\n",
        "data_banyumili_resto_lr_xlsx = path_file_restoran_seafood_mahal + 'Banyu_Mili_Resto/Banyu_Mili_Resto_LR.xlsx'"
      ],
      "metadata": {
        "id": "SImZnmW1hIOl"
      },
      "execution_count": null,
      "outputs": []
    },
    {
      "cell_type": "markdown",
      "source": [
        "### **Load and Read Data**"
      ],
      "metadata": {
        "id": "4vUthnc7jEnD"
      }
    },
    {
      "cell_type": "code",
      "source": [
        "# Connect to drive\n",
        "drive.mount('/content/drive')"
      ],
      "metadata": {
        "id": "Vl6tKWlejJ6o",
        "colab": {
          "base_uri": "https://localhost:8080/"
        },
        "outputId": "fddf0689-cce7-4290-b89c-b4a22979f806"
      },
      "execution_count": null,
      "outputs": [
        {
          "output_type": "stream",
          "name": "stdout",
          "text": [
            "Mounted at /content/drive\n"
          ]
        }
      ]
    },
    {
      "cell_type": "code",
      "source": [
        "def data_name(x):\n",
        "  y = list(x.split(\"_\"))\n",
        "  y = y[:-1]\n",
        "  y = '_'.join(map(str, y))\n",
        "  return y"
      ],
      "metadata": {
        "id": "hYT-pkjoVufq"
      },
      "execution_count": null,
      "outputs": []
    },
    {
      "cell_type": "code",
      "source": [
        "# Define File Path\n",
        "data_path = data_rumah_lobster_depok_lr_xlsx\n",
        "x = 'data_rumah_lobster_depok_lr_xlsx'\n",
        "data_name = data_name(str(x))\n",
        "\n",
        "# Read Data\n",
        "data = pd.read_excel(data_path)"
      ],
      "metadata": {
        "id": "6xatby43kqY9"
      },
      "execution_count": null,
      "outputs": []
    },
    {
      "cell_type": "code",
      "source": [
        "# Get Preview Data\n",
        "data.head()"
      ],
      "metadata": {
        "id": "xRxYj_Jr3AMU",
        "colab": {
          "base_uri": "https://localhost:8080/",
          "height": 490
        },
        "outputId": "826d32d5-99ac-4592-df04-1d030076f1fb"
      },
      "execution_count": null,
      "outputs": [
        {
          "output_type": "execute_result",
          "data": {
            "text/plain": [
              "                                   query                 name  \\\n",
              "0  0x2e69ebfa49cbf08f:0xd20f041a8e561885  RUMAH LOBSTER DEPOK   \n",
              "1  0x2e69ebfa49cbf08f:0xd20f041a8e561885  RUMAH LOBSTER DEPOK   \n",
              "2  0x2e69ebfa49cbf08f:0xd20f041a8e561885  RUMAH LOBSTER DEPOK   \n",
              "3  0x2e69ebfa49cbf08f:0xd20f041a8e561885  RUMAH LOBSTER DEPOK   \n",
              "4  0x2e69ebfa49cbf08f:0xd20f041a8e561885  RUMAH LOBSTER DEPOK   \n",
              "\n",
              "                               google_id                     place_id  \\\n",
              "0  0x2e69ebfa49cbf08f:0xd20f041a8e561885  ChIJj_DLSfrraS4RhRhWjhoED9I   \n",
              "1  0x2e69ebfa49cbf08f:0xd20f041a8e561885  ChIJj_DLSfrraS4RhRhWjhoED9I   \n",
              "2  0x2e69ebfa49cbf08f:0xd20f041a8e561885  ChIJj_DLSfrraS4RhRhWjhoED9I   \n",
              "3  0x2e69ebfa49cbf08f:0xd20f041a8e561885  ChIJj_DLSfrraS4RhRhWjhoED9I   \n",
              "4  0x2e69ebfa49cbf08f:0xd20f041a8e561885  ChIJj_DLSfrraS4RhRhWjhoED9I   \n",
              "\n",
              "                                       location_link  \\\n",
              "0  https://www.google.com/maps/place/RUMAH+LOBSTE...   \n",
              "1  https://www.google.com/maps/place/RUMAH+LOBSTE...   \n",
              "2  https://www.google.com/maps/place/RUMAH+LOBSTE...   \n",
              "3  https://www.google.com/maps/place/RUMAH+LOBSTE...   \n",
              "4  https://www.google.com/maps/place/RUMAH+LOBSTE...   \n",
              "\n",
              "                                        reviews_link  \\\n",
              "0  https://search.google.com/local/reviews?placei...   \n",
              "1  https://search.google.com/local/reviews?placei...   \n",
              "2  https://search.google.com/local/reviews?placei...   \n",
              "3  https://search.google.com/local/reviews?placei...   \n",
              "4  https://search.google.com/local/reviews?placei...   \n",
              "\n",
              "                                   reviews_per_score  reviews  rating  \\\n",
              "0  {\"1\": 75, \"2\": 65, \"3\": 296, \"4\": 890, \"5\": 2155}     3481     4.4   \n",
              "1  {\"1\": 75, \"2\": 65, \"3\": 296, \"4\": 890, \"5\": 2155}     3481     4.4   \n",
              "2  {\"1\": 75, \"2\": 65, \"3\": 296, \"4\": 890, \"5\": 2155}     3481     4.4   \n",
              "3  {\"1\": 75, \"2\": 65, \"3\": 296, \"4\": 890, \"5\": 2155}     3481     4.4   \n",
              "4  {\"1\": 75, \"2\": 65, \"3\": 296, \"4\": 890, \"5\": 2155}     3481     4.4   \n",
              "\n",
              "                              review_id  ...  \\\n",
              "0   ChZDSUhNMG9nS0VJQ0FnSURnbjdiSVV3EAE  ...   \n",
              "1  ChdDSUhNMG9nS0VJQ0FnSUNPdDg2emlnRRAB  ...   \n",
              "2  ChdDSUhNMG9nS0VJQ0FnSUR5am95RDFBRRAB  ...   \n",
              "3   ChZDSUhNMG9nS0VJQ0FnSUNhemVTYUh3EAE  ...   \n",
              "4   ChZDSUhNMG9nS0VJQ0FnSURhMVpHWk9REAE  ...   \n",
              "\n",
              "                                     review_img_urls  \\\n",
              "0  https://lh5.googleusercontent.com/p/AF1QipPwhJ...   \n",
              "1  https://lh5.googleusercontent.com/p/AF1QipMC0f...   \n",
              "2  https://lh5.googleusercontent.com/p/AF1QipM8R-...   \n",
              "3                                                NaN   \n",
              "4                                                NaN   \n",
              "\n",
              "                                        owner_answer owner_answer_timestamp  \\\n",
              "0                                                NaN                    NaN   \n",
              "1                                                NaN                    NaN   \n",
              "2                                                NaN                    NaN   \n",
              "3                                                NaN                    NaN   \n",
              "4  Halo kak.. mohon maaf atas ketidaknyamanan nya...           1.629802e+09   \n",
              "\n",
              "  owner_answer_timestamp_datetime_utc  \\\n",
              "0                                 NaN   \n",
              "1                                 NaN   \n",
              "2                                 NaN   \n",
              "3                                 NaN   \n",
              "4                 08/24/2021 10:42:32   \n",
              "\n",
              "                                         review_link review_rating  \\\n",
              "0  https://www.google.com/maps/reviews/data=!4m8!...             1   \n",
              "1  https://www.google.com/maps/reviews/data=!4m8!...             1   \n",
              "2  https://www.google.com/maps/reviews/data=!4m8!...             1   \n",
              "3  https://www.google.com/maps/reviews/data=!4m8!...             1   \n",
              "4  https://www.google.com/maps/reviews/data=!4m8!...             1   \n",
              "\n",
              "  review_timestamp  review_datetime_utc  review_likes           reviews_id  \n",
              "0       1532649915  07/27/2018 00:05:15             5 -3310422688990357371  \n",
              "1       1655899935  06/22/2022 12:12:15             7 -3310422688990357371  \n",
              "2       1615114059  03/07/2021 10:47:39             1 -3310422688990357371  \n",
              "3       1628255726  08/06/2021 13:15:26             1 -3310422688990357371  \n",
              "4       1629800154  08/24/2021 10:15:54             2 -3310422688990357371  \n",
              "\n",
              "[5 rows x 26 columns]"
            ],
            "text/html": [
              "\n",
              "  <div id=\"df-36085401-a44e-4054-b1e5-a402e54eb93b\">\n",
              "    <div class=\"colab-df-container\">\n",
              "      <div>\n",
              "<style scoped>\n",
              "    .dataframe tbody tr th:only-of-type {\n",
              "        vertical-align: middle;\n",
              "    }\n",
              "\n",
              "    .dataframe tbody tr th {\n",
              "        vertical-align: top;\n",
              "    }\n",
              "\n",
              "    .dataframe thead th {\n",
              "        text-align: right;\n",
              "    }\n",
              "</style>\n",
              "<table border=\"1\" class=\"dataframe\">\n",
              "  <thead>\n",
              "    <tr style=\"text-align: right;\">\n",
              "      <th></th>\n",
              "      <th>query</th>\n",
              "      <th>name</th>\n",
              "      <th>google_id</th>\n",
              "      <th>place_id</th>\n",
              "      <th>location_link</th>\n",
              "      <th>reviews_link</th>\n",
              "      <th>reviews_per_score</th>\n",
              "      <th>reviews</th>\n",
              "      <th>rating</th>\n",
              "      <th>review_id</th>\n",
              "      <th>...</th>\n",
              "      <th>review_img_urls</th>\n",
              "      <th>owner_answer</th>\n",
              "      <th>owner_answer_timestamp</th>\n",
              "      <th>owner_answer_timestamp_datetime_utc</th>\n",
              "      <th>review_link</th>\n",
              "      <th>review_rating</th>\n",
              "      <th>review_timestamp</th>\n",
              "      <th>review_datetime_utc</th>\n",
              "      <th>review_likes</th>\n",
              "      <th>reviews_id</th>\n",
              "    </tr>\n",
              "  </thead>\n",
              "  <tbody>\n",
              "    <tr>\n",
              "      <th>0</th>\n",
              "      <td>0x2e69ebfa49cbf08f:0xd20f041a8e561885</td>\n",
              "      <td>RUMAH LOBSTER DEPOK</td>\n",
              "      <td>0x2e69ebfa49cbf08f:0xd20f041a8e561885</td>\n",
              "      <td>ChIJj_DLSfrraS4RhRhWjhoED9I</td>\n",
              "      <td>https://www.google.com/maps/place/RUMAH+LOBSTE...</td>\n",
              "      <td>https://search.google.com/local/reviews?placei...</td>\n",
              "      <td>{\"1\": 75, \"2\": 65, \"3\": 296, \"4\": 890, \"5\": 2155}</td>\n",
              "      <td>3481</td>\n",
              "      <td>4.4</td>\n",
              "      <td>ChZDSUhNMG9nS0VJQ0FnSURnbjdiSVV3EAE</td>\n",
              "      <td>...</td>\n",
              "      <td>https://lh5.googleusercontent.com/p/AF1QipPwhJ...</td>\n",
              "      <td>NaN</td>\n",
              "      <td>NaN</td>\n",
              "      <td>NaN</td>\n",
              "      <td>https://www.google.com/maps/reviews/data=!4m8!...</td>\n",
              "      <td>1</td>\n",
              "      <td>1532649915</td>\n",
              "      <td>07/27/2018 00:05:15</td>\n",
              "      <td>5</td>\n",
              "      <td>-3310422688990357371</td>\n",
              "    </tr>\n",
              "    <tr>\n",
              "      <th>1</th>\n",
              "      <td>0x2e69ebfa49cbf08f:0xd20f041a8e561885</td>\n",
              "      <td>RUMAH LOBSTER DEPOK</td>\n",
              "      <td>0x2e69ebfa49cbf08f:0xd20f041a8e561885</td>\n",
              "      <td>ChIJj_DLSfrraS4RhRhWjhoED9I</td>\n",
              "      <td>https://www.google.com/maps/place/RUMAH+LOBSTE...</td>\n",
              "      <td>https://search.google.com/local/reviews?placei...</td>\n",
              "      <td>{\"1\": 75, \"2\": 65, \"3\": 296, \"4\": 890, \"5\": 2155}</td>\n",
              "      <td>3481</td>\n",
              "      <td>4.4</td>\n",
              "      <td>ChdDSUhNMG9nS0VJQ0FnSUNPdDg2emlnRRAB</td>\n",
              "      <td>...</td>\n",
              "      <td>https://lh5.googleusercontent.com/p/AF1QipMC0f...</td>\n",
              "      <td>NaN</td>\n",
              "      <td>NaN</td>\n",
              "      <td>NaN</td>\n",
              "      <td>https://www.google.com/maps/reviews/data=!4m8!...</td>\n",
              "      <td>1</td>\n",
              "      <td>1655899935</td>\n",
              "      <td>06/22/2022 12:12:15</td>\n",
              "      <td>7</td>\n",
              "      <td>-3310422688990357371</td>\n",
              "    </tr>\n",
              "    <tr>\n",
              "      <th>2</th>\n",
              "      <td>0x2e69ebfa49cbf08f:0xd20f041a8e561885</td>\n",
              "      <td>RUMAH LOBSTER DEPOK</td>\n",
              "      <td>0x2e69ebfa49cbf08f:0xd20f041a8e561885</td>\n",
              "      <td>ChIJj_DLSfrraS4RhRhWjhoED9I</td>\n",
              "      <td>https://www.google.com/maps/place/RUMAH+LOBSTE...</td>\n",
              "      <td>https://search.google.com/local/reviews?placei...</td>\n",
              "      <td>{\"1\": 75, \"2\": 65, \"3\": 296, \"4\": 890, \"5\": 2155}</td>\n",
              "      <td>3481</td>\n",
              "      <td>4.4</td>\n",
              "      <td>ChdDSUhNMG9nS0VJQ0FnSUR5am95RDFBRRAB</td>\n",
              "      <td>...</td>\n",
              "      <td>https://lh5.googleusercontent.com/p/AF1QipM8R-...</td>\n",
              "      <td>NaN</td>\n",
              "      <td>NaN</td>\n",
              "      <td>NaN</td>\n",
              "      <td>https://www.google.com/maps/reviews/data=!4m8!...</td>\n",
              "      <td>1</td>\n",
              "      <td>1615114059</td>\n",
              "      <td>03/07/2021 10:47:39</td>\n",
              "      <td>1</td>\n",
              "      <td>-3310422688990357371</td>\n",
              "    </tr>\n",
              "    <tr>\n",
              "      <th>3</th>\n",
              "      <td>0x2e69ebfa49cbf08f:0xd20f041a8e561885</td>\n",
              "      <td>RUMAH LOBSTER DEPOK</td>\n",
              "      <td>0x2e69ebfa49cbf08f:0xd20f041a8e561885</td>\n",
              "      <td>ChIJj_DLSfrraS4RhRhWjhoED9I</td>\n",
              "      <td>https://www.google.com/maps/place/RUMAH+LOBSTE...</td>\n",
              "      <td>https://search.google.com/local/reviews?placei...</td>\n",
              "      <td>{\"1\": 75, \"2\": 65, \"3\": 296, \"4\": 890, \"5\": 2155}</td>\n",
              "      <td>3481</td>\n",
              "      <td>4.4</td>\n",
              "      <td>ChZDSUhNMG9nS0VJQ0FnSUNhemVTYUh3EAE</td>\n",
              "      <td>...</td>\n",
              "      <td>NaN</td>\n",
              "      <td>NaN</td>\n",
              "      <td>NaN</td>\n",
              "      <td>NaN</td>\n",
              "      <td>https://www.google.com/maps/reviews/data=!4m8!...</td>\n",
              "      <td>1</td>\n",
              "      <td>1628255726</td>\n",
              "      <td>08/06/2021 13:15:26</td>\n",
              "      <td>1</td>\n",
              "      <td>-3310422688990357371</td>\n",
              "    </tr>\n",
              "    <tr>\n",
              "      <th>4</th>\n",
              "      <td>0x2e69ebfa49cbf08f:0xd20f041a8e561885</td>\n",
              "      <td>RUMAH LOBSTER DEPOK</td>\n",
              "      <td>0x2e69ebfa49cbf08f:0xd20f041a8e561885</td>\n",
              "      <td>ChIJj_DLSfrraS4RhRhWjhoED9I</td>\n",
              "      <td>https://www.google.com/maps/place/RUMAH+LOBSTE...</td>\n",
              "      <td>https://search.google.com/local/reviews?placei...</td>\n",
              "      <td>{\"1\": 75, \"2\": 65, \"3\": 296, \"4\": 890, \"5\": 2155}</td>\n",
              "      <td>3481</td>\n",
              "      <td>4.4</td>\n",
              "      <td>ChZDSUhNMG9nS0VJQ0FnSURhMVpHWk9REAE</td>\n",
              "      <td>...</td>\n",
              "      <td>NaN</td>\n",
              "      <td>Halo kak.. mohon maaf atas ketidaknyamanan nya...</td>\n",
              "      <td>1.629802e+09</td>\n",
              "      <td>08/24/2021 10:42:32</td>\n",
              "      <td>https://www.google.com/maps/reviews/data=!4m8!...</td>\n",
              "      <td>1</td>\n",
              "      <td>1629800154</td>\n",
              "      <td>08/24/2021 10:15:54</td>\n",
              "      <td>2</td>\n",
              "      <td>-3310422688990357371</td>\n",
              "    </tr>\n",
              "  </tbody>\n",
              "</table>\n",
              "<p>5 rows × 26 columns</p>\n",
              "</div>\n",
              "      <button class=\"colab-df-convert\" onclick=\"convertToInteractive('df-36085401-a44e-4054-b1e5-a402e54eb93b')\"\n",
              "              title=\"Convert this dataframe to an interactive table.\"\n",
              "              style=\"display:none;\">\n",
              "        \n",
              "  <svg xmlns=\"http://www.w3.org/2000/svg\" height=\"24px\"viewBox=\"0 0 24 24\"\n",
              "       width=\"24px\">\n",
              "    <path d=\"M0 0h24v24H0V0z\" fill=\"none\"/>\n",
              "    <path d=\"M18.56 5.44l.94 2.06.94-2.06 2.06-.94-2.06-.94-.94-2.06-.94 2.06-2.06.94zm-11 1L8.5 8.5l.94-2.06 2.06-.94-2.06-.94L8.5 2.5l-.94 2.06-2.06.94zm10 10l.94 2.06.94-2.06 2.06-.94-2.06-.94-.94-2.06-.94 2.06-2.06.94z\"/><path d=\"M17.41 7.96l-1.37-1.37c-.4-.4-.92-.59-1.43-.59-.52 0-1.04.2-1.43.59L10.3 9.45l-7.72 7.72c-.78.78-.78 2.05 0 2.83L4 21.41c.39.39.9.59 1.41.59.51 0 1.02-.2 1.41-.59l7.78-7.78 2.81-2.81c.8-.78.8-2.07 0-2.86zM5.41 20L4 18.59l7.72-7.72 1.47 1.35L5.41 20z\"/>\n",
              "  </svg>\n",
              "      </button>\n",
              "      \n",
              "  <style>\n",
              "    .colab-df-container {\n",
              "      display:flex;\n",
              "      flex-wrap:wrap;\n",
              "      gap: 12px;\n",
              "    }\n",
              "\n",
              "    .colab-df-convert {\n",
              "      background-color: #E8F0FE;\n",
              "      border: none;\n",
              "      border-radius: 50%;\n",
              "      cursor: pointer;\n",
              "      display: none;\n",
              "      fill: #1967D2;\n",
              "      height: 32px;\n",
              "      padding: 0 0 0 0;\n",
              "      width: 32px;\n",
              "    }\n",
              "\n",
              "    .colab-df-convert:hover {\n",
              "      background-color: #E2EBFA;\n",
              "      box-shadow: 0px 1px 2px rgba(60, 64, 67, 0.3), 0px 1px 3px 1px rgba(60, 64, 67, 0.15);\n",
              "      fill: #174EA6;\n",
              "    }\n",
              "\n",
              "    [theme=dark] .colab-df-convert {\n",
              "      background-color: #3B4455;\n",
              "      fill: #D2E3FC;\n",
              "    }\n",
              "\n",
              "    [theme=dark] .colab-df-convert:hover {\n",
              "      background-color: #434B5C;\n",
              "      box-shadow: 0px 1px 3px 1px rgba(0, 0, 0, 0.15);\n",
              "      filter: drop-shadow(0px 1px 2px rgba(0, 0, 0, 0.3));\n",
              "      fill: #FFFFFF;\n",
              "    }\n",
              "  </style>\n",
              "\n",
              "      <script>\n",
              "        const buttonEl =\n",
              "          document.querySelector('#df-36085401-a44e-4054-b1e5-a402e54eb93b button.colab-df-convert');\n",
              "        buttonEl.style.display =\n",
              "          google.colab.kernel.accessAllowed ? 'block' : 'none';\n",
              "\n",
              "        async function convertToInteractive(key) {\n",
              "          const element = document.querySelector('#df-36085401-a44e-4054-b1e5-a402e54eb93b');\n",
              "          const dataTable =\n",
              "            await google.colab.kernel.invokeFunction('convertToInteractive',\n",
              "                                                     [key], {});\n",
              "          if (!dataTable) return;\n",
              "\n",
              "          const docLinkHtml = 'Like what you see? Visit the ' +\n",
              "            '<a target=\"_blank\" href=https://colab.research.google.com/notebooks/data_table.ipynb>data table notebook</a>'\n",
              "            + ' to learn more about interactive tables.';\n",
              "          element.innerHTML = '';\n",
              "          dataTable['output_type'] = 'display_data';\n",
              "          await google.colab.output.renderOutput(dataTable, element);\n",
              "          const docLink = document.createElement('div');\n",
              "          docLink.innerHTML = docLinkHtml;\n",
              "          element.appendChild(docLink);\n",
              "        }\n",
              "      </script>\n",
              "    </div>\n",
              "  </div>\n",
              "  "
            ]
          },
          "metadata": {},
          "execution_count": 74
        }
      ]
    },
    {
      "cell_type": "code",
      "source": [
        "# Data Interpretation\n",
        "data.info()"
      ],
      "metadata": {
        "id": "wqymONfTZZPO",
        "colab": {
          "base_uri": "https://localhost:8080/"
        },
        "outputId": "cb24d1f7-7bae-4085-df1e-f383025283a8"
      },
      "execution_count": null,
      "outputs": [
        {
          "output_type": "stream",
          "name": "stdout",
          "text": [
            "<class 'pandas.core.frame.DataFrame'>\n",
            "RangeIndex: 10 entries, 0 to 9\n",
            "Data columns (total 26 columns):\n",
            " #   Column                               Non-Null Count  Dtype  \n",
            "---  ------                               --------------  -----  \n",
            " 0   query                                10 non-null     object \n",
            " 1   name                                 10 non-null     object \n",
            " 2   google_id                            10 non-null     object \n",
            " 3   place_id                             10 non-null     object \n",
            " 4   location_link                        10 non-null     object \n",
            " 5   reviews_link                         10 non-null     object \n",
            " 6   reviews_per_score                    10 non-null     object \n",
            " 7   reviews                              10 non-null     int64  \n",
            " 8   rating                               10 non-null     float64\n",
            " 9   review_id                            10 non-null     object \n",
            " 10  author_link                          10 non-null     object \n",
            " 11  author_title                         10 non-null     object \n",
            " 12  author_id                            10 non-null     object \n",
            " 13  author_image                         10 non-null     object \n",
            " 14  review_text                          10 non-null     object \n",
            " 15  review_img_url                       3 non-null      object \n",
            " 16  review_img_urls                      3 non-null      object \n",
            " 17  owner_answer                         1 non-null      object \n",
            " 18  owner_answer_timestamp               1 non-null      float64\n",
            " 19  owner_answer_timestamp_datetime_utc  1 non-null      object \n",
            " 20  review_link                          10 non-null     object \n",
            " 21  review_rating                        10 non-null     int64  \n",
            " 22  review_timestamp                     10 non-null     int64  \n",
            " 23  review_datetime_utc                  10 non-null     object \n",
            " 24  review_likes                         10 non-null     int64  \n",
            " 25  reviews_id                           10 non-null     int64  \n",
            "dtypes: float64(2), int64(5), object(19)\n",
            "memory usage: 2.2+ KB\n"
          ]
        }
      ]
    },
    {
      "cell_type": "markdown",
      "source": [
        "### **Filtering Column**"
      ],
      "metadata": {
        "id": "KGwe8SSgaSJQ"
      }
    },
    {
      "cell_type": "code",
      "source": [
        "def filter_column(data):\n",
        "  # copy data\n",
        "  data2 = data.copy()\n",
        "\n",
        "  # filter column copy data\n",
        "  data_filter = data2[['name','review_datetime_utc','review_img_url','review_rating','review_text']]\n",
        "\n",
        "  # result filter data\n",
        "  return data_filter"
      ],
      "metadata": {
        "id": "UnzMpHE8acfd"
      },
      "execution_count": null,
      "outputs": []
    },
    {
      "cell_type": "code",
      "source": [
        "# Apply Filter Column to Original Dataset\n",
        "data_fix = filter_column(data)"
      ],
      "metadata": {
        "id": "WcccxRmecn2n"
      },
      "execution_count": null,
      "outputs": []
    },
    {
      "cell_type": "code",
      "source": [
        "data_fix.info()"
      ],
      "metadata": {
        "id": "sE7sMl6SRVlx",
        "colab": {
          "base_uri": "https://localhost:8080/"
        },
        "outputId": "010080d6-1394-45a2-bc59-7b2e5264656a"
      },
      "execution_count": null,
      "outputs": [
        {
          "output_type": "stream",
          "name": "stdout",
          "text": [
            "<class 'pandas.core.frame.DataFrame'>\n",
            "RangeIndex: 10 entries, 0 to 9\n",
            "Data columns (total 5 columns):\n",
            " #   Column               Non-Null Count  Dtype \n",
            "---  ------               --------------  ----- \n",
            " 0   name                 10 non-null     object\n",
            " 1   review_datetime_utc  10 non-null     object\n",
            " 2   review_img_url       3 non-null      object\n",
            " 3   review_rating        10 non-null     int64 \n",
            " 4   review_text          10 non-null     object\n",
            "dtypes: int64(1), object(4)\n",
            "memory usage: 528.0+ bytes\n"
          ]
        }
      ]
    },
    {
      "cell_type": "markdown",
      "source": [
        "### Filter Row (If dataset over 100 instances)"
      ],
      "metadata": {
        "id": "8Go2p4HAu4Ra"
      }
    },
    {
      "cell_type": "code",
      "source": [
        "def filter_row(data):\n",
        "  # copy data\n",
        "  data2 = data.copy()\n",
        "\n",
        "  # drop data with duplicates rows\n",
        "  data2.drop_duplicates(inplace=True)\n",
        "\n",
        "  # drop data with no images\n",
        "  null_img_indx = data2[data2['review_img_url'].isnull()].index\n",
        "  data2.drop(null_img_indx, axis=0, inplace=True)\n",
        "\n",
        "  # checking total rows in data\n",
        "  x, y = data2.shape\n",
        "  \n",
        "  # filter out rows with a total of rows in data greater than 100\n",
        "  # if(x>100):\n",
        "  #   indx_1_2_3 = data_fix.index[(data_fix['review_rating']==1) | (data_fix['review_rating']==2) | (data_fix['review_rating']==3)].to_list()\n",
        "  #   indx_4_5 = data_fix.index[(data_fix['review_rating']==4) | (data_fix['review_rating']==5)].to_list()\n",
        "  #   length_1_2_3 = len(indx_1_2_3)\n",
        "  #   length_4_5 = len(indx_4_5)\n",
        "  #   residu = 100 - length_1_2_3\n",
        "  #   indx_4_5_residu = indx_4_5[:residu]\n",
        "  #   merge_indx = indx_1_2_3 + indx_4_5_residu\n",
        "  #   data2 = data2.loc[merge_indx,:]\n",
        "\n",
        "  # result of filter row\n",
        "  return data2"
      ],
      "metadata": {
        "id": "Os2LacsQvaOb"
      },
      "execution_count": null,
      "outputs": []
    },
    {
      "cell_type": "code",
      "source": [
        "data_fix= filter_row(data_fix)"
      ],
      "metadata": {
        "id": "c0g5fnBcWUsS"
      },
      "execution_count": null,
      "outputs": []
    },
    {
      "cell_type": "code",
      "source": [
        "# mendapatkan data dengan rating 1\n",
        "rat_1 = data_fix.index[(data_fix['review_rating']==1)].to_list()\n",
        "\n",
        "# mendapatkan data dengan rating 1\n",
        "rat_2 = data_fix.index[(data_fix['review_rating']==2)].to_list()\n",
        "\n",
        "# mendapatkan data dengan rating 3\n",
        "rat_3 = data_fix.index[(data_fix['review_rating']==3)].to_list()\n",
        "\n",
        "# mendapatkan data dengan rating 4 atau 5\n",
        "rat_4_5 = data_fix.index[(data_fix['review_rating']==4) | (data_fix['review_rating']==5)].to_list()\n",
        "\n",
        "# indeks gabungan rating 1,2,3\n",
        "gab_1_2_3 = rat_1 + rat_2 + rat_3\n",
        "\n",
        "# inisialisasi indeks sisa untuk rat_4_5\n",
        "residu = 100 - len(gab_1_2_3)\n",
        "\n",
        "# mengambil indeks sisa dari array rat_4_5\n",
        "# res_rat_4_5 = random.sample(rat_4_5, residu)\n",
        "\n",
        "# indeks gabungan rating 1,2,3,4,5\n",
        "# gab_1_2_3_4_5 = gab_1_2_3 + res_rat_4_5\n",
        "gab_1_2_3_4_5 = gab_1_2_3 + rat_4_5[:10]\n",
        "\n",
        "print('Rating 1 : ')\n",
        "print(rat_1)\n",
        "print(len(rat_1),'\\n')\n",
        "print('Rating 2 : ')\n",
        "print(rat_2)\n",
        "print(len(rat_2),'\\n')\n",
        "print('Rating 3 : ')\n",
        "print(rat_3)\n",
        "print(len(rat_3),'\\n')\n",
        "print('Rating 4_5 : ')\n",
        "print(rat_4_5)\n",
        "print(len(rat_4_5),'\\n')\n",
        "# print('Residu Rating 4_5 : ')\n",
        "# print(res_rat_4_5)\n",
        "# print(len(res_rat_4_5),'\\n')\n",
        "print('Tipe data Rating 1_2_3 : ')\n",
        "print(type(rat_1),'\\n')\n",
        "print('Rating 1_2_3 : ')\n",
        "print(gab_1_2_3)\n",
        "print(len(gab_1_2_3),'\\n')\n",
        "print('Rating 1_2_3_4_5 : ')\n",
        "print(type(gab_1_2_3_4_5))\n",
        "print(len(gab_1_2_3_4_5))"
      ],
      "metadata": {
        "id": "KViBSRl3Ryij",
        "colab": {
          "base_uri": "https://localhost:8080/"
        },
        "outputId": "20002acd-e8fc-4dfa-9e9c-93883e54a3b8"
      },
      "execution_count": null,
      "outputs": [
        {
          "output_type": "stream",
          "name": "stdout",
          "text": [
            "Rating 1 : \n",
            "[0, 1, 2]\n",
            "3 \n",
            "\n",
            "Rating 2 : \n",
            "[]\n",
            "0 \n",
            "\n",
            "Rating 3 : \n",
            "[]\n",
            "0 \n",
            "\n",
            "Rating 4_5 : \n",
            "[]\n",
            "0 \n",
            "\n",
            "Tipe data Rating 1_2_3 : \n",
            "<class 'list'> \n",
            "\n",
            "Rating 1_2_3 : \n",
            "[0, 1, 2]\n",
            "3 \n",
            "\n",
            "Rating 1_2_3_4_5 : \n",
            "<class 'list'>\n",
            "3\n"
          ]
        }
      ]
    },
    {
      "cell_type": "code",
      "source": [
        "data_fix = data_fix.loc[gab_1_2_3_4_5]"
      ],
      "metadata": {
        "id": "lrLimBTnpedV"
      },
      "execution_count": null,
      "outputs": []
    },
    {
      "cell_type": "code",
      "source": [
        "data_fix"
      ],
      "metadata": {
        "id": "3reT2Ws6q9ar",
        "colab": {
          "base_uri": "https://localhost:8080/",
          "height": 329
        },
        "outputId": "f1449326-7554-40f2-fe1a-9d81b89b9937"
      },
      "execution_count": null,
      "outputs": [
        {
          "output_type": "execute_result",
          "data": {
            "text/plain": [
              "                  name  review_datetime_utc  \\\n",
              "0  RUMAH LOBSTER DEPOK  07/27/2018 00:05:15   \n",
              "1  RUMAH LOBSTER DEPOK  06/22/2022 12:12:15   \n",
              "2  RUMAH LOBSTER DEPOK  03/07/2021 10:47:39   \n",
              "\n",
              "                                      review_img_url  review_rating  \\\n",
              "0  https://lh5.googleusercontent.com/p/AF1QipPwhJ...              1   \n",
              "1  https://lh5.googleusercontent.com/p/AF1QipMC0f...              1   \n",
              "2  https://lh5.googleusercontent.com/p/AF1QipM8R-...              1   \n",
              "\n",
              "                                         review_text  \n",
              "0  Aneh ya mau pesen varian kerang ga boleh katan...  \n",
              "1  Sangat mengecewakan..rasa gak karuan..karywan ...  \n",
              "2  Tempat tidak terawat, ada menu yang berubah ta...  "
            ],
            "text/html": [
              "\n",
              "  <div id=\"df-9c6bfd17-2737-4694-94ee-e367647a55c3\">\n",
              "    <div class=\"colab-df-container\">\n",
              "      <div>\n",
              "<style scoped>\n",
              "    .dataframe tbody tr th:only-of-type {\n",
              "        vertical-align: middle;\n",
              "    }\n",
              "\n",
              "    .dataframe tbody tr th {\n",
              "        vertical-align: top;\n",
              "    }\n",
              "\n",
              "    .dataframe thead th {\n",
              "        text-align: right;\n",
              "    }\n",
              "</style>\n",
              "<table border=\"1\" class=\"dataframe\">\n",
              "  <thead>\n",
              "    <tr style=\"text-align: right;\">\n",
              "      <th></th>\n",
              "      <th>name</th>\n",
              "      <th>review_datetime_utc</th>\n",
              "      <th>review_img_url</th>\n",
              "      <th>review_rating</th>\n",
              "      <th>review_text</th>\n",
              "    </tr>\n",
              "  </thead>\n",
              "  <tbody>\n",
              "    <tr>\n",
              "      <th>0</th>\n",
              "      <td>RUMAH LOBSTER DEPOK</td>\n",
              "      <td>07/27/2018 00:05:15</td>\n",
              "      <td>https://lh5.googleusercontent.com/p/AF1QipPwhJ...</td>\n",
              "      <td>1</td>\n",
              "      <td>Aneh ya mau pesen varian kerang ga boleh katan...</td>\n",
              "    </tr>\n",
              "    <tr>\n",
              "      <th>1</th>\n",
              "      <td>RUMAH LOBSTER DEPOK</td>\n",
              "      <td>06/22/2022 12:12:15</td>\n",
              "      <td>https://lh5.googleusercontent.com/p/AF1QipMC0f...</td>\n",
              "      <td>1</td>\n",
              "      <td>Sangat mengecewakan..rasa gak karuan..karywan ...</td>\n",
              "    </tr>\n",
              "    <tr>\n",
              "      <th>2</th>\n",
              "      <td>RUMAH LOBSTER DEPOK</td>\n",
              "      <td>03/07/2021 10:47:39</td>\n",
              "      <td>https://lh5.googleusercontent.com/p/AF1QipM8R-...</td>\n",
              "      <td>1</td>\n",
              "      <td>Tempat tidak terawat, ada menu yang berubah ta...</td>\n",
              "    </tr>\n",
              "  </tbody>\n",
              "</table>\n",
              "</div>\n",
              "      <button class=\"colab-df-convert\" onclick=\"convertToInteractive('df-9c6bfd17-2737-4694-94ee-e367647a55c3')\"\n",
              "              title=\"Convert this dataframe to an interactive table.\"\n",
              "              style=\"display:none;\">\n",
              "        \n",
              "  <svg xmlns=\"http://www.w3.org/2000/svg\" height=\"24px\"viewBox=\"0 0 24 24\"\n",
              "       width=\"24px\">\n",
              "    <path d=\"M0 0h24v24H0V0z\" fill=\"none\"/>\n",
              "    <path d=\"M18.56 5.44l.94 2.06.94-2.06 2.06-.94-2.06-.94-.94-2.06-.94 2.06-2.06.94zm-11 1L8.5 8.5l.94-2.06 2.06-.94-2.06-.94L8.5 2.5l-.94 2.06-2.06.94zm10 10l.94 2.06.94-2.06 2.06-.94-2.06-.94-.94-2.06-.94 2.06-2.06.94z\"/><path d=\"M17.41 7.96l-1.37-1.37c-.4-.4-.92-.59-1.43-.59-.52 0-1.04.2-1.43.59L10.3 9.45l-7.72 7.72c-.78.78-.78 2.05 0 2.83L4 21.41c.39.39.9.59 1.41.59.51 0 1.02-.2 1.41-.59l7.78-7.78 2.81-2.81c.8-.78.8-2.07 0-2.86zM5.41 20L4 18.59l7.72-7.72 1.47 1.35L5.41 20z\"/>\n",
              "  </svg>\n",
              "      </button>\n",
              "      \n",
              "  <style>\n",
              "    .colab-df-container {\n",
              "      display:flex;\n",
              "      flex-wrap:wrap;\n",
              "      gap: 12px;\n",
              "    }\n",
              "\n",
              "    .colab-df-convert {\n",
              "      background-color: #E8F0FE;\n",
              "      border: none;\n",
              "      border-radius: 50%;\n",
              "      cursor: pointer;\n",
              "      display: none;\n",
              "      fill: #1967D2;\n",
              "      height: 32px;\n",
              "      padding: 0 0 0 0;\n",
              "      width: 32px;\n",
              "    }\n",
              "\n",
              "    .colab-df-convert:hover {\n",
              "      background-color: #E2EBFA;\n",
              "      box-shadow: 0px 1px 2px rgba(60, 64, 67, 0.3), 0px 1px 3px 1px rgba(60, 64, 67, 0.15);\n",
              "      fill: #174EA6;\n",
              "    }\n",
              "\n",
              "    [theme=dark] .colab-df-convert {\n",
              "      background-color: #3B4455;\n",
              "      fill: #D2E3FC;\n",
              "    }\n",
              "\n",
              "    [theme=dark] .colab-df-convert:hover {\n",
              "      background-color: #434B5C;\n",
              "      box-shadow: 0px 1px 3px 1px rgba(0, 0, 0, 0.15);\n",
              "      filter: drop-shadow(0px 1px 2px rgba(0, 0, 0, 0.3));\n",
              "      fill: #FFFFFF;\n",
              "    }\n",
              "  </style>\n",
              "\n",
              "      <script>\n",
              "        const buttonEl =\n",
              "          document.querySelector('#df-9c6bfd17-2737-4694-94ee-e367647a55c3 button.colab-df-convert');\n",
              "        buttonEl.style.display =\n",
              "          google.colab.kernel.accessAllowed ? 'block' : 'none';\n",
              "\n",
              "        async function convertToInteractive(key) {\n",
              "          const element = document.querySelector('#df-9c6bfd17-2737-4694-94ee-e367647a55c3');\n",
              "          const dataTable =\n",
              "            await google.colab.kernel.invokeFunction('convertToInteractive',\n",
              "                                                     [key], {});\n",
              "          if (!dataTable) return;\n",
              "\n",
              "          const docLinkHtml = 'Like what you see? Visit the ' +\n",
              "            '<a target=\"_blank\" href=https://colab.research.google.com/notebooks/data_table.ipynb>data table notebook</a>'\n",
              "            + ' to learn more about interactive tables.';\n",
              "          element.innerHTML = '';\n",
              "          dataTable['output_type'] = 'display_data';\n",
              "          await google.colab.output.renderOutput(dataTable, element);\n",
              "          const docLink = document.createElement('div');\n",
              "          docLink.innerHTML = docLinkHtml;\n",
              "          element.appendChild(docLink);\n",
              "        }\n",
              "      </script>\n",
              "    </div>\n",
              "  </div>\n",
              "  "
            ]
          },
          "metadata": {},
          "execution_count": 83
        }
      ]
    },
    {
      "cell_type": "code",
      "source": [
        "data_fix.shape"
      ],
      "metadata": {
        "id": "CzO-OFt-6KvD",
        "colab": {
          "base_uri": "https://localhost:8080/"
        },
        "outputId": "c7a1f457-104b-45d8-afe0-83af833fedb7"
      },
      "execution_count": null,
      "outputs": [
        {
          "output_type": "execute_result",
          "data": {
            "text/plain": [
              "(3, 5)"
            ]
          },
          "metadata": {},
          "execution_count": 84
        }
      ]
    },
    {
      "cell_type": "code",
      "source": [
        "# Get Preview Data Fix\n",
        "data_fix.head()"
      ],
      "metadata": {
        "id": "iNr6mRj_dpWn",
        "colab": {
          "base_uri": "https://localhost:8080/",
          "height": 329
        },
        "outputId": "fb3e25f5-e840-415d-f7b3-e1fc61e97f40"
      },
      "execution_count": null,
      "outputs": [
        {
          "output_type": "execute_result",
          "data": {
            "text/plain": [
              "                  name  review_datetime_utc  \\\n",
              "0  RUMAH LOBSTER DEPOK  07/27/2018 00:05:15   \n",
              "1  RUMAH LOBSTER DEPOK  06/22/2022 12:12:15   \n",
              "2  RUMAH LOBSTER DEPOK  03/07/2021 10:47:39   \n",
              "\n",
              "                                      review_img_url  review_rating  \\\n",
              "0  https://lh5.googleusercontent.com/p/AF1QipPwhJ...              1   \n",
              "1  https://lh5.googleusercontent.com/p/AF1QipMC0f...              1   \n",
              "2  https://lh5.googleusercontent.com/p/AF1QipM8R-...              1   \n",
              "\n",
              "                                         review_text  \n",
              "0  Aneh ya mau pesen varian kerang ga boleh katan...  \n",
              "1  Sangat mengecewakan..rasa gak karuan..karywan ...  \n",
              "2  Tempat tidak terawat, ada menu yang berubah ta...  "
            ],
            "text/html": [
              "\n",
              "  <div id=\"df-b935be49-b731-4467-971a-d445b11ea63d\">\n",
              "    <div class=\"colab-df-container\">\n",
              "      <div>\n",
              "<style scoped>\n",
              "    .dataframe tbody tr th:only-of-type {\n",
              "        vertical-align: middle;\n",
              "    }\n",
              "\n",
              "    .dataframe tbody tr th {\n",
              "        vertical-align: top;\n",
              "    }\n",
              "\n",
              "    .dataframe thead th {\n",
              "        text-align: right;\n",
              "    }\n",
              "</style>\n",
              "<table border=\"1\" class=\"dataframe\">\n",
              "  <thead>\n",
              "    <tr style=\"text-align: right;\">\n",
              "      <th></th>\n",
              "      <th>name</th>\n",
              "      <th>review_datetime_utc</th>\n",
              "      <th>review_img_url</th>\n",
              "      <th>review_rating</th>\n",
              "      <th>review_text</th>\n",
              "    </tr>\n",
              "  </thead>\n",
              "  <tbody>\n",
              "    <tr>\n",
              "      <th>0</th>\n",
              "      <td>RUMAH LOBSTER DEPOK</td>\n",
              "      <td>07/27/2018 00:05:15</td>\n",
              "      <td>https://lh5.googleusercontent.com/p/AF1QipPwhJ...</td>\n",
              "      <td>1</td>\n",
              "      <td>Aneh ya mau pesen varian kerang ga boleh katan...</td>\n",
              "    </tr>\n",
              "    <tr>\n",
              "      <th>1</th>\n",
              "      <td>RUMAH LOBSTER DEPOK</td>\n",
              "      <td>06/22/2022 12:12:15</td>\n",
              "      <td>https://lh5.googleusercontent.com/p/AF1QipMC0f...</td>\n",
              "      <td>1</td>\n",
              "      <td>Sangat mengecewakan..rasa gak karuan..karywan ...</td>\n",
              "    </tr>\n",
              "    <tr>\n",
              "      <th>2</th>\n",
              "      <td>RUMAH LOBSTER DEPOK</td>\n",
              "      <td>03/07/2021 10:47:39</td>\n",
              "      <td>https://lh5.googleusercontent.com/p/AF1QipM8R-...</td>\n",
              "      <td>1</td>\n",
              "      <td>Tempat tidak terawat, ada menu yang berubah ta...</td>\n",
              "    </tr>\n",
              "  </tbody>\n",
              "</table>\n",
              "</div>\n",
              "      <button class=\"colab-df-convert\" onclick=\"convertToInteractive('df-b935be49-b731-4467-971a-d445b11ea63d')\"\n",
              "              title=\"Convert this dataframe to an interactive table.\"\n",
              "              style=\"display:none;\">\n",
              "        \n",
              "  <svg xmlns=\"http://www.w3.org/2000/svg\" height=\"24px\"viewBox=\"0 0 24 24\"\n",
              "       width=\"24px\">\n",
              "    <path d=\"M0 0h24v24H0V0z\" fill=\"none\"/>\n",
              "    <path d=\"M18.56 5.44l.94 2.06.94-2.06 2.06-.94-2.06-.94-.94-2.06-.94 2.06-2.06.94zm-11 1L8.5 8.5l.94-2.06 2.06-.94-2.06-.94L8.5 2.5l-.94 2.06-2.06.94zm10 10l.94 2.06.94-2.06 2.06-.94-2.06-.94-.94-2.06-.94 2.06-2.06.94z\"/><path d=\"M17.41 7.96l-1.37-1.37c-.4-.4-.92-.59-1.43-.59-.52 0-1.04.2-1.43.59L10.3 9.45l-7.72 7.72c-.78.78-.78 2.05 0 2.83L4 21.41c.39.39.9.59 1.41.59.51 0 1.02-.2 1.41-.59l7.78-7.78 2.81-2.81c.8-.78.8-2.07 0-2.86zM5.41 20L4 18.59l7.72-7.72 1.47 1.35L5.41 20z\"/>\n",
              "  </svg>\n",
              "      </button>\n",
              "      \n",
              "  <style>\n",
              "    .colab-df-container {\n",
              "      display:flex;\n",
              "      flex-wrap:wrap;\n",
              "      gap: 12px;\n",
              "    }\n",
              "\n",
              "    .colab-df-convert {\n",
              "      background-color: #E8F0FE;\n",
              "      border: none;\n",
              "      border-radius: 50%;\n",
              "      cursor: pointer;\n",
              "      display: none;\n",
              "      fill: #1967D2;\n",
              "      height: 32px;\n",
              "      padding: 0 0 0 0;\n",
              "      width: 32px;\n",
              "    }\n",
              "\n",
              "    .colab-df-convert:hover {\n",
              "      background-color: #E2EBFA;\n",
              "      box-shadow: 0px 1px 2px rgba(60, 64, 67, 0.3), 0px 1px 3px 1px rgba(60, 64, 67, 0.15);\n",
              "      fill: #174EA6;\n",
              "    }\n",
              "\n",
              "    [theme=dark] .colab-df-convert {\n",
              "      background-color: #3B4455;\n",
              "      fill: #D2E3FC;\n",
              "    }\n",
              "\n",
              "    [theme=dark] .colab-df-convert:hover {\n",
              "      background-color: #434B5C;\n",
              "      box-shadow: 0px 1px 3px 1px rgba(0, 0, 0, 0.15);\n",
              "      filter: drop-shadow(0px 1px 2px rgba(0, 0, 0, 0.3));\n",
              "      fill: #FFFFFF;\n",
              "    }\n",
              "  </style>\n",
              "\n",
              "      <script>\n",
              "        const buttonEl =\n",
              "          document.querySelector('#df-b935be49-b731-4467-971a-d445b11ea63d button.colab-df-convert');\n",
              "        buttonEl.style.display =\n",
              "          google.colab.kernel.accessAllowed ? 'block' : 'none';\n",
              "\n",
              "        async function convertToInteractive(key) {\n",
              "          const element = document.querySelector('#df-b935be49-b731-4467-971a-d445b11ea63d');\n",
              "          const dataTable =\n",
              "            await google.colab.kernel.invokeFunction('convertToInteractive',\n",
              "                                                     [key], {});\n",
              "          if (!dataTable) return;\n",
              "\n",
              "          const docLinkHtml = 'Like what you see? Visit the ' +\n",
              "            '<a target=\"_blank\" href=https://colab.research.google.com/notebooks/data_table.ipynb>data table notebook</a>'\n",
              "            + ' to learn more about interactive tables.';\n",
              "          element.innerHTML = '';\n",
              "          dataTable['output_type'] = 'display_data';\n",
              "          await google.colab.output.renderOutput(dataTable, element);\n",
              "          const docLink = document.createElement('div');\n",
              "          docLink.innerHTML = docLinkHtml;\n",
              "          element.appendChild(docLink);\n",
              "        }\n",
              "      </script>\n",
              "    </div>\n",
              "  </div>\n",
              "  "
            ]
          },
          "metadata": {},
          "execution_count": 85
        }
      ]
    },
    {
      "cell_type": "code",
      "source": [
        "# Interpretation Data Fix\n",
        "data_fix.info()"
      ],
      "metadata": {
        "id": "AkDyeDRUrI0w",
        "colab": {
          "base_uri": "https://localhost:8080/"
        },
        "outputId": "8787d99c-e1e6-4959-c262-3861a5158195"
      },
      "execution_count": null,
      "outputs": [
        {
          "output_type": "stream",
          "name": "stdout",
          "text": [
            "<class 'pandas.core.frame.DataFrame'>\n",
            "Int64Index: 3 entries, 0 to 2\n",
            "Data columns (total 5 columns):\n",
            " #   Column               Non-Null Count  Dtype \n",
            "---  ------               --------------  ----- \n",
            " 0   name                 3 non-null      object\n",
            " 1   review_datetime_utc  3 non-null      object\n",
            " 2   review_img_url       3 non-null      object\n",
            " 3   review_rating        3 non-null      int64 \n",
            " 4   review_text          3 non-null      object\n",
            "dtypes: int64(1), object(4)\n",
            "memory usage: 144.0+ bytes\n"
          ]
        }
      ]
    },
    {
      "cell_type": "code",
      "source": [
        "# get url_images instances\n",
        "data_fix.iloc[0,2]"
      ],
      "metadata": {
        "id": "PqRZ-vaBo9CS",
        "colab": {
          "base_uri": "https://localhost:8080/",
          "height": 54
        },
        "outputId": "9aaafd0e-4af6-4515-80d2-97608197926f"
      },
      "execution_count": null,
      "outputs": [
        {
          "output_type": "execute_result",
          "data": {
            "text/plain": [
              "'https://lh5.googleusercontent.com/p/AF1QipPwhJt3mr-IBsZaFxw-2iKMwZXTI8F2dcZpHSDF'"
            ],
            "application/vnd.google.colaboratory.intrinsic+json": {
              "type": "string"
            }
          },
          "metadata": {},
          "execution_count": 87
        }
      ]
    },
    {
      "cell_type": "markdown",
      "source": [
        "### **Count Review per Label**"
      ],
      "metadata": {
        "id": "chgv6FbeeAIv"
      }
    },
    {
      "cell_type": "code",
      "source": [
        "indx_1 = data_fix[data_fix['review_rating'] == 1].index\n",
        "indx_2 = data_fix[data_fix['review_rating'] == 2].index\n",
        "indx_3 = data_fix[data_fix['review_rating'] == 3].index\n",
        "indx_4 = data_fix[data_fix['review_rating'] == 4].index\n",
        "indx_5 = data_fix[data_fix['review_rating'] == 5].index\n",
        "\n",
        "print('rating 1 : ',len(indx_1)) # 6\n",
        "print('rating 2 : ',len(indx_2)) # 3\n",
        "print('rating 3 : ',len(indx_3)) # 3\n",
        "print('rating 4 : ',len(indx_4)) # 16\n",
        "print('rating 5 : ',len(indx_5)) # 72\n",
        "print('\\n')\n",
        "print('Review Negatif (1,2) : ',len(indx_1)+len(indx_2))\n",
        "print('Review Netral (3) : ',len(indx_3))\n",
        "print('Review Positif (4,5) : ',len(indx_4)+len(indx_5))\n"
      ],
      "metadata": {
        "id": "UN3kfW51oJ4S",
        "colab": {
          "base_uri": "https://localhost:8080/"
        },
        "outputId": "85ba1364-c28b-4cf1-e70f-5762a0c30ebe"
      },
      "execution_count": null,
      "outputs": [
        {
          "output_type": "stream",
          "name": "stdout",
          "text": [
            "rating 1 :  3\n",
            "rating 2 :  0\n",
            "rating 3 :  0\n",
            "rating 4 :  0\n",
            "rating 5 :  0\n",
            "\n",
            "\n",
            "Review Negatif (1,2) :  3\n",
            "Review Netral (3) :  0\n",
            "Review Positif (4,5) :  0\n"
          ]
        }
      ]
    },
    {
      "cell_type": "markdown",
      "source": [
        "### **Export Data**"
      ],
      "metadata": {
        "id": "GsVB2DNJqFwA"
      }
    },
    {
      "cell_type": "code",
      "source": [
        "# Define function export data to export dataframe to csv file\n",
        "def export_data(df,data_name,neg,neu,pos):\n",
        "  name_file = data_name+'_'+str(pos)+'_'+str(neu)+'_'+str(neg)+'.xlsx'\n",
        "  df.to_excel(name_file)\n",
        "  files.download(name_file)\n",
        "  msg = 'Success Export Data'\n",
        "  return msg"
      ],
      "metadata": {
        "id": "LFTWrIjRpxYR"
      },
      "execution_count": null,
      "outputs": []
    },
    {
      "cell_type": "code",
      "source": [
        "# Define parameter's variabel\n",
        "neg = len(indx_1)+len(indx_2)\n",
        "neu = len(indx_3)\n",
        "pos = len(indx_4)+len(indx_5)\n",
        "# data_name = 'Sami Asih'\n",
        "\n",
        "# Apply Function\n",
        "export_data(data_fix,data_name,neg,neu,pos)"
      ],
      "metadata": {
        "id": "ehG6v1BysE_j",
        "colab": {
          "base_uri": "https://localhost:8080/",
          "height": 36
        },
        "outputId": "68b3f492-c72f-4fd5-f0f8-56082e09b697"
      },
      "execution_count": null,
      "outputs": [
        {
          "output_type": "display_data",
          "data": {
            "text/plain": [
              "<IPython.core.display.Javascript object>"
            ],
            "application/javascript": [
              "\n",
              "    async function download(id, filename, size) {\n",
              "      if (!google.colab.kernel.accessAllowed) {\n",
              "        return;\n",
              "      }\n",
              "      const div = document.createElement('div');\n",
              "      const label = document.createElement('label');\n",
              "      label.textContent = `Downloading \"${filename}\": `;\n",
              "      div.appendChild(label);\n",
              "      const progress = document.createElement('progress');\n",
              "      progress.max = size;\n",
              "      div.appendChild(progress);\n",
              "      document.body.appendChild(div);\n",
              "\n",
              "      const buffers = [];\n",
              "      let downloaded = 0;\n",
              "\n",
              "      const channel = await google.colab.kernel.comms.open(id);\n",
              "      // Send a message to notify the kernel that we're ready.\n",
              "      channel.send({})\n",
              "\n",
              "      for await (const message of channel.messages) {\n",
              "        // Send a message to notify the kernel that we're ready.\n",
              "        channel.send({})\n",
              "        if (message.buffers) {\n",
              "          for (const buffer of message.buffers) {\n",
              "            buffers.push(buffer);\n",
              "            downloaded += buffer.byteLength;\n",
              "            progress.value = downloaded;\n",
              "          }\n",
              "        }\n",
              "      }\n",
              "      const blob = new Blob(buffers, {type: 'application/binary'});\n",
              "      const a = document.createElement('a');\n",
              "      a.href = window.URL.createObjectURL(blob);\n",
              "      a.download = filename;\n",
              "      div.appendChild(a);\n",
              "      a.click();\n",
              "      div.remove();\n",
              "    }\n",
              "  "
            ]
          },
          "metadata": {}
        },
        {
          "output_type": "display_data",
          "data": {
            "text/plain": [
              "<IPython.core.display.Javascript object>"
            ],
            "application/javascript": [
              "download(\"download_26e460e2-ff62-4aab-ab30-c3c759991ab1\", \"data_rumah_lobster_depok_lr_0_0_3.xlsx\", 5541)"
            ]
          },
          "metadata": {}
        },
        {
          "output_type": "execute_result",
          "data": {
            "text/plain": [
              "'Success Export Data'"
            ],
            "application/vnd.google.colaboratory.intrinsic+json": {
              "type": "string"
            }
          },
          "metadata": {},
          "execution_count": 90
        }
      ]
    },
    {
      "cell_type": "code",
      "source": [
        "import random\n",
        "test_list = [1, 4, 5, 2, 7]\n",
        "print(\"Original list is : \" + str(test_list))\n",
        " \n",
        "print(\"Random element is :\", random.sample(test_list, 3))"
      ],
      "metadata": {
        "id": "DquMYjyy-0yc",
        "colab": {
          "base_uri": "https://localhost:8080/"
        },
        "outputId": "4baac8d5-8669-4c0b-f950-24b249473c4e"
      },
      "execution_count": null,
      "outputs": [
        {
          "output_type": "stream",
          "name": "stdout",
          "text": [
            "Original list is : [1, 4, 5, 2, 7]\n",
            "Random element is : [7, 5, 2]\n"
          ]
        }
      ]
    },
    {
      "cell_type": "markdown",
      "source": [
        "## **Normalisasi Data**"
      ],
      "metadata": {
        "id": "5SWC5dLxhr7K"
      }
    },
    {
      "cell_type": "code",
      "source": [],
      "metadata": {
        "id": "j-lC5lluSwP-"
      },
      "execution_count": null,
      "outputs": []
    },
    {
      "cell_type": "markdown",
      "source": [
        "## **Translate Emoticon**"
      ],
      "metadata": {
        "id": "l8gNhTLoh2UX"
      }
    },
    {
      "cell_type": "markdown",
      "source": [
        "## **Final Data**"
      ],
      "metadata": {
        "id": "_igVR7pXiRTm"
      }
    }
  ]
}