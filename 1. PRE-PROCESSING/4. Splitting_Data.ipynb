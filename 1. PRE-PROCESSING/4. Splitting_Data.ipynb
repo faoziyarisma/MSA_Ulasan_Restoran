{
  "nbformat": 4,
  "nbformat_minor": 0,
  "metadata": {
    "colab": {
      "provenance": []
    },
    "kernelspec": {
      "name": "python3",
      "display_name": "Python 3"
    },
    "language_info": {
      "name": "python"
    }
  },
  "cells": [
    {
      "cell_type": "markdown",
      "source": [
        "# Splitting Data"
      ],
      "metadata": {
        "id": "uvzaHImb_eOZ"
      }
    },
    {
      "cell_type": "markdown",
      "source": [
        "Dimana pada dataset review gmaps pada restoran di Indonesia mempunyai jumlah sebanyak 2700 data. Dimana pada untuk dilakukan pembelajaran model dan pengujian model, dataset perlu dibagi menjadi 3 bagian:\n",
        "1.   Training Data (80%) = 2160 data\n",
        "2.   Validation Data (10%) = 270 data\n",
        "3.   Testing Data (10%) = 270 data\n",
        "\n",
        "Dimana terdapat 3 kategori restoran pada dataset yaitu:\n",
        "1.   Restoral Lokal\n",
        "2.   Restoran Mancanegara\n",
        "3.   Restoran Seafood\n",
        "\n",
        "Jika dibagi 3 kategori, maka pada tiap kategori memiliki jumlah data:\n",
        "1.   Training Data = 720 data\n",
        "2.   Validation Data = 90 data\n",
        "3.   Testing Data = 90 data\n",
        "\n",
        "Oleh karena itu, berikut pembagian data pada sub kategori:\n",
        "\n",
        "![image.png](data:image/png;base64,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)\n",
        "\n",
        "\n"
      ],
      "metadata": {
        "id": "tNyB7fst_iWC"
      }
    },
    {
      "cell_type": "markdown",
      "source": [
        "## Import Library"
      ],
      "metadata": {
        "id": "j3lFD7iVDMh6"
      }
    },
    {
      "cell_type": "code",
      "execution_count": null,
      "metadata": {
        "id": "9OCgQl7T_PB8"
      },
      "outputs": [],
      "source": [
        "import numpy as np\n",
        "import pandas as pd\n",
        "from google.colab import drive\n",
        "import random\n",
        "from collections import Counter\n",
        "from google.colab import files"
      ]
    },
    {
      "cell_type": "markdown",
      "source": [
        "## Load Data"
      ],
      "metadata": {
        "id": "s_lUmdCKDRDZ"
      }
    },
    {
      "cell_type": "code",
      "source": [
        "drive.mount('/content/drive')"
      ],
      "metadata": {
        "colab": {
          "base_uri": "https://localhost:8080/"
        },
        "id": "6Oc7e4hhD_2D",
        "outputId": "c25cbff1-ca76-426f-e102-7f3b74693a1d"
      },
      "execution_count": null,
      "outputs": [
        {
          "output_type": "stream",
          "name": "stdout",
          "text": [
            "Mounted at /content/drive\n"
          ]
        }
      ]
    },
    {
      "cell_type": "code",
      "source": [
        "# Version Dataset\n",
        "version = 2\n",
        "\n",
        "# Path Folder\n",
        "path_folder = '/content/drive/My Drive/Bismillah_Skripsi_Bisa_Amiiin/Data_Clean_v'+ str(version) + '/'\n",
        "\n",
        "## Restoran Lokal\n",
        "### Mahal\n",
        "path_file_restoran_lokal_mahal = path_folder + 'lokal_mahal_' + str(version) + '_clean.xlsx'\n",
        "\n",
        "### Murah\n",
        "path_file_restoran_lokal_murah = path_folder + 'lokal_murah_' + str(version) + '_clean.xlsx'\n",
        "\n",
        "## Restoran Mancaegara\n",
        "### Jepang\n",
        "path_file_restoran_mancanegara_jepang = path_folder + 'mancanegara_jepang_' + str(version) + '_clean.xlsx'\n",
        "\n",
        "### China\n",
        "path_file_restoran_mancanegara_china = path_folder + 'mancanegara_china_' + str(version) + '_clean.xlsx'\n",
        "\n",
        "### Korea \n",
        "path_file_restoran_mancanegara_korea = path_folder + 'mancanegara_korea_' + str(version) + '_clean.xlsx'\n",
        "\n",
        "### Barat\n",
        "path_file_restoran_mancanegara_barat = path_folder + 'mancanegara_barat_' + str(version) + '_clean.xlsx'\n",
        "\n",
        "## Restoran Seafood \n",
        "### Mahal\n",
        "path_file_restoran_seafood_mahal = path_folder + 'seafood_mahal_' + str(version) + '_clean.xlsx'\n",
        "\n",
        "### Murah\n",
        "path_file_restoran_seafood_murah = path_folder + 'seafood_murah_' + str(version) + '_clean.xlsx'"
      ],
      "metadata": {
        "id": "v2EQg4d9EXlR"
      },
      "execution_count": null,
      "outputs": []
    },
    {
      "cell_type": "code",
      "source": [
        "data_path = path_file_restoran_lokal_mahal\n",
        "data_name = 'lokal_mahal'\n",
        "train_data_name = data_name + '_train'\n",
        "val_data_name = data_name + '_val'\n",
        "test_data_name = data_name + '_test'\n",
        "data = pd.read_excel(data_path)\n",
        "data.head()"
      ],
      "metadata": {
        "colab": {
          "base_uri": "https://localhost:8080/",
          "height": 206
        },
        "id": "CK3_febXM80L",
        "outputId": "c25359a2-6616-4ed1-b26b-a3089234e0e6"
      },
      "execution_count": null,
      "outputs": [
        {
          "output_type": "execute_result",
          "data": {
            "text/plain": [
              "   Unnamed: 0                              name  \\\n",
              "0           0  Bebek Tepi Sawah Restaurant Ubud   \n",
              "1           1  Bebek Tepi Sawah Restaurant Ubud   \n",
              "2           2  Bebek Tepi Sawah Restaurant Ubud   \n",
              "3           3         Grand Garden Resto & Cafe   \n",
              "4           4           Koenokoeni Cafe Gallery   \n",
              "\n",
              "                                      review_img_url  review_rating  \\\n",
              "0  https://lh5.googleusercontent.com/p/AF1QipPgsL...              2   \n",
              "1  https://lh5.googleusercontent.com/p/AF1QipOiXB...              2   \n",
              "2  https://lh5.googleusercontent.com/p/AF1QipPiO2...              2   \n",
              "3  https://lh5.googleusercontent.com/p/AF1QipOhLM...              2   \n",
              "4  https://lh5.googleusercontent.com/p/AF1QipMJKP...              2   \n",
              "\n",
              "                                         review_text review_date  \n",
              "0  tempat nya luas juga bersih untuk makanan nya ...  2022-09-24  \n",
              "1  suasana yang sejuk dan asri menambah nafsu mak...  2022-03-14  \n",
              "2  ramai enak cuma entah kenapa ga seeenak dulu p...  2022-04-23  \n",
              "3  bernuansa taman dari rumah klasik dengan banya...  2019-06-27  \n",
              "4  various menu dapat welcome drink jamu dan snac...  2022-09-22  "
            ],
            "text/html": [
              "\n",
              "  <div id=\"df-c84008c1-05c0-4e96-9e38-471b13fc7309\">\n",
              "    <div class=\"colab-df-container\">\n",
              "      <div>\n",
              "<style scoped>\n",
              "    .dataframe tbody tr th:only-of-type {\n",
              "        vertical-align: middle;\n",
              "    }\n",
              "\n",
              "    .dataframe tbody tr th {\n",
              "        vertical-align: top;\n",
              "    }\n",
              "\n",
              "    .dataframe thead th {\n",
              "        text-align: right;\n",
              "    }\n",
              "</style>\n",
              "<table border=\"1\" class=\"dataframe\">\n",
              "  <thead>\n",
              "    <tr style=\"text-align: right;\">\n",
              "      <th></th>\n",
              "      <th>Unnamed: 0</th>\n",
              "      <th>name</th>\n",
              "      <th>review_img_url</th>\n",
              "      <th>review_rating</th>\n",
              "      <th>review_text</th>\n",
              "      <th>review_date</th>\n",
              "    </tr>\n",
              "  </thead>\n",
              "  <tbody>\n",
              "    <tr>\n",
              "      <th>0</th>\n",
              "      <td>0</td>\n",
              "      <td>Bebek Tepi Sawah Restaurant Ubud</td>\n",
              "      <td>https://lh5.googleusercontent.com/p/AF1QipPgsL...</td>\n",
              "      <td>2</td>\n",
              "      <td>tempat nya luas juga bersih untuk makanan nya ...</td>\n",
              "      <td>2022-09-24</td>\n",
              "    </tr>\n",
              "    <tr>\n",
              "      <th>1</th>\n",
              "      <td>1</td>\n",
              "      <td>Bebek Tepi Sawah Restaurant Ubud</td>\n",
              "      <td>https://lh5.googleusercontent.com/p/AF1QipOiXB...</td>\n",
              "      <td>2</td>\n",
              "      <td>suasana yang sejuk dan asri menambah nafsu mak...</td>\n",
              "      <td>2022-03-14</td>\n",
              "    </tr>\n",
              "    <tr>\n",
              "      <th>2</th>\n",
              "      <td>2</td>\n",
              "      <td>Bebek Tepi Sawah Restaurant Ubud</td>\n",
              "      <td>https://lh5.googleusercontent.com/p/AF1QipPiO2...</td>\n",
              "      <td>2</td>\n",
              "      <td>ramai enak cuma entah kenapa ga seeenak dulu p...</td>\n",
              "      <td>2022-04-23</td>\n",
              "    </tr>\n",
              "    <tr>\n",
              "      <th>3</th>\n",
              "      <td>3</td>\n",
              "      <td>Grand Garden Resto &amp; Cafe</td>\n",
              "      <td>https://lh5.googleusercontent.com/p/AF1QipOhLM...</td>\n",
              "      <td>2</td>\n",
              "      <td>bernuansa taman dari rumah klasik dengan banya...</td>\n",
              "      <td>2019-06-27</td>\n",
              "    </tr>\n",
              "    <tr>\n",
              "      <th>4</th>\n",
              "      <td>4</td>\n",
              "      <td>Koenokoeni Cafe Gallery</td>\n",
              "      <td>https://lh5.googleusercontent.com/p/AF1QipMJKP...</td>\n",
              "      <td>2</td>\n",
              "      <td>various menu dapat welcome drink jamu dan snac...</td>\n",
              "      <td>2022-09-22</td>\n",
              "    </tr>\n",
              "  </tbody>\n",
              "</table>\n",
              "</div>\n",
              "      <button class=\"colab-df-convert\" onclick=\"convertToInteractive('df-c84008c1-05c0-4e96-9e38-471b13fc7309')\"\n",
              "              title=\"Convert this dataframe to an interactive table.\"\n",
              "              style=\"display:none;\">\n",
              "        \n",
              "  <svg xmlns=\"http://www.w3.org/2000/svg\" height=\"24px\"viewBox=\"0 0 24 24\"\n",
              "       width=\"24px\">\n",
              "    <path d=\"M0 0h24v24H0V0z\" fill=\"none\"/>\n",
              "    <path d=\"M18.56 5.44l.94 2.06.94-2.06 2.06-.94-2.06-.94-.94-2.06-.94 2.06-2.06.94zm-11 1L8.5 8.5l.94-2.06 2.06-.94-2.06-.94L8.5 2.5l-.94 2.06-2.06.94zm10 10l.94 2.06.94-2.06 2.06-.94-2.06-.94-.94-2.06-.94 2.06-2.06.94z\"/><path d=\"M17.41 7.96l-1.37-1.37c-.4-.4-.92-.59-1.43-.59-.52 0-1.04.2-1.43.59L10.3 9.45l-7.72 7.72c-.78.78-.78 2.05 0 2.83L4 21.41c.39.39.9.59 1.41.59.51 0 1.02-.2 1.41-.59l7.78-7.78 2.81-2.81c.8-.78.8-2.07 0-2.86zM5.41 20L4 18.59l7.72-7.72 1.47 1.35L5.41 20z\"/>\n",
              "  </svg>\n",
              "      </button>\n",
              "      \n",
              "  <style>\n",
              "    .colab-df-container {\n",
              "      display:flex;\n",
              "      flex-wrap:wrap;\n",
              "      gap: 12px;\n",
              "    }\n",
              "\n",
              "    .colab-df-convert {\n",
              "      background-color: #E8F0FE;\n",
              "      border: none;\n",
              "      border-radius: 50%;\n",
              "      cursor: pointer;\n",
              "      display: none;\n",
              "      fill: #1967D2;\n",
              "      height: 32px;\n",
              "      padding: 0 0 0 0;\n",
              "      width: 32px;\n",
              "    }\n",
              "\n",
              "    .colab-df-convert:hover {\n",
              "      background-color: #E2EBFA;\n",
              "      box-shadow: 0px 1px 2px rgba(60, 64, 67, 0.3), 0px 1px 3px 1px rgba(60, 64, 67, 0.15);\n",
              "      fill: #174EA6;\n",
              "    }\n",
              "\n",
              "    [theme=dark] .colab-df-convert {\n",
              "      background-color: #3B4455;\n",
              "      fill: #D2E3FC;\n",
              "    }\n",
              "\n",
              "    [theme=dark] .colab-df-convert:hover {\n",
              "      background-color: #434B5C;\n",
              "      box-shadow: 0px 1px 3px 1px rgba(0, 0, 0, 0.15);\n",
              "      filter: drop-shadow(0px 1px 2px rgba(0, 0, 0, 0.3));\n",
              "      fill: #FFFFFF;\n",
              "    }\n",
              "  </style>\n",
              "\n",
              "      <script>\n",
              "        const buttonEl =\n",
              "          document.querySelector('#df-c84008c1-05c0-4e96-9e38-471b13fc7309 button.colab-df-convert');\n",
              "        buttonEl.style.display =\n",
              "          google.colab.kernel.accessAllowed ? 'block' : 'none';\n",
              "\n",
              "        async function convertToInteractive(key) {\n",
              "          const element = document.querySelector('#df-c84008c1-05c0-4e96-9e38-471b13fc7309');\n",
              "          const dataTable =\n",
              "            await google.colab.kernel.invokeFunction('convertToInteractive',\n",
              "                                                     [key], {});\n",
              "          if (!dataTable) return;\n",
              "\n",
              "          const docLinkHtml = 'Like what you see? Visit the ' +\n",
              "            '<a target=\"_blank\" href=https://colab.research.google.com/notebooks/data_table.ipynb>data table notebook</a>'\n",
              "            + ' to learn more about interactive tables.';\n",
              "          element.innerHTML = '';\n",
              "          dataTable['output_type'] = 'display_data';\n",
              "          await google.colab.output.renderOutput(dataTable, element);\n",
              "          const docLink = document.createElement('div');\n",
              "          docLink.innerHTML = docLinkHtml;\n",
              "          element.appendChild(docLink);\n",
              "        }\n",
              "      </script>\n",
              "    </div>\n",
              "  </div>\n",
              "  "
            ]
          },
          "metadata": {},
          "execution_count": 151
        }
      ]
    },
    {
      "cell_type": "code",
      "source": [
        "#drop column with index 0 by index\n",
        "data.drop(data.columns[[0]], axis=1, inplace=True)"
      ],
      "metadata": {
        "id": "WrFsUmacNjAY"
      },
      "execution_count": null,
      "outputs": []
    },
    {
      "cell_type": "code",
      "source": [
        "# Inisialisasi jumlah train, val, and test\n",
        "# For restaurant sub kategori lokal_mahal, lokal_murah, seafood_mahal, seafood_murah\n",
        "# train = 360 (120, 120, 120)\n",
        "# val = 45 (15, 15, 15)\n",
        "# test = 45 (15, 15, 15)\n",
        "\n",
        "# For restaurant sub kategori mancanegara_jepang, mencanegara_korea\n",
        "# train = 180 (60, 60, 60)\n",
        "# val = 23 (8, 8, 7)\n",
        "# test = 23 (8, 8, 7)\n",
        "\n",
        "# For restaurant sub kategori mancanegara_china, mencanegara_barat\n",
        "# train = 180 (60, 60, 60)\n",
        "# val = 22 (8, 7, 7)\n",
        "# test = 22 (8, 7, 7)\n",
        "\n",
        "if(data_name in ('lokal_mahal', 'lokal_murah', 'seafood_mahal', 'seafood_murah')):\n",
        "  num_train, num_val_pos, num_val_neu, num_val_neg = 120, 15, 15, 15\n",
        "else:\n",
        "  if(data_name in ('mancanegara_jepang', 'mancanegara_korea')):\n",
        "    num_train, num_val_pos, num_val_neu, num_val_neg = 60, 8, 8, 7\n",
        "  else:\n",
        "    num_train, num_val_pos, num_val_neu, num_val_neg = 60, 8, 7, 7"
      ],
      "metadata": {
        "id": "UNtjcO5cT82O"
      },
      "execution_count": null,
      "outputs": []
    },
    {
      "cell_type": "code",
      "source": [
        "df_append = data.copy()\n",
        "df_append.head()"
      ],
      "metadata": {
        "colab": {
          "base_uri": "https://localhost:8080/",
          "height": 206
        },
        "id": "0Y4MT01KVj5f",
        "outputId": "f47c5da6-a69d-47ca-87cd-42ec637b5cda"
      },
      "execution_count": null,
      "outputs": [
        {
          "output_type": "execute_result",
          "data": {
            "text/plain": [
              "                               name  \\\n",
              "0  Bebek Tepi Sawah Restaurant Ubud   \n",
              "1  Bebek Tepi Sawah Restaurant Ubud   \n",
              "2  Bebek Tepi Sawah Restaurant Ubud   \n",
              "3         Grand Garden Resto & Cafe   \n",
              "4           Koenokoeni Cafe Gallery   \n",
              "\n",
              "                                      review_img_url  review_rating  \\\n",
              "0  https://lh5.googleusercontent.com/p/AF1QipPgsL...              2   \n",
              "1  https://lh5.googleusercontent.com/p/AF1QipOiXB...              2   \n",
              "2  https://lh5.googleusercontent.com/p/AF1QipPiO2...              2   \n",
              "3  https://lh5.googleusercontent.com/p/AF1QipOhLM...              2   \n",
              "4  https://lh5.googleusercontent.com/p/AF1QipMJKP...              2   \n",
              "\n",
              "                                         review_text review_date  \n",
              "0  tempat nya luas juga bersih untuk makanan nya ...  2022-09-24  \n",
              "1  suasana yang sejuk dan asri menambah nafsu mak...  2022-03-14  \n",
              "2  ramai enak cuma entah kenapa ga seeenak dulu p...  2022-04-23  \n",
              "3  bernuansa taman dari rumah klasik dengan banya...  2019-06-27  \n",
              "4  various menu dapat welcome drink jamu dan snac...  2022-09-22  "
            ],
            "text/html": [
              "\n",
              "  <div id=\"df-527b0284-9398-4a89-9b6d-a0dfb9d9cb1a\">\n",
              "    <div class=\"colab-df-container\">\n",
              "      <div>\n",
              "<style scoped>\n",
              "    .dataframe tbody tr th:only-of-type {\n",
              "        vertical-align: middle;\n",
              "    }\n",
              "\n",
              "    .dataframe tbody tr th {\n",
              "        vertical-align: top;\n",
              "    }\n",
              "\n",
              "    .dataframe thead th {\n",
              "        text-align: right;\n",
              "    }\n",
              "</style>\n",
              "<table border=\"1\" class=\"dataframe\">\n",
              "  <thead>\n",
              "    <tr style=\"text-align: right;\">\n",
              "      <th></th>\n",
              "      <th>name</th>\n",
              "      <th>review_img_url</th>\n",
              "      <th>review_rating</th>\n",
              "      <th>review_text</th>\n",
              "      <th>review_date</th>\n",
              "    </tr>\n",
              "  </thead>\n",
              "  <tbody>\n",
              "    <tr>\n",
              "      <th>0</th>\n",
              "      <td>Bebek Tepi Sawah Restaurant Ubud</td>\n",
              "      <td>https://lh5.googleusercontent.com/p/AF1QipPgsL...</td>\n",
              "      <td>2</td>\n",
              "      <td>tempat nya luas juga bersih untuk makanan nya ...</td>\n",
              "      <td>2022-09-24</td>\n",
              "    </tr>\n",
              "    <tr>\n",
              "      <th>1</th>\n",
              "      <td>Bebek Tepi Sawah Restaurant Ubud</td>\n",
              "      <td>https://lh5.googleusercontent.com/p/AF1QipOiXB...</td>\n",
              "      <td>2</td>\n",
              "      <td>suasana yang sejuk dan asri menambah nafsu mak...</td>\n",
              "      <td>2022-03-14</td>\n",
              "    </tr>\n",
              "    <tr>\n",
              "      <th>2</th>\n",
              "      <td>Bebek Tepi Sawah Restaurant Ubud</td>\n",
              "      <td>https://lh5.googleusercontent.com/p/AF1QipPiO2...</td>\n",
              "      <td>2</td>\n",
              "      <td>ramai enak cuma entah kenapa ga seeenak dulu p...</td>\n",
              "      <td>2022-04-23</td>\n",
              "    </tr>\n",
              "    <tr>\n",
              "      <th>3</th>\n",
              "      <td>Grand Garden Resto &amp; Cafe</td>\n",
              "      <td>https://lh5.googleusercontent.com/p/AF1QipOhLM...</td>\n",
              "      <td>2</td>\n",
              "      <td>bernuansa taman dari rumah klasik dengan banya...</td>\n",
              "      <td>2019-06-27</td>\n",
              "    </tr>\n",
              "    <tr>\n",
              "      <th>4</th>\n",
              "      <td>Koenokoeni Cafe Gallery</td>\n",
              "      <td>https://lh5.googleusercontent.com/p/AF1QipMJKP...</td>\n",
              "      <td>2</td>\n",
              "      <td>various menu dapat welcome drink jamu dan snac...</td>\n",
              "      <td>2022-09-22</td>\n",
              "    </tr>\n",
              "  </tbody>\n",
              "</table>\n",
              "</div>\n",
              "      <button class=\"colab-df-convert\" onclick=\"convertToInteractive('df-527b0284-9398-4a89-9b6d-a0dfb9d9cb1a')\"\n",
              "              title=\"Convert this dataframe to an interactive table.\"\n",
              "              style=\"display:none;\">\n",
              "        \n",
              "  <svg xmlns=\"http://www.w3.org/2000/svg\" height=\"24px\"viewBox=\"0 0 24 24\"\n",
              "       width=\"24px\">\n",
              "    <path d=\"M0 0h24v24H0V0z\" fill=\"none\"/>\n",
              "    <path d=\"M18.56 5.44l.94 2.06.94-2.06 2.06-.94-2.06-.94-.94-2.06-.94 2.06-2.06.94zm-11 1L8.5 8.5l.94-2.06 2.06-.94-2.06-.94L8.5 2.5l-.94 2.06-2.06.94zm10 10l.94 2.06.94-2.06 2.06-.94-2.06-.94-.94-2.06-.94 2.06-2.06.94z\"/><path d=\"M17.41 7.96l-1.37-1.37c-.4-.4-.92-.59-1.43-.59-.52 0-1.04.2-1.43.59L10.3 9.45l-7.72 7.72c-.78.78-.78 2.05 0 2.83L4 21.41c.39.39.9.59 1.41.59.51 0 1.02-.2 1.41-.59l7.78-7.78 2.81-2.81c.8-.78.8-2.07 0-2.86zM5.41 20L4 18.59l7.72-7.72 1.47 1.35L5.41 20z\"/>\n",
              "  </svg>\n",
              "      </button>\n",
              "      \n",
              "  <style>\n",
              "    .colab-df-container {\n",
              "      display:flex;\n",
              "      flex-wrap:wrap;\n",
              "      gap: 12px;\n",
              "    }\n",
              "\n",
              "    .colab-df-convert {\n",
              "      background-color: #E8F0FE;\n",
              "      border: none;\n",
              "      border-radius: 50%;\n",
              "      cursor: pointer;\n",
              "      display: none;\n",
              "      fill: #1967D2;\n",
              "      height: 32px;\n",
              "      padding: 0 0 0 0;\n",
              "      width: 32px;\n",
              "    }\n",
              "\n",
              "    .colab-df-convert:hover {\n",
              "      background-color: #E2EBFA;\n",
              "      box-shadow: 0px 1px 2px rgba(60, 64, 67, 0.3), 0px 1px 3px 1px rgba(60, 64, 67, 0.15);\n",
              "      fill: #174EA6;\n",
              "    }\n",
              "\n",
              "    [theme=dark] .colab-df-convert {\n",
              "      background-color: #3B4455;\n",
              "      fill: #D2E3FC;\n",
              "    }\n",
              "\n",
              "    [theme=dark] .colab-df-convert:hover {\n",
              "      background-color: #434B5C;\n",
              "      box-shadow: 0px 1px 3px 1px rgba(0, 0, 0, 0.15);\n",
              "      filter: drop-shadow(0px 1px 2px rgba(0, 0, 0, 0.3));\n",
              "      fill: #FFFFFF;\n",
              "    }\n",
              "  </style>\n",
              "\n",
              "      <script>\n",
              "        const buttonEl =\n",
              "          document.querySelector('#df-527b0284-9398-4a89-9b6d-a0dfb9d9cb1a button.colab-df-convert');\n",
              "        buttonEl.style.display =\n",
              "          google.colab.kernel.accessAllowed ? 'block' : 'none';\n",
              "\n",
              "        async function convertToInteractive(key) {\n",
              "          const element = document.querySelector('#df-527b0284-9398-4a89-9b6d-a0dfb9d9cb1a');\n",
              "          const dataTable =\n",
              "            await google.colab.kernel.invokeFunction('convertToInteractive',\n",
              "                                                     [key], {});\n",
              "          if (!dataTable) return;\n",
              "\n",
              "          const docLinkHtml = 'Like what you see? Visit the ' +\n",
              "            '<a target=\"_blank\" href=https://colab.research.google.com/notebooks/data_table.ipynb>data table notebook</a>'\n",
              "            + ' to learn more about interactive tables.';\n",
              "          element.innerHTML = '';\n",
              "          dataTable['output_type'] = 'display_data';\n",
              "          await google.colab.output.renderOutput(dataTable, element);\n",
              "          const docLink = document.createElement('div');\n",
              "          docLink.innerHTML = docLinkHtml;\n",
              "          element.appendChild(docLink);\n",
              "        }\n",
              "      </script>\n",
              "    </div>\n",
              "  </div>\n",
              "  "
            ]
          },
          "metadata": {},
          "execution_count": 154
        }
      ]
    },
    {
      "cell_type": "code",
      "source": [
        "df_append.info()"
      ],
      "metadata": {
        "colab": {
          "base_uri": "https://localhost:8080/"
        },
        "id": "j5LiQ8t3pSV9",
        "outputId": "711c5973-301d-4d01-9688-b231a1806510"
      },
      "execution_count": null,
      "outputs": [
        {
          "output_type": "stream",
          "name": "stdout",
          "text": [
            "<class 'pandas.core.frame.DataFrame'>\n",
            "RangeIndex: 450 entries, 0 to 449\n",
            "Data columns (total 5 columns):\n",
            " #   Column          Non-Null Count  Dtype         \n",
            "---  ------          --------------  -----         \n",
            " 0   name            450 non-null    object        \n",
            " 1   review_img_url  450 non-null    object        \n",
            " 2   review_rating   450 non-null    int64         \n",
            " 3   review_text     450 non-null    object        \n",
            " 4   review_date     450 non-null    datetime64[ns]\n",
            "dtypes: datetime64[ns](1), int64(1), object(3)\n",
            "memory usage: 17.7+ KB\n"
          ]
        }
      ]
    },
    {
      "cell_type": "markdown",
      "source": [
        "## Set Train Index"
      ],
      "metadata": {
        "id": "BCtUhB07cHBA"
      }
    },
    {
      "cell_type": "code",
      "source": [
        "# mendapatkan data dengan rating 0\n",
        "rat_neg = df_append.index[(df_append['review_rating']==0)].to_list()\n",
        "# mengambil data random sebanyak num_train dari data rating negatif\n",
        "rat_neg_train = random.sample(rat_neg, num_train)\n",
        "rat_neg_train = set(rat_neg_train)\n",
        "rat_neg_train = list(rat_neg_train)\n",
        "\n",
        "# mendapatkan data dengan rating 1\n",
        "rat_neu = df_append.index[(df_append['review_rating']==1)].to_list()\n",
        "# mengambil data random sebanyak num_train dari data rating neutral\n",
        "rat_neu_train = random.sample(rat_neu, num_train)\n",
        "rat_neu_train = set(rat_neu_train)\n",
        "rat_neu_train = list(rat_neu_train)\n",
        "\n",
        "# mendapatkan data dengan rating 2\n",
        "rat_pos = df_append.index[(df_append['review_rating']==2)].to_list()\n",
        "# mengambil data random sebanyak num_train dari data rating positif\n",
        "rat_pos_train = random.sample(rat_pos, num_train)\n",
        "rat_pos_train = set(rat_pos_train)\n",
        "rat_pos_train = list(rat_pos_train)\n",
        "\n",
        "# indeks gabungan train index\n",
        "gab_pos_neu_neg_train = rat_pos_train + rat_neu_train + rat_neg_train\n",
        "\n",
        "print('Rating Negative : ')\n",
        "print(rat_neg_train)\n",
        "print(len(rat_neg_train),'\\n')\n",
        "\n",
        "print('Rating Neutral : ')\n",
        "print(rat_neu_train)\n",
        "print(len(rat_neu_train),'\\n')\n",
        "\n",
        "print('Rating Positive : ')\n",
        "print(rat_pos_train)\n",
        "print(len(rat_pos_train),'\\n')\n",
        "\n",
        "print('Rating Gabungan : ')\n",
        "print(gab_pos_neu_neg_train)\n",
        "print(len(gab_pos_neu_neg_train),'\\n')\n"
      ],
      "metadata": {
        "colab": {
          "base_uri": "https://localhost:8080/"
        },
        "id": "LuviMEmlOF_N",
        "outputId": "8edacefb-21b4-43f0-b183-41ed16cc29f4"
      },
      "execution_count": null,
      "outputs": [
        {
          "output_type": "stream",
          "name": "stdout",
          "text": [
            "Rating Negative : \n",
            "[300, 301, 302, 303, 304, 305, 307, 309, 310, 311, 312, 314, 315, 316, 317, 319, 321, 322, 323, 324, 325, 326, 327, 328, 331, 332, 333, 334, 335, 336, 337, 340, 341, 342, 343, 345, 346, 347, 348, 350, 351, 352, 353, 355, 356, 357, 358, 359, 363, 364, 365, 368, 369, 370, 372, 373, 374, 375, 376, 377, 378, 379, 380, 381, 382, 383, 384, 386, 387, 388, 389, 391, 392, 393, 395, 396, 397, 399, 400, 401, 402, 403, 404, 405, 406, 407, 409, 410, 411, 412, 414, 415, 416, 417, 418, 419, 421, 422, 423, 425, 426, 427, 428, 429, 430, 432, 433, 434, 435, 438, 439, 440, 441, 442, 443, 444, 446, 447, 448, 449]\n",
            "120 \n",
            "\n",
            "Rating Neutral : \n",
            "[150, 152, 153, 155, 156, 157, 159, 160, 161, 162, 163, 165, 166, 167, 168, 169, 170, 171, 173, 174, 176, 177, 178, 179, 183, 184, 185, 186, 187, 188, 189, 190, 192, 193, 194, 195, 196, 197, 198, 200, 201, 202, 204, 205, 207, 208, 209, 210, 211, 212, 213, 214, 215, 217, 218, 219, 220, 221, 222, 223, 224, 225, 226, 227, 228, 229, 230, 231, 232, 233, 234, 236, 237, 238, 239, 240, 241, 242, 243, 244, 245, 248, 249, 251, 254, 255, 257, 258, 259, 260, 263, 265, 266, 267, 268, 270, 271, 273, 274, 275, 276, 277, 278, 280, 281, 282, 283, 284, 285, 286, 288, 289, 292, 293, 294, 295, 296, 297, 298, 299]\n",
            "120 \n",
            "\n",
            "Rating Positive : \n",
            "[0, 1, 3, 4, 5, 6, 9, 10, 11, 13, 14, 15, 16, 17, 20, 21, 22, 23, 24, 25, 26, 27, 29, 30, 31, 33, 34, 35, 36, 37, 38, 39, 40, 42, 43, 44, 45, 46, 48, 49, 50, 51, 53, 54, 55, 57, 59, 61, 62, 63, 64, 65, 66, 67, 68, 69, 70, 72, 73, 75, 77, 80, 81, 82, 83, 84, 86, 87, 88, 89, 90, 91, 92, 93, 94, 95, 96, 97, 98, 99, 100, 101, 102, 103, 104, 105, 106, 107, 108, 109, 110, 112, 113, 114, 115, 116, 117, 118, 119, 120, 121, 122, 124, 126, 128, 129, 131, 132, 134, 135, 136, 137, 138, 139, 142, 143, 144, 145, 147, 148]\n",
            "120 \n",
            "\n",
            "Rating Gabungan : \n",
            "[0, 1, 3, 4, 5, 6, 9, 10, 11, 13, 14, 15, 16, 17, 20, 21, 22, 23, 24, 25, 26, 27, 29, 30, 31, 33, 34, 35, 36, 37, 38, 39, 40, 42, 43, 44, 45, 46, 48, 49, 50, 51, 53, 54, 55, 57, 59, 61, 62, 63, 64, 65, 66, 67, 68, 69, 70, 72, 73, 75, 77, 80, 81, 82, 83, 84, 86, 87, 88, 89, 90, 91, 92, 93, 94, 95, 96, 97, 98, 99, 100, 101, 102, 103, 104, 105, 106, 107, 108, 109, 110, 112, 113, 114, 115, 116, 117, 118, 119, 120, 121, 122, 124, 126, 128, 129, 131, 132, 134, 135, 136, 137, 138, 139, 142, 143, 144, 145, 147, 148, 150, 152, 153, 155, 156, 157, 159, 160, 161, 162, 163, 165, 166, 167, 168, 169, 170, 171, 173, 174, 176, 177, 178, 179, 183, 184, 185, 186, 187, 188, 189, 190, 192, 193, 194, 195, 196, 197, 198, 200, 201, 202, 204, 205, 207, 208, 209, 210, 211, 212, 213, 214, 215, 217, 218, 219, 220, 221, 222, 223, 224, 225, 226, 227, 228, 229, 230, 231, 232, 233, 234, 236, 237, 238, 239, 240, 241, 242, 243, 244, 245, 248, 249, 251, 254, 255, 257, 258, 259, 260, 263, 265, 266, 267, 268, 270, 271, 273, 274, 275, 276, 277, 278, 280, 281, 282, 283, 284, 285, 286, 288, 289, 292, 293, 294, 295, 296, 297, 298, 299, 300, 301, 302, 303, 304, 305, 307, 309, 310, 311, 312, 314, 315, 316, 317, 319, 321, 322, 323, 324, 325, 326, 327, 328, 331, 332, 333, 334, 335, 336, 337, 340, 341, 342, 343, 345, 346, 347, 348, 350, 351, 352, 353, 355, 356, 357, 358, 359, 363, 364, 365, 368, 369, 370, 372, 373, 374, 375, 376, 377, 378, 379, 380, 381, 382, 383, 384, 386, 387, 388, 389, 391, 392, 393, 395, 396, 397, 399, 400, 401, 402, 403, 404, 405, 406, 407, 409, 410, 411, 412, 414, 415, 416, 417, 418, 419, 421, 422, 423, 425, 426, 427, 428, 429, 430, 432, 433, 434, 435, 438, 439, 440, 441, 442, 443, 444, 446, 447, 448, 449]\n",
            "360 \n",
            "\n"
          ]
        }
      ]
    },
    {
      "cell_type": "code",
      "source": [
        "len(rat_neg)"
      ],
      "metadata": {
        "colab": {
          "base_uri": "https://localhost:8080/"
        },
        "id": "TuUSU9bppT0W",
        "outputId": "db2463ba-c7b8-4c6a-833f-fc754e39a814"
      },
      "execution_count": null,
      "outputs": [
        {
          "output_type": "execute_result",
          "data": {
            "text/plain": [
              "150"
            ]
          },
          "metadata": {},
          "execution_count": 157
        }
      ]
    },
    {
      "cell_type": "markdown",
      "source": [
        "## Complement Train Index for Validation and Testing Index"
      ],
      "metadata": {
        "id": "zGR8fAExcO3H"
      }
    },
    {
      "cell_type": "code",
      "source": [
        "# Positive\n",
        "c5 = Counter(np.array(rat_pos))\n",
        "c6 = Counter(np.array(rat_pos_train))\n",
        "\n",
        "# Neutral\n",
        "c3 = Counter(np.array(rat_neu))\n",
        "c4 = Counter(np.array(rat_neu_train))\n",
        "\n",
        "# Negative\n",
        "c1 = Counter(np.array(rat_neg))\n",
        "c2 = Counter(np.array(rat_neg_train))\n",
        "\n",
        "# Complement\n",
        "diff_pos = c1 - c2\n",
        "diff_neu = c3 - c4\n",
        "diff_neg = c5 - c6\n",
        "\n",
        "# filter index for validation and testing data\n",
        "rat_pos_val_test = list(diff_pos.elements())\n",
        "rat_neu_val_test = list(diff_neu.elements())\n",
        "rat_neg_val_test = list(diff_neg.elements())\n",
        "\n",
        "print('rat_pos_val_test ',len(rat_pos_val_test),' : ',rat_pos_val_test)\n",
        "print('rat_neu_val_test ',len(rat_neu_val_test),' : ',rat_neu_val_test)\n",
        "print('rat_neg_val_test ',len(rat_neg_val_test),' : ',rat_neg_val_test)"
      ],
      "metadata": {
        "colab": {
          "base_uri": "https://localhost:8080/"
        },
        "id": "Pmxs7ZWqYHHO",
        "outputId": "66205c82-c31c-4aee-9eab-792a3ede27c4"
      },
      "execution_count": null,
      "outputs": [
        {
          "output_type": "stream",
          "name": "stdout",
          "text": [
            "rat_pos_val_test  30  :  [306, 308, 313, 318, 320, 329, 330, 338, 339, 344, 349, 354, 360, 361, 362, 366, 367, 371, 385, 390, 394, 398, 408, 413, 420, 424, 431, 436, 437, 445]\n",
            "rat_neu_val_test  30  :  [151, 154, 158, 164, 172, 175, 180, 181, 182, 191, 199, 203, 206, 216, 235, 246, 247, 250, 252, 253, 256, 261, 262, 264, 269, 272, 279, 287, 290, 291]\n",
            "rat_neg_val_test  30  :  [2, 7, 8, 12, 18, 19, 28, 32, 41, 47, 52, 56, 58, 60, 71, 74, 76, 78, 79, 85, 111, 123, 125, 127, 130, 133, 140, 141, 146, 149]\n"
          ]
        }
      ]
    },
    {
      "cell_type": "markdown",
      "source": [
        "## Set Validation Index"
      ],
      "metadata": {
        "id": "--mrPoJHcaUC"
      }
    },
    {
      "cell_type": "code",
      "source": [
        "# mendapatkan data dengan rating 1\n",
        "# mengambil data random sebanyak num_val dari data rating negatif\n",
        "rat_neg_val = random.sample(rat_neg_val_test, num_val_pos)\n",
        "rat_neg_val = set(rat_neg_val)\n",
        "rat_neg_val = list(rat_neg_val)\n",
        "\n",
        "# mendapatkan data dengan rating 3\n",
        "# mengambil data random sebanyak num_val dari data rating neutral\n",
        "rat_neu_val = random.sample(rat_neu_val_test, num_val_neu)\n",
        "rat_neu_val = set(rat_neu_val)\n",
        "rat_neu_val = list(rat_neu_val)\n",
        "\n",
        "# mendapatkan data dengan rating 4 atau 5\n",
        "# mengambil data random sebanyak num_val dari data rating positif\n",
        "rat_pos_val = random.sample(rat_pos_val_test, num_val_neg)\n",
        "rat_pos_val = set(rat_pos_val)\n",
        "rat_pos_val = list(rat_pos_val)\n",
        "\n",
        "# indeks gabungan validation index\n",
        "gab_pos_neu_neg_val = rat_pos_val + rat_neu_val + rat_neg_val\n",
        "\n",
        "print('Rating Negative : ')\n",
        "print(rat_neg_val)\n",
        "print(len(rat_neg_val),'\\n')\n",
        "\n",
        "print('Rating Neutral : ')\n",
        "print(rat_neu_val)\n",
        "print(len(rat_neu_val),'\\n')\n",
        "\n",
        "print('Rating Positive : ')\n",
        "print(rat_pos_val)\n",
        "print(len(rat_pos_val),'\\n')\n",
        "\n",
        "print('Rating Gabungan : ')\n",
        "print(gab_pos_neu_neg_val)\n",
        "print(len(gab_pos_neu_neg_val),'\\n')"
      ],
      "metadata": {
        "colab": {
          "base_uri": "https://localhost:8080/"
        },
        "id": "77mOSd-rcExp",
        "outputId": "4b23ab01-c8e3-4871-9940-da1c5317750c"
      },
      "execution_count": null,
      "outputs": [
        {
          "output_type": "stream",
          "name": "stdout",
          "text": [
            "Rating Negative : \n",
            "[32, 130, 7, 8, 74, 140, 28, 79, 111, 18, 146, 56, 60, 125, 127]\n",
            "15 \n",
            "\n",
            "Rating Neutral : \n",
            "[256, 291, 164, 262, 199, 154, 203, 269, 175, 272, 246, 216, 250, 252, 191]\n",
            "15 \n",
            "\n",
            "Rating Positive : \n",
            "[320, 385, 354, 420, 424, 361, 394, 431, 367, 338, 339, 436, 344, 349, 445]\n",
            "15 \n",
            "\n",
            "Rating Gabungan : \n",
            "[320, 385, 354, 420, 424, 361, 394, 431, 367, 338, 339, 436, 344, 349, 445, 256, 291, 164, 262, 199, 154, 203, 269, 175, 272, 246, 216, 250, 252, 191, 32, 130, 7, 8, 74, 140, 28, 79, 111, 18, 146, 56, 60, 125, 127]\n",
            "45 \n",
            "\n"
          ]
        }
      ]
    },
    {
      "cell_type": "markdown",
      "source": [
        "## Set Testing Index"
      ],
      "metadata": {
        "id": "mk7uZGQMe38C"
      }
    },
    {
      "cell_type": "code",
      "source": [
        "# Positive\n",
        "c7 = Counter(np.array(rat_pos_val_test))\n",
        "c8 = Counter(np.array(rat_pos_val))\n",
        "\n",
        "# Neutral\n",
        "c9 = Counter(np.array(rat_neu_val_test))\n",
        "c10 = Counter(np.array(rat_neu_val))\n",
        "\n",
        "# Negative\n",
        "c11 = Counter(np.array(rat_neg_val_test))\n",
        "c12 = Counter(np.array(rat_neg_val))\n",
        "\n",
        "# Complement\n",
        "diff_pos = c7 - c8\n",
        "diff_neu = c9 - c10\n",
        "diff_neg = c11 - c12\n",
        "\n",
        "# filter index for validation and testing data\n",
        "rat_pos_test = list(diff_pos.elements())\n",
        "rat_neu_test = list(diff_neu.elements())\n",
        "rat_neg_test = list(diff_neg.elements())\n",
        "\n",
        "# indeks gabungan test index\n",
        "gab_pos_neu_neg_test = rat_pos_test + rat_neu_test + rat_neg_test\n",
        "\n",
        "print('rat_pos_test ',len(rat_pos_test),' : ',rat_pos_test)\n",
        "print('rat_neu_test ',len(rat_neu_test),' : ',rat_neu_test)\n",
        "print('rat_neg_test ',len(rat_neg_test),' : ',rat_neg_test)\n",
        "print('gab_pos_neu_neg_test ',len(gab_pos_neu_neg_test),' : ',gab_pos_neu_neg_test)"
      ],
      "metadata": {
        "colab": {
          "base_uri": "https://localhost:8080/"
        },
        "id": "KoOmjnFde9-I",
        "outputId": "49c8706e-73c2-4948-8e41-e281049727fa"
      },
      "execution_count": null,
      "outputs": [
        {
          "output_type": "stream",
          "name": "stdout",
          "text": [
            "rat_pos_test  15  :  [306, 308, 313, 318, 329, 330, 360, 362, 366, 371, 390, 398, 408, 413, 437]\n",
            "rat_neu_test  15  :  [151, 158, 172, 180, 181, 182, 206, 235, 247, 253, 261, 264, 279, 287, 290]\n",
            "rat_neg_test  15  :  [2, 12, 19, 41, 47, 52, 58, 71, 76, 78, 85, 123, 133, 141, 149]\n",
            "gab_pos_neu_neg_test  45  :  [306, 308, 313, 318, 329, 330, 360, 362, 366, 371, 390, 398, 408, 413, 437, 151, 158, 172, 180, 181, 182, 206, 235, 247, 253, 261, 264, 279, 287, 290, 2, 12, 19, 41, 47, 52, 58, 71, 76, 78, 85, 123, 133, 141, 149]\n"
          ]
        }
      ]
    },
    {
      "cell_type": "markdown",
      "source": [
        "## Fetch Data Training, Validation, and Testing with Index"
      ],
      "metadata": {
        "id": "H_4sdDPchC7z"
      }
    },
    {
      "cell_type": "code",
      "source": [
        "train_data = df_append.loc[gab_pos_neu_neg_train]\n",
        "val_data = df_append.loc[gab_pos_neu_neg_val]\n",
        "test_data = df_append.loc[gab_pos_neu_neg_test]"
      ],
      "metadata": {
        "id": "4OeAvN78hJNp"
      },
      "execution_count": null,
      "outputs": []
    },
    {
      "cell_type": "code",
      "source": [
        "train_data.info()"
      ],
      "metadata": {
        "colab": {
          "base_uri": "https://localhost:8080/"
        },
        "id": "kFB6RPRyhfJz",
        "outputId": "1b5b407b-e5d5-4397-c51c-72f4ab56e650"
      },
      "execution_count": null,
      "outputs": [
        {
          "output_type": "stream",
          "name": "stdout",
          "text": [
            "<class 'pandas.core.frame.DataFrame'>\n",
            "Int64Index: 360 entries, 0 to 449\n",
            "Data columns (total 5 columns):\n",
            " #   Column          Non-Null Count  Dtype         \n",
            "---  ------          --------------  -----         \n",
            " 0   name            360 non-null    object        \n",
            " 1   review_img_url  360 non-null    object        \n",
            " 2   review_rating   360 non-null    int64         \n",
            " 3   review_text     360 non-null    object        \n",
            " 4   review_date     360 non-null    datetime64[ns]\n",
            "dtypes: datetime64[ns](1), int64(1), object(3)\n",
            "memory usage: 16.9+ KB\n"
          ]
        }
      ]
    },
    {
      "cell_type": "code",
      "source": [
        "train_data.head()"
      ],
      "metadata": {
        "colab": {
          "base_uri": "https://localhost:8080/",
          "height": 206
        },
        "id": "cMV0XorKhoCX",
        "outputId": "d893c8a4-a3e0-4735-ea1c-e1edf920082c"
      },
      "execution_count": null,
      "outputs": [
        {
          "output_type": "execute_result",
          "data": {
            "text/plain": [
              "                               name  \\\n",
              "0  Bebek Tepi Sawah Restaurant Ubud   \n",
              "1  Bebek Tepi Sawah Restaurant Ubud   \n",
              "3         Grand Garden Resto & Cafe   \n",
              "4           Koenokoeni Cafe Gallery   \n",
              "5           Koenokoeni Cafe Gallery   \n",
              "\n",
              "                                      review_img_url  review_rating  \\\n",
              "0  https://lh5.googleusercontent.com/p/AF1QipPgsL...              2   \n",
              "1  https://lh5.googleusercontent.com/p/AF1QipOiXB...              2   \n",
              "3  https://lh5.googleusercontent.com/p/AF1QipOhLM...              2   \n",
              "4  https://lh5.googleusercontent.com/p/AF1QipMJKP...              2   \n",
              "5  https://lh5.googleusercontent.com/p/AF1QipNxEU...              2   \n",
              "\n",
              "                                         review_text review_date  \n",
              "0  tempat nya luas juga bersih untuk makanan nya ...  2022-09-24  \n",
              "1  suasana yang sejuk dan asri menambah nafsu mak...  2022-03-14  \n",
              "3  bernuansa taman dari rumah klasik dengan banya...  2019-06-27  \n",
              "4  various menu dapat welcome drink jamu dan snac...  2022-09-22  \n",
              "5  tempatnya artsy makanannya enak makanan indone...  2022-06-01  "
            ],
            "text/html": [
              "\n",
              "  <div id=\"df-5cbefbec-91f4-4516-ab58-04bd1359bf76\">\n",
              "    <div class=\"colab-df-container\">\n",
              "      <div>\n",
              "<style scoped>\n",
              "    .dataframe tbody tr th:only-of-type {\n",
              "        vertical-align: middle;\n",
              "    }\n",
              "\n",
              "    .dataframe tbody tr th {\n",
              "        vertical-align: top;\n",
              "    }\n",
              "\n",
              "    .dataframe thead th {\n",
              "        text-align: right;\n",
              "    }\n",
              "</style>\n",
              "<table border=\"1\" class=\"dataframe\">\n",
              "  <thead>\n",
              "    <tr style=\"text-align: right;\">\n",
              "      <th></th>\n",
              "      <th>name</th>\n",
              "      <th>review_img_url</th>\n",
              "      <th>review_rating</th>\n",
              "      <th>review_text</th>\n",
              "      <th>review_date</th>\n",
              "    </tr>\n",
              "  </thead>\n",
              "  <tbody>\n",
              "    <tr>\n",
              "      <th>0</th>\n",
              "      <td>Bebek Tepi Sawah Restaurant Ubud</td>\n",
              "      <td>https://lh5.googleusercontent.com/p/AF1QipPgsL...</td>\n",
              "      <td>2</td>\n",
              "      <td>tempat nya luas juga bersih untuk makanan nya ...</td>\n",
              "      <td>2022-09-24</td>\n",
              "    </tr>\n",
              "    <tr>\n",
              "      <th>1</th>\n",
              "      <td>Bebek Tepi Sawah Restaurant Ubud</td>\n",
              "      <td>https://lh5.googleusercontent.com/p/AF1QipOiXB...</td>\n",
              "      <td>2</td>\n",
              "      <td>suasana yang sejuk dan asri menambah nafsu mak...</td>\n",
              "      <td>2022-03-14</td>\n",
              "    </tr>\n",
              "    <tr>\n",
              "      <th>3</th>\n",
              "      <td>Grand Garden Resto &amp; Cafe</td>\n",
              "      <td>https://lh5.googleusercontent.com/p/AF1QipOhLM...</td>\n",
              "      <td>2</td>\n",
              "      <td>bernuansa taman dari rumah klasik dengan banya...</td>\n",
              "      <td>2019-06-27</td>\n",
              "    </tr>\n",
              "    <tr>\n",
              "      <th>4</th>\n",
              "      <td>Koenokoeni Cafe Gallery</td>\n",
              "      <td>https://lh5.googleusercontent.com/p/AF1QipMJKP...</td>\n",
              "      <td>2</td>\n",
              "      <td>various menu dapat welcome drink jamu dan snac...</td>\n",
              "      <td>2022-09-22</td>\n",
              "    </tr>\n",
              "    <tr>\n",
              "      <th>5</th>\n",
              "      <td>Koenokoeni Cafe Gallery</td>\n",
              "      <td>https://lh5.googleusercontent.com/p/AF1QipNxEU...</td>\n",
              "      <td>2</td>\n",
              "      <td>tempatnya artsy makanannya enak makanan indone...</td>\n",
              "      <td>2022-06-01</td>\n",
              "    </tr>\n",
              "  </tbody>\n",
              "</table>\n",
              "</div>\n",
              "      <button class=\"colab-df-convert\" onclick=\"convertToInteractive('df-5cbefbec-91f4-4516-ab58-04bd1359bf76')\"\n",
              "              title=\"Convert this dataframe to an interactive table.\"\n",
              "              style=\"display:none;\">\n",
              "        \n",
              "  <svg xmlns=\"http://www.w3.org/2000/svg\" height=\"24px\"viewBox=\"0 0 24 24\"\n",
              "       width=\"24px\">\n",
              "    <path d=\"M0 0h24v24H0V0z\" fill=\"none\"/>\n",
              "    <path d=\"M18.56 5.44l.94 2.06.94-2.06 2.06-.94-2.06-.94-.94-2.06-.94 2.06-2.06.94zm-11 1L8.5 8.5l.94-2.06 2.06-.94-2.06-.94L8.5 2.5l-.94 2.06-2.06.94zm10 10l.94 2.06.94-2.06 2.06-.94-2.06-.94-.94-2.06-.94 2.06-2.06.94z\"/><path d=\"M17.41 7.96l-1.37-1.37c-.4-.4-.92-.59-1.43-.59-.52 0-1.04.2-1.43.59L10.3 9.45l-7.72 7.72c-.78.78-.78 2.05 0 2.83L4 21.41c.39.39.9.59 1.41.59.51 0 1.02-.2 1.41-.59l7.78-7.78 2.81-2.81c.8-.78.8-2.07 0-2.86zM5.41 20L4 18.59l7.72-7.72 1.47 1.35L5.41 20z\"/>\n",
              "  </svg>\n",
              "      </button>\n",
              "      \n",
              "  <style>\n",
              "    .colab-df-container {\n",
              "      display:flex;\n",
              "      flex-wrap:wrap;\n",
              "      gap: 12px;\n",
              "    }\n",
              "\n",
              "    .colab-df-convert {\n",
              "      background-color: #E8F0FE;\n",
              "      border: none;\n",
              "      border-radius: 50%;\n",
              "      cursor: pointer;\n",
              "      display: none;\n",
              "      fill: #1967D2;\n",
              "      height: 32px;\n",
              "      padding: 0 0 0 0;\n",
              "      width: 32px;\n",
              "    }\n",
              "\n",
              "    .colab-df-convert:hover {\n",
              "      background-color: #E2EBFA;\n",
              "      box-shadow: 0px 1px 2px rgba(60, 64, 67, 0.3), 0px 1px 3px 1px rgba(60, 64, 67, 0.15);\n",
              "      fill: #174EA6;\n",
              "    }\n",
              "\n",
              "    [theme=dark] .colab-df-convert {\n",
              "      background-color: #3B4455;\n",
              "      fill: #D2E3FC;\n",
              "    }\n",
              "\n",
              "    [theme=dark] .colab-df-convert:hover {\n",
              "      background-color: #434B5C;\n",
              "      box-shadow: 0px 1px 3px 1px rgba(0, 0, 0, 0.15);\n",
              "      filter: drop-shadow(0px 1px 2px rgba(0, 0, 0, 0.3));\n",
              "      fill: #FFFFFF;\n",
              "    }\n",
              "  </style>\n",
              "\n",
              "      <script>\n",
              "        const buttonEl =\n",
              "          document.querySelector('#df-5cbefbec-91f4-4516-ab58-04bd1359bf76 button.colab-df-convert');\n",
              "        buttonEl.style.display =\n",
              "          google.colab.kernel.accessAllowed ? 'block' : 'none';\n",
              "\n",
              "        async function convertToInteractive(key) {\n",
              "          const element = document.querySelector('#df-5cbefbec-91f4-4516-ab58-04bd1359bf76');\n",
              "          const dataTable =\n",
              "            await google.colab.kernel.invokeFunction('convertToInteractive',\n",
              "                                                     [key], {});\n",
              "          if (!dataTable) return;\n",
              "\n",
              "          const docLinkHtml = 'Like what you see? Visit the ' +\n",
              "            '<a target=\"_blank\" href=https://colab.research.google.com/notebooks/data_table.ipynb>data table notebook</a>'\n",
              "            + ' to learn more about interactive tables.';\n",
              "          element.innerHTML = '';\n",
              "          dataTable['output_type'] = 'display_data';\n",
              "          await google.colab.output.renderOutput(dataTable, element);\n",
              "          const docLink = document.createElement('div');\n",
              "          docLink.innerHTML = docLinkHtml;\n",
              "          element.appendChild(docLink);\n",
              "        }\n",
              "      </script>\n",
              "    </div>\n",
              "  </div>\n",
              "  "
            ]
          },
          "metadata": {},
          "execution_count": 163
        }
      ]
    },
    {
      "cell_type": "code",
      "source": [
        "val_data.info()"
      ],
      "metadata": {
        "colab": {
          "base_uri": "https://localhost:8080/"
        },
        "id": "ZjzX-CTrhhdK",
        "outputId": "ebcc2718-92ef-4126-efe9-614a145fbad1"
      },
      "execution_count": null,
      "outputs": [
        {
          "output_type": "stream",
          "name": "stdout",
          "text": [
            "<class 'pandas.core.frame.DataFrame'>\n",
            "Int64Index: 45 entries, 320 to 127\n",
            "Data columns (total 5 columns):\n",
            " #   Column          Non-Null Count  Dtype         \n",
            "---  ------          --------------  -----         \n",
            " 0   name            45 non-null     object        \n",
            " 1   review_img_url  45 non-null     object        \n",
            " 2   review_rating   45 non-null     int64         \n",
            " 3   review_text     45 non-null     object        \n",
            " 4   review_date     45 non-null     datetime64[ns]\n",
            "dtypes: datetime64[ns](1), int64(1), object(3)\n",
            "memory usage: 2.1+ KB\n"
          ]
        }
      ]
    },
    {
      "cell_type": "code",
      "source": [
        "val_data.head()"
      ],
      "metadata": {
        "colab": {
          "base_uri": "https://localhost:8080/",
          "height": 206
        },
        "id": "ZYymjTVchu-P",
        "outputId": "beffff6c-f70e-4743-93a0-f795cdd58a9f"
      },
      "execution_count": null,
      "outputs": [
        {
          "output_type": "execute_result",
          "data": {
            "text/plain": [
              "                              name  \\\n",
              "320          Pesta Keboen Restoran   \n",
              "385  ABHAYAGIRI - Venue and Dining   \n",
              "354               RM. Ampera 2 Tak   \n",
              "420              Gudeg Bu Hj. Amad   \n",
              "424              Gudeg Bu Hj. Amad   \n",
              "\n",
              "                                        review_img_url  review_rating  \\\n",
              "320  https://lh5.googleusercontent.com/p/AF1QipO02g...              0   \n",
              "385  https://lh5.googleusercontent.com/p/AF1QipM8Ul...              0   \n",
              "354  https://lh5.googleusercontent.com/p/AF1QipMMA4...              0   \n",
              "420  https://lh5.googleusercontent.com/p/AF1QipPSkU...              0   \n",
              "424  https://lh5.googleusercontent.com/p/AF1QipMSYe...              0   \n",
              "\n",
              "                                           review_text review_date  \n",
              "320  salah satu tempat makan di semarang yang bernu...  2017-02-17  \n",
              "385  paraaah ga bisa ala carte only buffet setau sa...  2019-05-04  \n",
              "354  i srlsy do not understand why my friends rekom...  2022-12-29  \n",
              "420  gudek kering yang enak jika tidak terlalu mani...  2018-05-28  \n",
              "424  beli paket c besek  rb gudegnya dikit banget g...  2021-12-24  "
            ],
            "text/html": [
              "\n",
              "  <div id=\"df-05f93636-6fea-4595-b8cc-6f8bfd2a9255\">\n",
              "    <div class=\"colab-df-container\">\n",
              "      <div>\n",
              "<style scoped>\n",
              "    .dataframe tbody tr th:only-of-type {\n",
              "        vertical-align: middle;\n",
              "    }\n",
              "\n",
              "    .dataframe tbody tr th {\n",
              "        vertical-align: top;\n",
              "    }\n",
              "\n",
              "    .dataframe thead th {\n",
              "        text-align: right;\n",
              "    }\n",
              "</style>\n",
              "<table border=\"1\" class=\"dataframe\">\n",
              "  <thead>\n",
              "    <tr style=\"text-align: right;\">\n",
              "      <th></th>\n",
              "      <th>name</th>\n",
              "      <th>review_img_url</th>\n",
              "      <th>review_rating</th>\n",
              "      <th>review_text</th>\n",
              "      <th>review_date</th>\n",
              "    </tr>\n",
              "  </thead>\n",
              "  <tbody>\n",
              "    <tr>\n",
              "      <th>320</th>\n",
              "      <td>Pesta Keboen Restoran</td>\n",
              "      <td>https://lh5.googleusercontent.com/p/AF1QipO02g...</td>\n",
              "      <td>0</td>\n",
              "      <td>salah satu tempat makan di semarang yang bernu...</td>\n",
              "      <td>2017-02-17</td>\n",
              "    </tr>\n",
              "    <tr>\n",
              "      <th>385</th>\n",
              "      <td>ABHAYAGIRI - Venue and Dining</td>\n",
              "      <td>https://lh5.googleusercontent.com/p/AF1QipM8Ul...</td>\n",
              "      <td>0</td>\n",
              "      <td>paraaah ga bisa ala carte only buffet setau sa...</td>\n",
              "      <td>2019-05-04</td>\n",
              "    </tr>\n",
              "    <tr>\n",
              "      <th>354</th>\n",
              "      <td>RM. Ampera 2 Tak</td>\n",
              "      <td>https://lh5.googleusercontent.com/p/AF1QipMMA4...</td>\n",
              "      <td>0</td>\n",
              "      <td>i srlsy do not understand why my friends rekom...</td>\n",
              "      <td>2022-12-29</td>\n",
              "    </tr>\n",
              "    <tr>\n",
              "      <th>420</th>\n",
              "      <td>Gudeg Bu Hj. Amad</td>\n",
              "      <td>https://lh5.googleusercontent.com/p/AF1QipPSkU...</td>\n",
              "      <td>0</td>\n",
              "      <td>gudek kering yang enak jika tidak terlalu mani...</td>\n",
              "      <td>2018-05-28</td>\n",
              "    </tr>\n",
              "    <tr>\n",
              "      <th>424</th>\n",
              "      <td>Gudeg Bu Hj. Amad</td>\n",
              "      <td>https://lh5.googleusercontent.com/p/AF1QipMSYe...</td>\n",
              "      <td>0</td>\n",
              "      <td>beli paket c besek  rb gudegnya dikit banget g...</td>\n",
              "      <td>2021-12-24</td>\n",
              "    </tr>\n",
              "  </tbody>\n",
              "</table>\n",
              "</div>\n",
              "      <button class=\"colab-df-convert\" onclick=\"convertToInteractive('df-05f93636-6fea-4595-b8cc-6f8bfd2a9255')\"\n",
              "              title=\"Convert this dataframe to an interactive table.\"\n",
              "              style=\"display:none;\">\n",
              "        \n",
              "  <svg xmlns=\"http://www.w3.org/2000/svg\" height=\"24px\"viewBox=\"0 0 24 24\"\n",
              "       width=\"24px\">\n",
              "    <path d=\"M0 0h24v24H0V0z\" fill=\"none\"/>\n",
              "    <path d=\"M18.56 5.44l.94 2.06.94-2.06 2.06-.94-2.06-.94-.94-2.06-.94 2.06-2.06.94zm-11 1L8.5 8.5l.94-2.06 2.06-.94-2.06-.94L8.5 2.5l-.94 2.06-2.06.94zm10 10l.94 2.06.94-2.06 2.06-.94-2.06-.94-.94-2.06-.94 2.06-2.06.94z\"/><path d=\"M17.41 7.96l-1.37-1.37c-.4-.4-.92-.59-1.43-.59-.52 0-1.04.2-1.43.59L10.3 9.45l-7.72 7.72c-.78.78-.78 2.05 0 2.83L4 21.41c.39.39.9.59 1.41.59.51 0 1.02-.2 1.41-.59l7.78-7.78 2.81-2.81c.8-.78.8-2.07 0-2.86zM5.41 20L4 18.59l7.72-7.72 1.47 1.35L5.41 20z\"/>\n",
              "  </svg>\n",
              "      </button>\n",
              "      \n",
              "  <style>\n",
              "    .colab-df-container {\n",
              "      display:flex;\n",
              "      flex-wrap:wrap;\n",
              "      gap: 12px;\n",
              "    }\n",
              "\n",
              "    .colab-df-convert {\n",
              "      background-color: #E8F0FE;\n",
              "      border: none;\n",
              "      border-radius: 50%;\n",
              "      cursor: pointer;\n",
              "      display: none;\n",
              "      fill: #1967D2;\n",
              "      height: 32px;\n",
              "      padding: 0 0 0 0;\n",
              "      width: 32px;\n",
              "    }\n",
              "\n",
              "    .colab-df-convert:hover {\n",
              "      background-color: #E2EBFA;\n",
              "      box-shadow: 0px 1px 2px rgba(60, 64, 67, 0.3), 0px 1px 3px 1px rgba(60, 64, 67, 0.15);\n",
              "      fill: #174EA6;\n",
              "    }\n",
              "\n",
              "    [theme=dark] .colab-df-convert {\n",
              "      background-color: #3B4455;\n",
              "      fill: #D2E3FC;\n",
              "    }\n",
              "\n",
              "    [theme=dark] .colab-df-convert:hover {\n",
              "      background-color: #434B5C;\n",
              "      box-shadow: 0px 1px 3px 1px rgba(0, 0, 0, 0.15);\n",
              "      filter: drop-shadow(0px 1px 2px rgba(0, 0, 0, 0.3));\n",
              "      fill: #FFFFFF;\n",
              "    }\n",
              "  </style>\n",
              "\n",
              "      <script>\n",
              "        const buttonEl =\n",
              "          document.querySelector('#df-05f93636-6fea-4595-b8cc-6f8bfd2a9255 button.colab-df-convert');\n",
              "        buttonEl.style.display =\n",
              "          google.colab.kernel.accessAllowed ? 'block' : 'none';\n",
              "\n",
              "        async function convertToInteractive(key) {\n",
              "          const element = document.querySelector('#df-05f93636-6fea-4595-b8cc-6f8bfd2a9255');\n",
              "          const dataTable =\n",
              "            await google.colab.kernel.invokeFunction('convertToInteractive',\n",
              "                                                     [key], {});\n",
              "          if (!dataTable) return;\n",
              "\n",
              "          const docLinkHtml = 'Like what you see? Visit the ' +\n",
              "            '<a target=\"_blank\" href=https://colab.research.google.com/notebooks/data_table.ipynb>data table notebook</a>'\n",
              "            + ' to learn more about interactive tables.';\n",
              "          element.innerHTML = '';\n",
              "          dataTable['output_type'] = 'display_data';\n",
              "          await google.colab.output.renderOutput(dataTable, element);\n",
              "          const docLink = document.createElement('div');\n",
              "          docLink.innerHTML = docLinkHtml;\n",
              "          element.appendChild(docLink);\n",
              "        }\n",
              "      </script>\n",
              "    </div>\n",
              "  </div>\n",
              "  "
            ]
          },
          "metadata": {},
          "execution_count": 165
        }
      ]
    },
    {
      "cell_type": "code",
      "source": [
        "test_data.info()"
      ],
      "metadata": {
        "colab": {
          "base_uri": "https://localhost:8080/"
        },
        "id": "MN1BZg9ThjYa",
        "outputId": "395c4aa7-842d-43aa-ebb7-c367b8273d50"
      },
      "execution_count": null,
      "outputs": [
        {
          "output_type": "stream",
          "name": "stdout",
          "text": [
            "<class 'pandas.core.frame.DataFrame'>\n",
            "Int64Index: 45 entries, 306 to 149\n",
            "Data columns (total 5 columns):\n",
            " #   Column          Non-Null Count  Dtype         \n",
            "---  ------          --------------  -----         \n",
            " 0   name            45 non-null     object        \n",
            " 1   review_img_url  45 non-null     object        \n",
            " 2   review_rating   45 non-null     int64         \n",
            " 3   review_text     45 non-null     object        \n",
            " 4   review_date     45 non-null     datetime64[ns]\n",
            "dtypes: datetime64[ns](1), int64(1), object(3)\n",
            "memory usage: 2.1+ KB\n"
          ]
        }
      ]
    },
    {
      "cell_type": "code",
      "source": [
        "test_data.head()"
      ],
      "metadata": {
        "colab": {
          "base_uri": "https://localhost:8080/",
          "height": 206
        },
        "id": "EFHGu6v-h16J",
        "outputId": "8b801513-25d7-420d-b6a2-40b6a10c41fc"
      },
      "execution_count": null,
      "outputs": [
        {
          "output_type": "execute_result",
          "data": {
            "text/plain": [
              "                        name  \\\n",
              "306  Koenokoeni Cafe Gallery   \n",
              "308  Koenokoeni Cafe Gallery   \n",
              "313    Pesta Keboen Restoran   \n",
              "318    Pesta Keboen Restoran   \n",
              "329           Konro Karebosi   \n",
              "\n",
              "                                        review_img_url  review_rating  \\\n",
              "306  https://lh5.googleusercontent.com/p/AF1QipMdUy...              0   \n",
              "308  https://lh5.googleusercontent.com/p/AF1QipMVWf...              0   \n",
              "313  https://lh3.googleusercontent.com/a-/ACNPEu_qH...              0   \n",
              "318  https://lh5.googleusercontent.com/p/AF1QipOv7A...              0   \n",
              "329  https://lh5.googleusercontent.com/p/AF1QipOGJI...              0   \n",
              "\n",
              "                                           review_text review_date  \n",
              "306  baru  x makan disini even lebaran ramai dan la...  2022-05-02  \n",
              "308  penyajian luama waiters dikit tok jadi kalau b...  2022-02-26  \n",
              "313  makanan nya datang nya lama banget sampai seja...  2022-07-06  \n",
              "318  pelayannya ramah tapi pelayanan untuk penyajia...  2021-04-29  \n",
              "329  konronya lumayan ini restoran terkenal seindon...  2017-11-01  "
            ],
            "text/html": [
              "\n",
              "  <div id=\"df-8411c879-891a-48f2-8fc8-1c47c54d08f3\">\n",
              "    <div class=\"colab-df-container\">\n",
              "      <div>\n",
              "<style scoped>\n",
              "    .dataframe tbody tr th:only-of-type {\n",
              "        vertical-align: middle;\n",
              "    }\n",
              "\n",
              "    .dataframe tbody tr th {\n",
              "        vertical-align: top;\n",
              "    }\n",
              "\n",
              "    .dataframe thead th {\n",
              "        text-align: right;\n",
              "    }\n",
              "</style>\n",
              "<table border=\"1\" class=\"dataframe\">\n",
              "  <thead>\n",
              "    <tr style=\"text-align: right;\">\n",
              "      <th></th>\n",
              "      <th>name</th>\n",
              "      <th>review_img_url</th>\n",
              "      <th>review_rating</th>\n",
              "      <th>review_text</th>\n",
              "      <th>review_date</th>\n",
              "    </tr>\n",
              "  </thead>\n",
              "  <tbody>\n",
              "    <tr>\n",
              "      <th>306</th>\n",
              "      <td>Koenokoeni Cafe Gallery</td>\n",
              "      <td>https://lh5.googleusercontent.com/p/AF1QipMdUy...</td>\n",
              "      <td>0</td>\n",
              "      <td>baru  x makan disini even lebaran ramai dan la...</td>\n",
              "      <td>2022-05-02</td>\n",
              "    </tr>\n",
              "    <tr>\n",
              "      <th>308</th>\n",
              "      <td>Koenokoeni Cafe Gallery</td>\n",
              "      <td>https://lh5.googleusercontent.com/p/AF1QipMVWf...</td>\n",
              "      <td>0</td>\n",
              "      <td>penyajian luama waiters dikit tok jadi kalau b...</td>\n",
              "      <td>2022-02-26</td>\n",
              "    </tr>\n",
              "    <tr>\n",
              "      <th>313</th>\n",
              "      <td>Pesta Keboen Restoran</td>\n",
              "      <td>https://lh3.googleusercontent.com/a-/ACNPEu_qH...</td>\n",
              "      <td>0</td>\n",
              "      <td>makanan nya datang nya lama banget sampai seja...</td>\n",
              "      <td>2022-07-06</td>\n",
              "    </tr>\n",
              "    <tr>\n",
              "      <th>318</th>\n",
              "      <td>Pesta Keboen Restoran</td>\n",
              "      <td>https://lh5.googleusercontent.com/p/AF1QipOv7A...</td>\n",
              "      <td>0</td>\n",
              "      <td>pelayannya ramah tapi pelayanan untuk penyajia...</td>\n",
              "      <td>2021-04-29</td>\n",
              "    </tr>\n",
              "    <tr>\n",
              "      <th>329</th>\n",
              "      <td>Konro Karebosi</td>\n",
              "      <td>https://lh5.googleusercontent.com/p/AF1QipOGJI...</td>\n",
              "      <td>0</td>\n",
              "      <td>konronya lumayan ini restoran terkenal seindon...</td>\n",
              "      <td>2017-11-01</td>\n",
              "    </tr>\n",
              "  </tbody>\n",
              "</table>\n",
              "</div>\n",
              "      <button class=\"colab-df-convert\" onclick=\"convertToInteractive('df-8411c879-891a-48f2-8fc8-1c47c54d08f3')\"\n",
              "              title=\"Convert this dataframe to an interactive table.\"\n",
              "              style=\"display:none;\">\n",
              "        \n",
              "  <svg xmlns=\"http://www.w3.org/2000/svg\" height=\"24px\"viewBox=\"0 0 24 24\"\n",
              "       width=\"24px\">\n",
              "    <path d=\"M0 0h24v24H0V0z\" fill=\"none\"/>\n",
              "    <path d=\"M18.56 5.44l.94 2.06.94-2.06 2.06-.94-2.06-.94-.94-2.06-.94 2.06-2.06.94zm-11 1L8.5 8.5l.94-2.06 2.06-.94-2.06-.94L8.5 2.5l-.94 2.06-2.06.94zm10 10l.94 2.06.94-2.06 2.06-.94-2.06-.94-.94-2.06-.94 2.06-2.06.94z\"/><path d=\"M17.41 7.96l-1.37-1.37c-.4-.4-.92-.59-1.43-.59-.52 0-1.04.2-1.43.59L10.3 9.45l-7.72 7.72c-.78.78-.78 2.05 0 2.83L4 21.41c.39.39.9.59 1.41.59.51 0 1.02-.2 1.41-.59l7.78-7.78 2.81-2.81c.8-.78.8-2.07 0-2.86zM5.41 20L4 18.59l7.72-7.72 1.47 1.35L5.41 20z\"/>\n",
              "  </svg>\n",
              "      </button>\n",
              "      \n",
              "  <style>\n",
              "    .colab-df-container {\n",
              "      display:flex;\n",
              "      flex-wrap:wrap;\n",
              "      gap: 12px;\n",
              "    }\n",
              "\n",
              "    .colab-df-convert {\n",
              "      background-color: #E8F0FE;\n",
              "      border: none;\n",
              "      border-radius: 50%;\n",
              "      cursor: pointer;\n",
              "      display: none;\n",
              "      fill: #1967D2;\n",
              "      height: 32px;\n",
              "      padding: 0 0 0 0;\n",
              "      width: 32px;\n",
              "    }\n",
              "\n",
              "    .colab-df-convert:hover {\n",
              "      background-color: #E2EBFA;\n",
              "      box-shadow: 0px 1px 2px rgba(60, 64, 67, 0.3), 0px 1px 3px 1px rgba(60, 64, 67, 0.15);\n",
              "      fill: #174EA6;\n",
              "    }\n",
              "\n",
              "    [theme=dark] .colab-df-convert {\n",
              "      background-color: #3B4455;\n",
              "      fill: #D2E3FC;\n",
              "    }\n",
              "\n",
              "    [theme=dark] .colab-df-convert:hover {\n",
              "      background-color: #434B5C;\n",
              "      box-shadow: 0px 1px 3px 1px rgba(0, 0, 0, 0.15);\n",
              "      filter: drop-shadow(0px 1px 2px rgba(0, 0, 0, 0.3));\n",
              "      fill: #FFFFFF;\n",
              "    }\n",
              "  </style>\n",
              "\n",
              "      <script>\n",
              "        const buttonEl =\n",
              "          document.querySelector('#df-8411c879-891a-48f2-8fc8-1c47c54d08f3 button.colab-df-convert');\n",
              "        buttonEl.style.display =\n",
              "          google.colab.kernel.accessAllowed ? 'block' : 'none';\n",
              "\n",
              "        async function convertToInteractive(key) {\n",
              "          const element = document.querySelector('#df-8411c879-891a-48f2-8fc8-1c47c54d08f3');\n",
              "          const dataTable =\n",
              "            await google.colab.kernel.invokeFunction('convertToInteractive',\n",
              "                                                     [key], {});\n",
              "          if (!dataTable) return;\n",
              "\n",
              "          const docLinkHtml = 'Like what you see? Visit the ' +\n",
              "            '<a target=\"_blank\" href=https://colab.research.google.com/notebooks/data_table.ipynb>data table notebook</a>'\n",
              "            + ' to learn more about interactive tables.';\n",
              "          element.innerHTML = '';\n",
              "          dataTable['output_type'] = 'display_data';\n",
              "          await google.colab.output.renderOutput(dataTable, element);\n",
              "          const docLink = document.createElement('div');\n",
              "          docLink.innerHTML = docLinkHtml;\n",
              "          element.appendChild(docLink);\n",
              "        }\n",
              "      </script>\n",
              "    </div>\n",
              "  </div>\n",
              "  "
            ]
          },
          "metadata": {},
          "execution_count": 167
        }
      ]
    },
    {
      "cell_type": "code",
      "source": [
        "# Define function export data to export dataframe to csv file\n",
        "def export_data(df,data_name):\n",
        "  name_file = data_name+'.xlsx'\n",
        "  df.to_excel(name_file)\n",
        "  files.download(name_file)\n",
        "  msg = 'Success Export Data'\n",
        "  return msg"
      ],
      "metadata": {
        "id": "Ug8tGghBh3nu"
      },
      "execution_count": null,
      "outputs": []
    },
    {
      "cell_type": "code",
      "source": [
        "# Export data train\n",
        "export_data(train_data,train_data_name)"
      ],
      "metadata": {
        "colab": {
          "base_uri": "https://localhost:8080/",
          "height": 53
        },
        "id": "2WnwijdSjCdh",
        "outputId": "de51a8a5-5a54-4a6d-f3c6-971d27c3679e"
      },
      "execution_count": null,
      "outputs": [
        {
          "output_type": "display_data",
          "data": {
            "text/plain": [
              "<IPython.core.display.Javascript object>"
            ],
            "application/javascript": [
              "\n",
              "    async function download(id, filename, size) {\n",
              "      if (!google.colab.kernel.accessAllowed) {\n",
              "        return;\n",
              "      }\n",
              "      const div = document.createElement('div');\n",
              "      const label = document.createElement('label');\n",
              "      label.textContent = `Downloading \"${filename}\": `;\n",
              "      div.appendChild(label);\n",
              "      const progress = document.createElement('progress');\n",
              "      progress.max = size;\n",
              "      div.appendChild(progress);\n",
              "      document.body.appendChild(div);\n",
              "\n",
              "      const buffers = [];\n",
              "      let downloaded = 0;\n",
              "\n",
              "      const channel = await google.colab.kernel.comms.open(id);\n",
              "      // Send a message to notify the kernel that we're ready.\n",
              "      channel.send({})\n",
              "\n",
              "      for await (const message of channel.messages) {\n",
              "        // Send a message to notify the kernel that we're ready.\n",
              "        channel.send({})\n",
              "        if (message.buffers) {\n",
              "          for (const buffer of message.buffers) {\n",
              "            buffers.push(buffer);\n",
              "            downloaded += buffer.byteLength;\n",
              "            progress.value = downloaded;\n",
              "          }\n",
              "        }\n",
              "      }\n",
              "      const blob = new Blob(buffers, {type: 'application/binary'});\n",
              "      const a = document.createElement('a');\n",
              "      a.href = window.URL.createObjectURL(blob);\n",
              "      a.download = filename;\n",
              "      div.appendChild(a);\n",
              "      a.click();\n",
              "      div.remove();\n",
              "    }\n",
              "  "
            ]
          },
          "metadata": {}
        },
        {
          "output_type": "display_data",
          "data": {
            "text/plain": [
              "<IPython.core.display.Javascript object>"
            ],
            "application/javascript": [
              "download(\"download_cbdb1f13-27de-4afd-b416-deaae9038a72\", \"lokal_mahal_train.xlsx\", 73404)"
            ]
          },
          "metadata": {}
        },
        {
          "output_type": "execute_result",
          "data": {
            "text/plain": [
              "'Success Export Data'"
            ],
            "application/vnd.google.colaboratory.intrinsic+json": {
              "type": "string"
            }
          },
          "metadata": {},
          "execution_count": 169
        }
      ]
    },
    {
      "cell_type": "code",
      "source": [
        "# Export data validation\n",
        "export_data(val_data,val_data_name)"
      ],
      "metadata": {
        "colab": {
          "base_uri": "https://localhost:8080/",
          "height": 53
        },
        "id": "J4cNg5Hwjjxx",
        "outputId": "e4a10a09-1f79-4a2d-ce46-3ffbab0e8812"
      },
      "execution_count": null,
      "outputs": [
        {
          "output_type": "display_data",
          "data": {
            "text/plain": [
              "<IPython.core.display.Javascript object>"
            ],
            "application/javascript": [
              "\n",
              "    async function download(id, filename, size) {\n",
              "      if (!google.colab.kernel.accessAllowed) {\n",
              "        return;\n",
              "      }\n",
              "      const div = document.createElement('div');\n",
              "      const label = document.createElement('label');\n",
              "      label.textContent = `Downloading \"${filename}\": `;\n",
              "      div.appendChild(label);\n",
              "      const progress = document.createElement('progress');\n",
              "      progress.max = size;\n",
              "      div.appendChild(progress);\n",
              "      document.body.appendChild(div);\n",
              "\n",
              "      const buffers = [];\n",
              "      let downloaded = 0;\n",
              "\n",
              "      const channel = await google.colab.kernel.comms.open(id);\n",
              "      // Send a message to notify the kernel that we're ready.\n",
              "      channel.send({})\n",
              "\n",
              "      for await (const message of channel.messages) {\n",
              "        // Send a message to notify the kernel that we're ready.\n",
              "        channel.send({})\n",
              "        if (message.buffers) {\n",
              "          for (const buffer of message.buffers) {\n",
              "            buffers.push(buffer);\n",
              "            downloaded += buffer.byteLength;\n",
              "            progress.value = downloaded;\n",
              "          }\n",
              "        }\n",
              "      }\n",
              "      const blob = new Blob(buffers, {type: 'application/binary'});\n",
              "      const a = document.createElement('a');\n",
              "      a.href = window.URL.createObjectURL(blob);\n",
              "      a.download = filename;\n",
              "      div.appendChild(a);\n",
              "      a.click();\n",
              "      div.remove();\n",
              "    }\n",
              "  "
            ]
          },
          "metadata": {}
        },
        {
          "output_type": "display_data",
          "data": {
            "text/plain": [
              "<IPython.core.display.Javascript object>"
            ],
            "application/javascript": [
              "download(\"download_3b3f2b36-a690-404b-abdd-cc203727beee\", \"lokal_mahal_val.xlsx\", 12999)"
            ]
          },
          "metadata": {}
        },
        {
          "output_type": "execute_result",
          "data": {
            "text/plain": [
              "'Success Export Data'"
            ],
            "application/vnd.google.colaboratory.intrinsic+json": {
              "type": "string"
            }
          },
          "metadata": {},
          "execution_count": 170
        }
      ]
    },
    {
      "cell_type": "code",
      "source": [
        "# Export data validation\n",
        "export_data(test_data,test_data_name)"
      ],
      "metadata": {
        "colab": {
          "base_uri": "https://localhost:8080/",
          "height": 53
        },
        "id": "rS1WQxvWjqjF",
        "outputId": "f7257564-f009-475a-afe4-9dcdfaa82f36"
      },
      "execution_count": null,
      "outputs": [
        {
          "output_type": "display_data",
          "data": {
            "text/plain": [
              "<IPython.core.display.Javascript object>"
            ],
            "application/javascript": [
              "\n",
              "    async function download(id, filename, size) {\n",
              "      if (!google.colab.kernel.accessAllowed) {\n",
              "        return;\n",
              "      }\n",
              "      const div = document.createElement('div');\n",
              "      const label = document.createElement('label');\n",
              "      label.textContent = `Downloading \"${filename}\": `;\n",
              "      div.appendChild(label);\n",
              "      const progress = document.createElement('progress');\n",
              "      progress.max = size;\n",
              "      div.appendChild(progress);\n",
              "      document.body.appendChild(div);\n",
              "\n",
              "      const buffers = [];\n",
              "      let downloaded = 0;\n",
              "\n",
              "      const channel = await google.colab.kernel.comms.open(id);\n",
              "      // Send a message to notify the kernel that we're ready.\n",
              "      channel.send({})\n",
              "\n",
              "      for await (const message of channel.messages) {\n",
              "        // Send a message to notify the kernel that we're ready.\n",
              "        channel.send({})\n",
              "        if (message.buffers) {\n",
              "          for (const buffer of message.buffers) {\n",
              "            buffers.push(buffer);\n",
              "            downloaded += buffer.byteLength;\n",
              "            progress.value = downloaded;\n",
              "          }\n",
              "        }\n",
              "      }\n",
              "      const blob = new Blob(buffers, {type: 'application/binary'});\n",
              "      const a = document.createElement('a');\n",
              "      a.href = window.URL.createObjectURL(blob);\n",
              "      a.download = filename;\n",
              "      div.appendChild(a);\n",
              "      a.click();\n",
              "      div.remove();\n",
              "    }\n",
              "  "
            ]
          },
          "metadata": {}
        },
        {
          "output_type": "display_data",
          "data": {
            "text/plain": [
              "<IPython.core.display.Javascript object>"
            ],
            "application/javascript": [
              "download(\"download_f40b6005-11d9-4af2-8ec5-0879967f42d1\", \"lokal_mahal_test.xlsx\", 14585)"
            ]
          },
          "metadata": {}
        },
        {
          "output_type": "execute_result",
          "data": {
            "text/plain": [
              "'Success Export Data'"
            ],
            "application/vnd.google.colaboratory.intrinsic+json": {
              "type": "string"
            }
          },
          "metadata": {},
          "execution_count": 171
        }
      ]
    }
  ]
}